{
 "cells": [
  {
   "attachments": {},
   "cell_type": "markdown",
   "metadata": {},
   "source": [
    "Q1:-\n",
    "\n",
    "Bokeh is a Python library used for creating interactive visualizations and plots for web browsers. To create a Bokeh plot using Python code, you can follow the following steps:\n",
    "\n",
    "Import the necessary Bokeh modules such as figure, output_file, show, etc.\n",
    "Define the data that you want to plot using ColumnDataSource.\n",
    "Create a Bokeh figure object and specify the plot attributes such as title, axis labels, etc.\n",
    "Add glyphs (shapes and markers) to the figure using the circle, line, or rect methods.\n",
    "Specify any other customizations such as color, size, alpha, and line width for the glyphs.\n",
    "Finally, call the show method to display the plot in the default web browser or use output_file to save the plot as an HTML file.\n",
    "Here is an example code snippet to create a simple scatter plot using Bokeh:\n"
   ]
  },
  {
   "cell_type": "code",
   "execution_count": 1,
   "metadata": {},
   "outputs": [],
   "source": [
    "from bokeh.plotting import figure, output_file, show\n",
    "\n",
    "# Define the data to be plotted\n",
    "x = [1, 2, 3, 4, 5]\n",
    "y = [6, 7, 2, 4, 5]\n",
    "\n",
    "# Create a figure object\n",
    "p = figure(title=\"Scatter Plot\", x_axis_label='X-axis', y_axis_label='Y-axis')\n",
    "\n",
    "# Add circle glyphs to the figure\n",
    "p.circle(x ,y , size=10)\n",
    "\n",
    "# Specify customizations\n",
    "p.title.text_font_size = \"20pt\"\n",
    "p.title.align = \"center\"\n",
    "p.xaxis.axis_label_text_font_size = \"14pt\"\n",
    "p.yaxis.axis_label_text_font_size = \"14pt\"\n",
    "\n",
    "# Save the plot as an HTML file\n",
    "output_file(\"scatter_plot.html\")\n",
    "\n",
    "# Display the plot in the default web browser\n",
    "show(p)\n"
   ]
  },
  {
   "attachments": {},
   "cell_type": "markdown",
   "metadata": {},
   "source": [
    "Q2:-\n",
    "\n",
    "Glyphs are basic shapes and markers used in Bokeh plots to represent data points visually. Some of the commonly used glyphs in Bokeh are circles, squares, triangles, lines, and bars. You can add glyphs to a Bokeh plot using the circle, square, triangle, line, and other similar methods provided by the figure object.\n",
    "\n",
    "Here is an example code snippet that demonstrates how to add circle glyphs to a Bokeh plot:\n"
   ]
  },
  {
   "cell_type": "code",
   "execution_count": 2,
   "metadata": {},
   "outputs": [],
   "source": [
    "from bokeh.plotting import figure, output_file, show\n",
    "\n",
    "# Define the data to be plotted\n",
    "x = [1, 2, 3, 4, 5]\n",
    "y = [6, 7, 2, 4, 5]\n",
    "\n",
    "# Create a figure object\n",
    "p = figure(title=\"Scatter Plot\", x_axis_label='X-axis', y_axis_label='Y-axis')\n",
    "\n",
    "# Add circle glyphs to the figure\n",
    "p.circle(x, y, size=10, color='navy')\n",
    "\n",
    "# Save the plot as an HTML file\n",
    "output_file(\"circle_plot.html\")\n",
    "\n",
    "# Display the plot in the default web browser\n",
    "show(p)\n"
   ]
  },
  {
   "attachments": {},
   "cell_type": "markdown",
   "metadata": {},
   "source": [
    "In this example, the circle method is used to add circle glyphs to the figure. The x and y arguments specify the data to be plotted, while the size argument determines the size of the circles. The color argument specifies the color of the circles."
   ]
  },
  {
   "attachments": {},
   "cell_type": "markdown",
   "metadata": {},
   "source": [
    "Q3:-\n",
    "\n",
    "To customize the appearance of a Bokeh plot, including the axes, title, and legend, we can use various styling options provided by Bokeh. Here are some examples:\n",
    "\n",
    "To customize the title of the plot, we can set the \"title\" attribute of the plot object: plot.title.text = \"My Plot Title\"\n",
    "To customize the appearance of the axes, you can set the attributes of the axis objects: plot.xaxis.axis_label = \"X-axis Label\" or plot.yaxis.axis_line_width = 2\n",
    "To customize the legend, we can set the \"legend\" attribute of the plot object and specify the position, orientation, and other options: plot.legend.location = \"top_left\"\n",
    "In addition to these basic styling options, Bokeh also provides more advanced options for customizing the appearance of glyphs, color maps, annotations, and more."
   ]
  },
  {
   "attachments": {},
   "cell_type": "markdown",
   "metadata": {},
   "source": [
    "Q4:-\n",
    "\n",
    "A Bokeh server is a Python process that allows you to create and serve interactive Bokeh plots and applications that can be updated in real time. To use the Bokeh server, you first need to define a \"Bokeh application\" that specifies the layout and behavior of the plot or plots you want to serve. This application can be defined using the Bokeh models and tools, and can also include Python callbacks that respond to user interactions or data updates.\n",
    "\n",
    "Once you have defined your Bokeh application, you can start the Bokeh server using the bokeh serve command, and specify the location of your application file. This will launch a web server that serves your Bokeh application, and allows multiple users to interact with it simultaneously. The Bokeh server also provides a websocket-based protocol that allows data to be streamed to the client in real time, so that the plot or plots can be updated automatically as the underlying data changes."
   ]
  },
  {
   "attachments": {},
   "cell_type": "markdown",
   "metadata": {},
   "source": [
    "Q5:-\n",
    "\n",
    "To embed a Bokeh plot into a web page or dashboard using Flask or Django, you can use the Bokeh components function to generate the necessary HTML and JavaScript code for embedding the plot. Here's an example using Flask:"
   ]
  },
  {
   "cell_type": "code",
   "execution_count": 3,
   "metadata": {},
   "outputs": [
    {
     "name": "stdout",
     "output_type": "stream",
     "text": [
      " * Serving Flask app \"__main__\" (lazy loading)\n",
      " * Environment: production\n",
      "   WARNING: This is a development server. Do not use it in a production deployment.\n",
      "   Use a production WSGI server instead.\n",
      " * Debug mode: off\n"
     ]
    },
    {
     "name": "stderr",
     "output_type": "stream",
     "text": [
      " * Running on http://127.0.0.1:5000/ (Press CTRL+C to quit)\n",
      "127.0.0.1 - - [13/Apr/2023 15:27:27] \"\u001b[37mGET / HTTP/1.1\u001b[0m\" 200 -\n",
      "127.0.0.1 - - [13/Apr/2023 15:29:32] \"\u001b[37mGET / HTTP/1.1\u001b[0m\" 200 -\n"
     ]
    }
   ],
   "source": [
    "# Importing required functions\n",
    "import random\n",
    "\n",
    "from flask import Flask, render_template\n",
    "from bokeh.embed import components\n",
    "from bokeh.plotting import figure\n",
    "\n",
    "# Flask constructor\n",
    "app = Flask(__name__)\n",
    "\n",
    "# Root endpoint\n",
    "@app.route('/')\n",
    "def homepage():\n",
    "\n",
    "\t# First Chart - Scatter Plot\n",
    "\tp1 = figure(height=350, sizing_mode=\"stretch_width\")\n",
    "\tp1.circle(\n",
    "\t\t[i for i in range(10)],\n",
    "\t\t[random.randint(1, 50) for j in range(10)],\n",
    "\t\tsize=20,\n",
    "\t\tcolor=\"navy\",\n",
    "\t\talpha=0.5\n",
    "\t)\n",
    "\n",
    "\t# Second Chart - Line Plot\n",
    "\tlanguage = ['Python', 'JavaScript', 'C++', 'C#', 'Java', 'Golang']\n",
    "\tpopularity = [85, 91, 63, 58, 80, 77]\n",
    "\n",
    "\tp2 = figure(\n",
    "\t\tx_range=language,\n",
    "\t\theight=350,\n",
    "\t\ttitle=\"Popularity\",\n",
    "\t)\n",
    "\tp2.vbar(x=language, top=popularity, width=0.5)\n",
    "\tp2.xgrid.grid_line_color = None\n",
    "\tp2.y_range.start = 0\n",
    "\n",
    "\t# Third Chart - Line Plot\n",
    "\tp3 = figure(height=350, sizing_mode=\"stretch_width\")\n",
    "\tp3.line(\n",
    "\t\t[i for i in range(10)],\n",
    "\t\t[random.randint(1, 50) for j in range(10)],\n",
    "\t\tline_width=2,\n",
    "\t\tcolor=\"olive\",\n",
    "\t\talpha=0.5\n",
    "\t)\n",
    "\n",
    "\tscript1, div1 = components(p1)\n",
    "\tscript2, div2 = components(p2)\n",
    "\tscript3, div3 = components(p3)\n",
    "\n",
    "\t# Return all the charts to the HTML template\n",
    "\treturn render_template(\n",
    "\t\ttemplate_name_or_list='charts.html',\n",
    "\t\tscript=[script1, script2, script3],\n",
    "\t\tdiv=[div1, div2, div3],\n",
    "\t)\n",
    "\n",
    "\n",
    "# Main Driver Function\n",
    "if __name__ == '__main__':\n",
    "\t# Run the application on the local development server\n",
    "\tapp.run()\n",
    "\n"
   ]
  },
  {
   "attachments": {},
   "cell_type": "markdown",
   "metadata": {},
   "source": [
    "<!DOCTYPE html>\n",
    "<html lang=\"en\">\n",
    "\n",
    "<head>\n",
    "\t<meta charset=\"utf-8\">\n",
    "\t<meta name=\"viewport\" content=\"width=device-width, initial-scale=1\">\n",
    "\n",
    "\t<link href=\"https://cdn.jsdelivr.net/npm/bootstrap@5.2.2/dist/css/bootstrap.min.css\" rel=\"stylesheet\"\n",
    "\t\tintegrity=\"sha384-Zenh87qX5JnK2Jl0vWa8Ck2rdkQ2Bzep5IDxbcnCeuOxjzrPF/et3URy9Bv1WTRi\" crossorigin=\"anonymous\">\n",
    "\n",
    "\t<!-- <link href=\"http://cdn.bokeh.org/bokeh/release/bokeh-3.0.1.min.css\" rel=\"stylesheet\" type=\"text/css\"> -->\n",
    "\t<script src=\"https://cdnjs.cloudflare.com/ajax/libs/bokeh/3.0.1/bokeh.min.js\"\n",
    "\t\tintegrity=\"sha512-p7EUyPmeDeOwHiu7fIZNboAcQLxei3sWtXoHoShWWiPNUSRng/Xs5JPcaFPRa4dKy9IuHjyIQuLE4caGCwuewA==\"\n",
    "\t\tcrossorigin=\"anonymous\" referrerpolicy=\"no-referrer\"></script>\n",
    "\n",
    "\t<title>Bokeh Charts</title>\n",
    "</head>\n",
    "\n",
    "<body>\n",
    "\n",
    "\t<div class=\"container\">\n",
    "\t\t<h1 class=\"text-center py-4\">Responsive Chart with Bokeh, Flask and Python</h1>\n",
    "\t\t<div class=\"row mb-5\">\n",
    "\t\t\t<div class=\"col-md-6\">\n",
    "\t\t\t\t<h4 class=\"text-center\">Scatter Plot</h4>\n",
    "\t\t\t\t{{ div[0] | safe }}\n",
    "\t\t\t\t{{ script[0] | safe }}\n",
    "\t\t\t</div>\n",
    "\t\t\t<div class=\"col-md-6\">\n",
    "\t\t\t\t<h4 class=\"text-center\">Bar Chart</h4>\n",
    "\t\t\t\t{{ div[1] | safe }}\n",
    "\t\t\t\t{{ script[1] | safe }}\n",
    "\t\t\t</div>\n",
    "\t\t</div>\n",
    "\t\t<div class=\"row\">\n",
    "\t\t\t<div class=\"col-md-12\">\n",
    "\t\t\t\t<h4 class=\"text-center\">Line Chart</h4>\n",
    "\t\t\t\t{{ div[2] | safe }}\n",
    "\t\t\t\t{{ script[2] | safe }}\n",
    "\t\t\t</div>\n",
    "\t\t</div>\n",
    "\t</div>\n",
    "\n",
    "</body>\n",
    "\n",
    "</html>\n"
   ]
  },
  {
   "attachments": {},
   "cell_type": "markdown",
   "metadata": {},
   "source": [
    "![bokeh output](bokeh.png)"
   ]
  }
 ],
 "metadata": {
  "kernelspec": {
   "display_name": "Python 3",
   "language": "python",
   "name": "python3"
  },
  "language_info": {
   "codemirror_mode": {
    "name": "ipython",
    "version": 3
   },
   "file_extension": ".py",
   "mimetype": "text/x-python",
   "name": "python",
   "nbconvert_exporter": "python",
   "pygments_lexer": "ipython3",
   "version": "3.11.2"
  },
  "orig_nbformat": 4
 },
 "nbformat": 4,
 "nbformat_minor": 2
}
