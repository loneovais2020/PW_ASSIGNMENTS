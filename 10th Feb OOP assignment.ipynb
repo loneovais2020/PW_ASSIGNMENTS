{
 "cells": [
  {
   "cell_type": "markdown",
   "metadata": {},
   "source": [
    "Q1:-\n",
    "\n",
    " The open() function is used to open a file in Python. It takes two arguments: the file path and the mode of opening the file. The different modes of opening a file are:\n",
    "\n",
    "\"r\": read mode (default). It opens the file for reading and throws an error if the file doesn't exist.\n",
    "\n",
    "\"w\": write mode. It opens the file for writing and creates a new file if it doesn't exist. It overwrites the file if it already exists.\n",
    "\n",
    "\"a\": append mode. It opens the file for writing but doesn't overwrite the existing content of the file. Instead, it adds new data at the end of the file.\n",
    "\n",
    "\"x\": exclusive creation mode. It creates a new file but throws an error if the file already exists.\n",
    "\"b\": binary mode. It opens the file in binary mode instead of text mode.\n",
    "\n",
    "\"t\": text mode (default). It opens the file in text mode.\n",
    "\n",
    "Here is an example of opening a file in read mode:\n",
    "\n",
    "file = open(\"file.txt\", \"r\")\n"
   ]
  },
  {
   "cell_type": "markdown",
   "metadata": {},
   "source": [
    "Q2:-\n",
    "\n",
    "The close() function is used to close a file in Python. It is important to close a file because it releases the resources that were being used by the file, such as memory and CPU cycles. Not closing a file can result in data loss or corruption.\n",
    "\n",
    "Here is an example of using the close() function:"
   ]
  },
  {
   "cell_type": "code",
   "execution_count": null,
   "metadata": {},
   "outputs": [],
   "source": [
    "file = open(\"file.txt\", \"r\")\n",
    "# do something with the file\n",
    "file.close()\n"
   ]
  },
  {
   "cell_type": "markdown",
   "metadata": {},
   "source": [
    "Q3:-\n",
    "\n",
    " Here is a Python program to create a text file, write a sentence in it, close the file, and then read the content of the file:"
   ]
  },
  {
   "cell_type": "code",
   "execution_count": null,
   "metadata": {},
   "outputs": [],
   "source": [
    "# create file and write to it\n",
    "file = open(\"file.txt\", \"w\")\n",
    "file.write(\"I want to become a Data Scientist\")\n",
    "file.close()\n",
    "\n",
    "# open file and read its content\n",
    "file = open(\"file.txt\", \"r\")\n",
    "content = file.read()\n",
    "print(content)\n",
    "file.close()\n"
   ]
  },
  {
   "cell_type": "markdown",
   "metadata": {},
   "source": [
    "Q4:-\n",
    "\n",
    " The read() function reads the entire content of a file and returns it as a string. The readline() function reads one line at a time and returns it as a string. The readlines() function reads all the lines of a file and returns them as a list of strings, with each line as an element of the list.\n",
    "\n",
    "Here is an example of using these functions:"
   ]
  },
  {
   "cell_type": "code",
   "execution_count": null,
   "metadata": {},
   "outputs": [],
   "source": [
    "# create file and write to it\n",
    "file = open(\"file.txt\", \"w\")\n",
    "file.write(\"Line 1\\nLine 2\\nLine 3\")\n",
    "file.close()\n",
    "\n",
    "# open file and read its content using read()\n",
    "file = open(\"file.txt\", \"r\")\n",
    "content = file.read()\n",
    "print(content)\n",
    "file.close()\n",
    "\n",
    "# open file and read its content using readline()\n",
    "file = open(\"file.txt\", \"r\")\n",
    "line1 = file.readline()\n",
    "line2 = file.readline()\n",
    "line3 = file.readline()\n",
    "print(line1, end=\"\")\n",
    "print(line2, end=\"\")\n",
    "print(line3, end=\"\")\n",
    "file.close()\n",
    "\n",
    "# open file and read its content using readlines()\n",
    "file = open(\"file.txt\", \"r\")\n",
    "lines = file.readlines()\n",
    "print(lines)\n",
    "file.close()\n"
   ]
  },
  {
   "cell_type": "markdown",
   "metadata": {},
   "source": [
    "Q5:-\n",
    "\n",
    " The with statement in Python is used in combination with the open() function to automatically handle the closing of the file after the block of code is executed. This is because open() returns a file object and the file object needs to be closed after it is used. Failure to close the file can result in resource leaks and data corruption.\n",
    "\n",
    "Here is an example of how to use with and open() together:"
   ]
  },
  {
   "cell_type": "code",
   "execution_count": null,
   "metadata": {},
   "outputs": [],
   "source": [
    "with open('example.txt', 'r') as f:\n",
    "    data = f.read()\n",
    "    print(data)\n"
   ]
  },
  {
   "cell_type": "markdown",
   "metadata": {},
   "source": [
    "In the above example, the with statement is used to open the file example.txt in read mode. The file object f is then used to read the contents of the file, which are stored in the data variable. Once the block of code is executed, the file is automatically closed.\n",
    "\n",
    "The advantage of using with and open() together is that it ensures that the file is closed properly, even if an error occurs within the block of code. It also simplifies the code, as you don't need to explicitly close the file using the close() method."
   ]
  },
  {
   "cell_type": "markdown",
   "metadata": {},
   "source": [
    "Q6:-\n",
    "\n",
    " The write() function in Python is used to write a string to a file. It takes a single argument, which is the string to be written. If the file does not exist, it will be created.\n",
    "\n",
    "Here is an example of how to use write():"
   ]
  },
  {
   "cell_type": "code",
   "execution_count": 7,
   "metadata": {},
   "outputs": [],
   "source": [
    "with open('example.txt', 'w') as f:\n",
    "    f.write('Hello, world!')\n",
    "\n"
   ]
  },
  {
   "cell_type": "markdown",
   "metadata": {},
   "source": [
    "In the above example, the write() function is used to write the string 'Hello, world!' to the file example.txt.\n",
    "\n",
    "The writelines() function in Python is used to write a list of strings to a file. It takes a single argument, which is a list of strings to be written. If the file does not exist, it will be created.\n",
    "\n",
    "Here is an example of how to use writelines():"
   ]
  },
  {
   "cell_type": "code",
   "execution_count": null,
   "metadata": {},
   "outputs": [],
   "source": [
    "with open('example.txt', 'w') as f:\n",
    "    lines = ['Line 1\\n', 'Line 2\\n', 'Line 3\\n']\n",
    "    f.writelines(lines)\n"
   ]
  },
  {
   "cell_type": "markdown",
   "metadata": {},
   "source": [
    "In the above example, the writelines() function is used to write a list of strings to the file example.txt. Each string in the list is written on a separate line."
   ]
  }
 ],
 "metadata": {
  "kernelspec": {
   "display_name": "Python 3.10.6 64-bit",
   "language": "python",
   "name": "python3"
  },
  "language_info": {
   "codemirror_mode": {
    "name": "ipython",
    "version": 3
   },
   "file_extension": ".py",
   "mimetype": "text/x-python",
   "name": "python",
   "nbconvert_exporter": "python",
   "pygments_lexer": "ipython3",
   "version": "3.10.6"
  },
  "orig_nbformat": 4,
  "vscode": {
   "interpreter": {
    "hash": "63963b3f4c440940f0b94a3100916033a226cb4f45979123153792d60aa56d6a"
   }
  }
 },
 "nbformat": 4,
 "nbformat_minor": 2
}
