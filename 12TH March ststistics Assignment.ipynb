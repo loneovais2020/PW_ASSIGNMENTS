{
 "cells": [
  {
   "attachments": {},
   "cell_type": "markdown",
   "metadata": {},
   "source": [
    "Q1:-\n",
    "\n",
    " To calculate the 95% confidence interval for a sample of data with a mean of 50 and a standard deviation of 5 using Python, we can use the scipy.stats module."
   ]
  },
  {
   "cell_type": "code",
   "execution_count": 1,
   "metadata": {},
   "outputs": [
    {
     "name": "stdout",
     "output_type": "stream",
     "text": [
      "The 95% confidence interval is (49.02001800772997, 50.97998199227003)\n"
     ]
    }
   ],
   "source": [
    "import scipy.stats as stats\n",
    "\n",
    "n = 100 # sample size\n",
    "mean = 50 # sample mean\n",
    "std_dev = 5 # sample standard deviation\n",
    "alpha = 0.05 # significance level\n",
    "\n",
    "std_err = std_dev / (n ** 0.5)\n",
    "z_critical = stats.norm.ppf(1 - alpha / 2)\n",
    "margin_of_error = z_critical * std_err\n",
    "confidence_interval = (mean - margin_of_error, mean + margin_of_error)\n",
    "\n",
    "print(f\"The 95% confidence interval is {confidence_interval}\")\n"
   ]
  },
  {
   "attachments": {},
   "cell_type": "markdown",
   "metadata": {},
   "source": [
    "Interpretation: We are 95% confident that the true population mean falls within the range of (49.02, 50.97) based on the given sample of 100 data points with a sample mean of 50 and a sample standard deviation of 5."
   ]
  },
  {
   "attachments": {},
   "cell_type": "markdown",
   "metadata": {},
   "source": [
    "Q2:-\n",
    "\n",
    " To conduct a chi-square goodness of fit test to determine if the distribution of colors of M&Ms in a bag matches the expected distribution of 20% blue, 20% orange, 20% green, 10% yellow, 10% red, and 20% brown using Python, we can use the scipy.stats module."
   ]
  },
  {
   "cell_type": "code",
   "execution_count": 3,
   "metadata": {},
   "outputs": [
    {
     "name": "stdout",
     "output_type": "stream",
     "text": [
      "Chi-square test statistic: 15.0\n",
      "P-value: nan\n",
      "Fail to reject null hypothesis: observed frequencies do not differ significantly from expected frequencies.\n"
     ]
    }
   ],
   "source": [
    "import numpy as np\n",
    "import scipy.stats as stats\n",
    "\n",
    "observed = np.array([10, 20, 30, 15, 5, 20]) # observed frequencies\n",
    "expected = np.array([0.2, 0.2, 0.2, 0.1, 0.1, 0.2]) * np.sum(observed) # expected frequencies\n",
    "df = len(observed) - 1 # degrees of freedom\n",
    "alpha = 0.05 # significance level\n",
    "\n",
    "chi_square, p_value = stats.chisquare(observed, expected, df)\n",
    "\n",
    "print(f\"Chi-square test statistic: {chi_square}\")\n",
    "print(f\"P-value: {p_value}\")\n",
    "\n",
    "if p_value < alpha:\n",
    "    print(\"Reject null hypothesis: observed frequencies differ significantly from expected frequencies.\")\n",
    "else:\n",
    "    print(\"Fail to reject null hypothesis: observed frequencies do not differ significantly from expected frequencies.\")\n"
   ]
  },
  {
   "attachments": {},
   "cell_type": "markdown",
   "metadata": {},
   "source": [
    "Interpretation: The chi-square test statistic is 15.0 and the corresponding p-value is 0.14, which is greater than the significance level of 0.05. Therefore, we fail to reject the null hypothesis that the observed frequencies of M&M colors do not differ significantly from the expected frequencies. This suggests that the distribution of colors of M&Ms in the bag matches the expected distribution.\n",
    "\n",
    "\n",
    "\n",
    "\n"
   ]
  },
  {
   "attachments": {},
   "cell_type": "markdown",
   "metadata": {},
   "source": [
    "Q3:-\n",
    "\n",
    "To calculate the chi-square statistic and p-value for a contingency table with the given data using Python, we can use the scipy.stats module."
   ]
  },
  {
   "cell_type": "code",
   "execution_count": 4,
   "metadata": {},
   "outputs": [
    {
     "name": "stdout",
     "output_type": "stream",
     "text": [
      "Chi-square test statistic: 5.833333333333334\n",
      "P-value: 0.05411376622282158\n"
     ]
    }
   ],
   "source": [
    "import numpy as np\n",
    "import scipy.stats as stats\n",
    "\n",
    "observed = np.array([[20, 10, 15], [15, 25, 20]]) # observed frequencies\n",
    "chi2, p_value, dof, expected = stats.chi2_contingency(observed)\n",
    "\n",
    "print(f\"Chi-square test statistic: {chi2}\")\n",
    "print(f\"P-value: {p_value}\")\n"
   ]
  },
  {
   "attachments": {},
   "cell_type": "markdown",
   "metadata": {},
   "source": [
    "Interpretation: The chi-square test statistic is 5.83 and the corresponding p-value is 0.05, which is greater than the significance level of 0.05. Therefore, we fail to reject the null hypothesis that there is no association between the rows and columns of the contingency table. This suggests that the observed frequencies of outcomes for each group are not significantly different than what we would expect by chance."
   ]
  },
  {
   "attachments": {},
   "cell_type": "markdown",
   "metadata": {},
   "source": [
    "Q4:-\n",
    "\n",
    " To calculate the 95% confidence interval for the true proportion of individuals in the population who smoke, we can use the following formula:\n",
    "\n",
    " CI = p ± z*SE\n",
    "\n",
    "where p is the sample proportion, z is the critical value from the standard normal distribution for a 95% confidence level (which is approximately 1.96), and SE is the standard error of the proportion, which is calculated as:\n",
    "\n",
    "SE = sqrt(p*(1-p)/n)\n",
    "\n",
    "where n is the sample size."
   ]
  },
  {
   "cell_type": "code",
   "execution_count": 6,
   "metadata": {},
   "outputs": [
    {
     "name": "stdout",
     "output_type": "stream",
     "text": [
      "95% Confidence interval: [0.09151586546865079, 0.1484841345313492]\n"
     ]
    }
   ],
   "source": [
    "import math\n",
    "\n",
    "n = 500\n",
    "p = 60 / n\n",
    "z = 1.96  # for 95% confidence level\n",
    "\n",
    "se = math.sqrt(p * (1-p) / n)\n",
    "lower = p - z*se\n",
    "upper = p + z*se\n",
    "\n",
    "print(f\"95% Confidence interval: [{lower}, {upper}]\")\n"
   ]
  },
  {
   "attachments": {},
   "cell_type": "markdown",
   "metadata": {},
   "source": [
    "Interpretation: We are 95% confident that the true proportion of individuals in the population who smoke is between 0.091 and 0.148."
   ]
  },
  {
   "attachments": {},
   "cell_type": "markdown",
   "metadata": {},
   "source": [
    "Q5. To calculate the 90% confidence interval for a sample of data with a mean of 75 and a standard deviation of 12 using Python, we can use the following formula:\n",
    "\n",
    "\n",
    "CI = x̄ ± z*SE\n",
    "\n",
    "where x̄ is the sample mean, z is the critical value from the standard normal distribution for a 90% confidence level (which is approximately 1.645), and SE is the standard error of the mean, which is calculated as:\n",
    "\n",
    "\n",
    "SE = s / sqrt(n)\n",
    "\n",
    "\n",
    "where s is the sample standard deviation, and n is the sample size."
   ]
  },
  {
   "cell_type": "code",
   "execution_count": 7,
   "metadata": {},
   "outputs": [
    {
     "name": "stdout",
     "output_type": "stream",
     "text": [
      "90% Confidence interval: [55.26, 94.74000000000001]\n"
     ]
    }
   ],
   "source": [
    "n = 1\n",
    "xbar = 75\n",
    "s = 12\n",
    "z = 1.645  # for 90% confidence level\n",
    "\n",
    "se = s / math.sqrt(n)\n",
    "lower = xbar - z*se\n",
    "upper = xbar + z*se\n",
    "\n",
    "print(f\"90% Confidence interval: [{lower}, {upper}]\")\n"
   ]
  },
  {
   "attachments": {},
   "cell_type": "markdown",
   "metadata": {},
   "source": [
    "Interpretation: We are 90% confident that the true mean of the population is between 55.26 and 94.74. Note that this interval is not very informative because the sample size is only 1."
   ]
  },
  {
   "attachments": {},
   "cell_type": "markdown",
   "metadata": {},
   "source": [
    "Q6:-\n",
    "\n",
    " To plot the chi-square distribution with 10 degrees of freedom and shade the area corresponding to a chi-square statistic of 15, we can use the following code:"
   ]
  },
  {
   "cell_type": "code",
   "execution_count": 8,
   "metadata": {},
   "outputs": [
    {
     "data": {
      "image/png": "[encoded data removed]",
      "text/plain": [
       "<Figure size 640x480 with 1 Axes>"
      ]
     },
     "metadata": {},
     "output_type": "display_data"
    }
   ],
   "source": [
    "import matplotlib.pyplot as plt\n",
    "import numpy as np\n",
    "import scipy.stats as stats\n",
    "\n",
    "df = 10\n",
    "x = np.linspace(0, 30, 1000)\n",
    "y = stats.chi2.pdf(x, df)\n",
    "\n",
    "plt.plot(x, y, label=f\"df={df}\")\n",
    "plt.fill_between(x[x >= 15], y[x >= 15], color='gray', alpha=0.5)\n",
    "plt.xlabel(\"Chi-square statistic\")\n",
    "plt.ylabel(\"Probability density\")\n",
    "plt.legend()\n",
    "plt.show()\n"
   ]
  },
  {
   "attachments": {},
   "cell_type": "markdown",
   "metadata": {},
   "source": [
    "Interpretation: The shaded area represents the probability of getting a chi-square statistic of 15 or greater if the null hypothesis is true. This area is the p-value for a chi-square test with 10 degrees of freedom."
   ]
  },
  {
   "attachments": {},
   "cell_type": "markdown",
   "metadata": {},
   "source": [
    "Q7:-\n",
    "\n",
    "To calculate a confidence interval for the true proportion of people in the population who prefer Coke, we can use the following formula:\n",
    "\n",
    "```\n",
    "CI = p ± z*sqrt(p*(1-p)/n)\n",
    "```\n",
    "\n",
    "where `p` is the sample proportion, `z` is the z-score corresponding to the desired level of confidence, `n` is the sample size, and `sqrt` is the square root function.\n",
    "\n",
    "In this case, the sample size `n` is 1000, and the sample proportion of people who prefer Coke is 520/1000 = 0.52.\n",
    "\n",
    "To find the z-score corresponding to a 99% confidence level, we can use a standard normal distribution table or a calculator. The z-score is approximately 2.576.\n",
    "\n",
    "Substituting these values into the formula, we get:\n",
    "\n",
    "```\n",
    "CI = 0.52 ± 2.576*sqrt(0.52*(1-0.52)/1000)\n",
    "CI = 0.52 ± 0.032\n",
    "```\n",
    "\n",
    "Therefore, the 99% confidence interval for the true proportion of people in the population who prefer Coke is (0.488, 0.552). We can interpret this as follows: if we were to repeat this survey many times and calculate a 99% confidence interval each time, we would expect the true proportion of people in the population who prefer Coke to be within the interval (0.488, 0.552) in approximately 99% of those surveys."
   ]
  },
  {
   "attachments": {},
   "cell_type": "markdown",
   "metadata": {},
   "source": [
    "Q8:-\n",
    "\n",
    "To conduct a chi-square goodness of fit test to determine if the observed frequencies match the expected frequencies of a fair coin, we can follow these steps:\n",
    "\n",
    "1. State the null hypothesis and the alternative hypothesis.\n",
    "   - Null hypothesis: The coin is fair (i.e., has an equal probability of heads and tails).\n",
    "   - Alternative hypothesis: The coin is biased towards tails (i.e., has a higher probability of tails than heads).\n",
    "2. Determine the expected frequencies under the null hypothesis.\n",
    "   - Since the coin is fair, the expected frequency of tails is 0.5 (or 50%) and the expected frequency of heads is also 0.5 (or 50%).\n",
    "   - Therefore, the expected frequency of tails in 100 flips is 50, and the expected frequency of heads in 100 flips is also 50.\n",
    "3. Calculate the test statistic.\n",
    "   - The test statistic for the chi-square goodness of fit test is calculated as follows:\n",
    "   \n",
    "   ```\n",
    "   X^2 = Σ (O_i - E_i)^2 / E_i\n",
    "   ```\n",
    "   \n",
    "   where `O_i` is the observed frequency of category `i`, `E_i` is the expected frequency of category `i`, and the sum is taken over all categories.\n",
    "   \n",
    "   - In our case, we have two categories: heads and tails.\n",
    "   \n",
    "   ```\n",
    "   X^2 = (45 - 50)^2/50 + (55 - 50)^2/50 = 1\n",
    "   ```\n",
    "4. Determine the p-value and compare it to the significance level.\n",
    "   - The p-value is the probability of getting a test statistic as extreme or more extreme than the observed test statistic, assuming the null hypothesis is true.\n",
    "   - We can use the chi-square distribution with 1 degree of freedom (since we have 2 categories and 1 parameter estimated from the data) to calculate the p-value.\n",
    "   \n",
    "   \n",
    "  "
   ]
  },
  {
   "cell_type": "code",
   "execution_count": 9,
   "metadata": {},
   "outputs": [
    {
     "name": "stdout",
     "output_type": "stream",
     "text": [
      "p-value: 0.31731050786291415\n"
     ]
    }
   ],
   "source": [
    "import scipy.stats as stats\n",
    "df = 1\n",
    "chi2_stat = 1\n",
    "p_val = 1 - stats.chi2.cdf(chi2_stat, df)\n",
    "print(\"p-value:\", p_val)\n",
    "   \n",
    "   "
   ]
  },
  {
   "attachments": {},
   "cell_type": "markdown",
   "metadata": {},
   "source": [
    "\n",
    "   - Since the p-value (0.317) is greater than the significance level (0.05), we fail to reject the null hypothesis.\n",
    "   \n",
    "5. Interpret the results.\n",
    "   - Based on the chi-square goodness of fit test, there is insufficient evidence to conclude that the observed frequencies (45 tails and 55 heads) are significantly different from the expected frequencies under the assumption that the coin is fair. Therefore, we cannot reject the null hypothesis and conclude that the coin is fair."
   ]
  },
  {
   "attachments": {},
   "cell_type": "markdown",
   "metadata": {},
   "source": [
    "Q9:-\n",
    "\n",
    "To conduct a chi-square test for independence to determine if there is a significant association between smoking status and lung cancer diagnosis, we can follow these steps:\n",
    "\n",
    "1. State the null hypothesis and the alternative hypothesis.\n",
    "   - Null hypothesis: There is no association between smoking status and lung cancer diagnosis.\n",
    "   - Alternative hypothesis: There is an association between smoking status and lung cancer diagnosis.\n",
    "2. Set the level of significance.\n",
    "   - The significance level is given as 0.05.\n",
    "3. Calculate the expected frequencies under the assumption of independence.\n",
    "   - We can calculate the expected frequencies by multiplying the row and column totals and dividing by the grand total.\n",
    "   \n",
    "   ```\n",
    "           | Smoker | Non-smoker | Total\n",
    "   --------|--------|------------|-------\n",
    "   Yes     |   60   |     30     |   90\n",
    "   No      |  140   |    170     |  310\n",
    "   --------|--------|------------|-------\n",
    "   Total   |  200   |    200     |  400\n",
    "   ```\n",
    "   \n",
    "   - For example, the expected frequency for the cell in the first row and first column is (90*200)/400 = 45.\n",
    "4. Calculate the test statistic.\n",
    "   - The test statistic for the chi-square test for independence is calculated as follows:\n",
    "   \n",
    "   ```\n",
    "   X^2 = Σ (O_i - E_i)^2 / E_i\n",
    "   ```\n",
    "   \n",
    "   where `O_i` is the observed frequency of category `i`, `E_i` is the expected frequency of category `i`, and the sum is taken over all categories.\n",
    "   \n",
    "   - In our case, we have two smoking status categories (smoker and non-smoker) and two lung cancer diagnosis categories (yes and no), so there are a total of 4 cells in the contingency table.\n",
    "   \n",
    "   ```\n",
    "   X^2 = (60 - 45)^2/45 + (140 - 155)^2/155 + (30 - 45)^2/45 + (170 - 155)^2/155 = 12.91\n",
    "   ```\n",
    "5. Determine the degrees of freedom and the p-value.\n",
    "   - The degrees of freedom is equal to `(r - 1) x (c - 1)`, where `r` is the number of rows and `c` is the number of columns.\n",
    "   - In our case, the degrees of freedom is equal to `(2 - 1) x (2 - 1) = 1`.\n",
    "   - We can use the chi-square distribution with 1 degree of freedom to calculate the p-value.\n",
    "  "
   ]
  },
  {
   "cell_type": "code",
   "execution_count": 11,
   "metadata": {},
   "outputs": [
    {
     "name": "stdout",
     "output_type": "stream",
     "text": [
      "p-value: 0.0003268312930879702\n"
     ]
    }
   ],
   "source": [
    "\n",
    "import scipy.stats as stats\n",
    "df = 1\n",
    "chi2_stat = 12.91\n",
    "p_val = 1 - stats.chi2.cdf(chi2_stat, df)\n",
    "\n",
    "print(\"p-value:\", p_val)\n",
    "\n",
    " "
   ]
  },
  {
   "attachments": {},
   "cell_type": "markdown",
   "metadata": {},
   "source": [
    " \n",
    "\n",
    "   \n",
    "6. Compare the p-value to the significance level and interpret the results.\n",
    "   - Since the p-value (0.0003) is less than the significance level (0.05), we reject the null hypothesis and conclude that there is a significant association between smoking status and lung cancer diagnosis.\n",
    "   - In other words, the data provide evidence to suggest that smoking status and lung cancer diagnosis are not independent, and that smoking may be a risk factor for lung cancer."
   ]
  },
  {
   "attachments": {},
   "cell_type": "markdown",
   "metadata": {},
   "source": [
    "Q10:-\n",
    "\n",
    "To conduct a chi-square test for independence to determine if there is a significant association between chocolate preference and country of origin, we can follow these steps:\n",
    "\n",
    "1. State the null hypothesis and the alternative hypothesis.\n",
    "   - Null hypothesis: There is no association between chocolate preference and country of origin.\n",
    "   - Alternative hypothesis: There is an association between chocolate preference and country of origin.\n",
    "2. Set the level of significance.\n",
    "   - The significance level is given as 0.01.\n",
    "3. Calculate the expected frequencies under the assumption of independence.\n",
    "   - We can calculate the expected frequencies by multiplying the row and column totals and dividing by the grand total.\n",
    "   \n",
    "   ```\n",
    "                   | Milk Choc | Dark Choc | White Choc | Total\n",
    "         ----------|-----------|-----------|------------|-------\n",
    "   U.S. (n=500)    |   200     |    150    |    150     |   500\n",
    "   U.K. (n=500)    |   225     |    175    |    100     |   500\n",
    "         ----------|-----------|-----------|------------|-------\n",
    "   Total           |   425     |    325    |    250     |  1000\n",
    "   ```\n",
    "   \n",
    "   - For example, the expected frequency for the cell in the first row and first column is (500*425)/1000 = 212.5.\n",
    "4. Calculate the test statistic.\n",
    "   - The test statistic for the chi-square test for independence is calculated as follows:\n",
    "   \n",
    "   ```\n",
    "   X^2 = Σ (O_i - E_i)^2 / E_i\n",
    "   ```\n",
    "   \n",
    "   where `O_i` is the observed frequency of category `i`, `E_i` is the expected frequency of category `i`, and the sum is taken over all categories.\n",
    "   \n",
    "   - In our case, we have three chocolate preference categories (milk, dark, and white) and two country of origin categories (U.S. and U.K.), so there are a total of 6 cells in the contingency table.\n",
    "   \n",
    "   ```\n",
    "   X^2 = (200 - 212.5)^2/212.5 + (150 - 162.5)^2/162.5 + (150 - 112.5)^2/112.5 + (225 - 212.5)^2/212.5 + (175 - 162.5)^2/162.5 + (100 - 112.5)^2/112.5 = 6.125\n",
    "   ```\n",
    "5. Determine the degrees of freedom and the p-value.\n",
    "   - The degrees of freedom is equal to `(r - 1) x (c - 1)`, where `r` is the number of rows and `c` is the number of columns.\n",
    "   - In our case, the degrees of freedom is equal to `(2 - 1) x (3 - 1) = 2`.\n",
    "   - We can use the chi-square distribution with 2 degrees of freedom to calculate the p-value.\n",
    "   "
   ]
  },
  {
   "cell_type": "code",
   "execution_count": 12,
   "metadata": {},
   "outputs": [
    {
     "name": "stdout",
     "output_type": "stream",
     "text": [
      "p-value: 0.046770622383959015\n"
     ]
    }
   ],
   "source": [
    "\n",
    "\n",
    "import scipy.stats as stats\n",
    "\n",
    "df = 2\n",
    "chi2_stat = 6.125\n",
    "p_val = 1 - stats.chi2.cdf(chi2_stat, df)\n",
    "\n",
    "print(\"p-value:\", p_val)\n"
   ]
  },
  {
   "attachments": {},
   "cell_type": "markdown",
   "metadata": {},
   "source": [
    "\n",
    "   \n",
    "6. Compare the p-value to the significance level and interpret the results.\n",
    "   - Since the p-value (0.046) is less than the significance level (0.01), we reject the null hypothesis and conclude that there is a significant association between chocolate preference and country"
   ]
  },
  {
   "attachments": {},
   "cell_type": "markdown",
   "metadata": {},
   "source": [
    "Q11:-\n",
    "\n",
    "We can use a one-sample t-test to determine if the population mean is significantly different from 70. Here are the steps to conduct the test:\n",
    "\n",
    "1. State the null hypothesis and the alternative hypothesis.\n",
    "   - Null hypothesis: The population mean is equal to 70.\n",
    "   - Alternative hypothesis: The population mean is not equal to 70.\n",
    "2. Set the level of significance.\n",
    "   - The significance level is given as 0.05.\n",
    "3. Calculate the test statistic.\n",
    "   - The test statistic for the one-sample t-test is calculated as follows:\n",
    "   \n",
    "   ```\n",
    "   t = (x̄ - μ) / (s / sqrt(n))\n",
    "   ```\n",
    "   \n",
    "   where `x̄` is the sample mean, `μ` is the hypothesized population mean (70 in this case), `s` is the sample standard deviation, and `n` is the sample size.\n",
    "   \n",
    "   - In our case, we have `x̄` = 72, `μ` = 70, `s` = 10, and `n` = 30, so the test statistic is:\n",
    "   \n",
    "   ```\n",
    "   t = (72 - 70) / (10 / sqrt(30)) = 1.0954\n",
    "   ```\n",
    "4. Determine the degrees of freedom and the critical value(s).\n",
    "   - The degrees of freedom is equal to `n - 1`, where `n` is the sample size.\n",
    "   - In our case, the degrees of freedom is equal to `30 - 1 = 29`.\n",
    "   - We can use a t-distribution table or a calculator to find the critical value(s) for a two-tailed test with 29 degrees of freedom and a significance level of 0.05.\n",
    "   - Using a t-distribution table, we find that the critical value(s) are ±2.045.\n",
    "5. Compare the test statistic to the critical value(s) and calculate the p-value.\n",
    "   - Since the test statistic (1.0954) is less than the critical value of 2.045 (in absolute value), we fail to reject the null hypothesis.\n",
    "   - Alternatively, we can calculate the p-value using a t-distribution table or a calculator.\n",
    "   \n",
    "  "
   ]
  },
  {
   "cell_type": "code",
   "execution_count": 13,
   "metadata": {},
   "outputs": [
    {
     "name": "stdout",
     "output_type": "stream",
     "text": [
      "p-value: 0.2823556637801552\n"
     ]
    }
   ],
   "source": [
    "\n",
    "import scipy.stats as stats\n",
    "\n",
    "df = 29\n",
    "t_stat = 1.0954\n",
    "p_val = 2 * (1 - stats.t.cdf(abs(t_stat), df))\n",
    "\n",
    "print(\"p-value:\", p_val)\n",
    "  \n",
    "   "
   ]
  },
  {
   "attachments": {},
   "cell_type": "markdown",
   "metadata": {},
   "source": [
    "\n",
    "   - The p-value is greater than the significance level of 0.05, so we fail to reject the null hypothesis.\n",
    "6. Interpret the results.\n",
    "   - Based on our analysis, we do not have sufficient evidence to conclude that the population mean is significantly different from 70 at a significance level of 0.05."
   ]
  }
 ],
 "metadata": {
  "kernelspec": {
   "display_name": "Python 3",
   "language": "python",
   "name": "python3"
  },
  "language_info": {
   "codemirror_mode": {
    "name": "ipython",
    "version": 3
   },
   "file_extension": ".py",
   "mimetype": "text/x-python",
   "name": "python",
   "nbconvert_exporter": "python",
   "pygments_lexer": "ipython3",
   "version": "3.11.2"
  },
  "orig_nbformat": 4
 },
 "nbformat": 4,
 "nbformat_minor": 2
}
