{
 "cells": [
  {
   "attachments": {},
   "cell_type": "markdown",
   "metadata": {},
   "source": [
    "Q1:-\n",
    "\n",
    "Multithreading in Python refers to the ability of the program to run multiple threads (or tasks) concurrently within a single process. It allows the programmer to write code that can execute multiple tasks in parallel, which can improve performance and responsiveness of the program. The threading module in Python is used to handle threads."
   ]
  },
  {
   "attachments": {},
   "cell_type": "markdown",
   "metadata": {},
   "source": [
    "Q2:-\n",
    "\n",
    "The threading module is used in Python to implement multithreading. It provides a way to create, manage, and synchronize threads. The following functions are commonly used in the threading module:\n",
    "\n",
    "activeCount(): This function returns the number of thread objects that are currently alive (i.e., not terminated).\n",
    "\n",
    "currentThread(): This function returns a reference to the current thread object.\n",
    "\n",
    "enumerate(): This function returns a list of all thread objects that are currently alive."
   ]
  },
  {
   "attachments": {},
   "cell_type": "markdown",
   "metadata": {},
   "source": [
    "Q3:-\n",
    "\n",
    "run() function: This is the method that actually performs the task assigned to a thread. When a thread is started, the run() method is called automatically, and it is executed in a separate thread of control.\n",
    "\n",
    "start() function: This method is used to start the execution of a thread. When the start() method is called, a new thread of control is created, and the run() method of the thread is called automatically.\n",
    "\n",
    "join() function: This method is used to wait for a thread to complete its execution. When the join() method is called, the calling thread waits for the specified thread to terminate. If the specified thread has already terminated, the join() method returns immediately.\n",
    "\n",
    "isAlive() function: This method is used to check whether a thread is still executing or has completed its execution. If a thread is still executing, the isAlive() method returns True. Otherwise, it returns False."
   ]
  },
  {
   "attachments": {},
   "cell_type": "markdown",
   "metadata": {},
   "source": [
    "Q4:-\n",
    "\n",
    " Python program to create two threads that print the list of squares and cubes:"
   ]
  },
  {
   "cell_type": "code",
   "execution_count": 3,
   "metadata": {},
   "outputs": [
    {
     "name": "stdout",
     "output_type": "stream",
     "text": [
      "1\n",
      "4\n",
      "9\n",
      "16\n",
      "25\n",
      "36\n",
      "49\n",
      "64\n",
      "81\n",
      "100\n",
      "\n",
      "\n",
      "1\n",
      "8\n",
      "27\n",
      "64\n",
      "125\n",
      "216\n",
      "343\n",
      "512\n",
      "729\n",
      "1000\n",
      "\n",
      "\n",
      "Threads are done executing.\n"
     ]
    }
   ],
   "source": [
    "import threading\n",
    "\n",
    "def print_squares():\n",
    "    for i in range(1, 11):\n",
    "        print(i*i)\n",
    "    print('\\n')\n",
    "    \n",
    "\n",
    "def print_cubes():\n",
    "    for i in range(1, 11):\n",
    "        print(i*i*i)\n",
    "    print('\\n')\n",
    "\n",
    "\n",
    "t1 = threading.Thread(target=print_squares)\n",
    "t2 = threading.Thread(target=print_cubes)\n",
    "\n",
    "t1.start()\n",
    "t2.start()\n",
    "\n",
    "t1.join()\n",
    "t2.join()\n",
    "\n",
    "print(\"Threads are done executing.\")\n"
   ]
  },
  {
   "attachments": {},
   "cell_type": "markdown",
   "metadata": {},
   "source": [
    "Q5:-\n",
    "\n",
    " Advantages and disadvantages of multithreading:\n",
    "\n",
    "Advantages:\n",
    "\n",
    "\n",
    "\n",
    "\n",
    "Multithreading allows for more efficient use of CPU resources, as multiple threads can run simultaneously on different cores or processors.\n",
    "\n",
    "\n",
    "\n",
    "Multithreading can improve the responsiveness of a program, as one thread can continue executing while another thread waits for input or output operations to complete.\n",
    "\n",
    "\n",
    "\n",
    "Multithreading can simplify the design of a program by breaking it down into smaller, more manageable pieces that can be executed independently.\n",
    "\n",
    "\n",
    "\n",
    "Disadvantages:\n",
    "\n",
    "\n",
    "\n",
    "Multithreading can make the program more complex, as it can introduce synchronization and coordination issues between threads.\n",
    "\n",
    "\n",
    "Multithreading can lead to unpredictable behavior and race conditions, where the outcome of the program depends on the timing and order of thread execution.\n",
    "\n",
    "\n",
    "Multithreading can also result in increased memory usage and overhead, as each thread requires its own stack and resources."
   ]
  },
  {
   "attachments": {},
   "cell_type": "markdown",
   "metadata": {},
   "source": [
    "Q6:-\n",
    "\n",
    "Deadlocks and race conditions are two common synchronization problems that can occur when multiple processes or threads access shared resources concurrently.\n",
    "\n",
    "Deadlocks: A deadlock occurs when two or more processes or threads are blocked, waiting for each other to release a resource that they need to continue execution. In other words, a deadlock is a situation where two or more processes are stuck in a circular wait, and none of them can proceed. Deadlocks can occur when two or more processes have acquired some resources and are waiting for each other to release them. Deadlocks can be prevented by using appropriate synchronization mechanisms like locks, semaphores, and monitors.\n",
    "\n",
    "Race conditions: A race condition occurs when two or more processes or threads access a shared resource concurrently, and the result depends on the order in which the access occurs. In other words, a race condition is a situation where the output of a program depends on the relative timing of events, and the behavior of the program is unpredictable. Race conditions can occur when two or more processes or threads access shared data without proper synchronization. Race conditions can be prevented by using appropriate synchronization mechanisms like locks, semaphores, and monitors.\n",
    "\n",
    "In general, both deadlocks and race conditions can lead to unpredictable behavior and can be difficult to diagnose and fix. It is essential to use proper synchronization mechanisms to avoid these problems when writing concurrent programs."
   ]
  }
 ],
 "metadata": {
  "kernelspec": {
   "display_name": "Python 3",
   "language": "python",
   "name": "python3"
  },
  "language_info": {
   "codemirror_mode": {
    "name": "ipython",
    "version": 3
   },
   "file_extension": ".py",
   "mimetype": "text/x-python",
   "name": "python",
   "nbconvert_exporter": "python",
   "pygments_lexer": "ipython3",
   "version": "3.11.2"
  },
  "orig_nbformat": 4
 },
 "nbformat": 4,
 "nbformat_minor": 2
}
