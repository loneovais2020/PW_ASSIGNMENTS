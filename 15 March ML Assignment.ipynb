{
 "cells": [
  {
   "attachments": {},
   "cell_type": "markdown",
   "metadata": {},
   "source": [
    "\n",
    "\n",
    "Q1:- \n",
    "\n",
    "1) Artificial Intelligence (AI): It is a branch of computer science that aims to create machines that can perform tasks that normally require human intelligence, such as visual perception, speech recognition, decision-making, and language translation. An example of AI is an intelligent personal assistant like Apple's Siri or Amazon's Alexa that can understand and respond to voice commands.\n",
    "\n",
    "2) Machine Learning (ML): It is a subset of AI that uses statistical techniques to enable machines to learn from data, without being explicitly programmed. Machine learning algorithms can automatically identify patterns in data and make predictions or decisions based on them. An example of ML is a spam filter that learns to recognize spam emails based on examples of both spam and non-spam emails.\n",
    "\n",
    "3) Deep Learning (DL): It is a subset of machine learning that uses artificial neural networks to enable machines to learn from large amounts of data. Deep learning algorithms can automatically extract features from data and learn complex representations of them. An example of DL is a system that can recognize objects in images, such as a self-driving car that can detect pedestrians, traffic signs, and other vehicles.\n",
    "\n"
   ]
  },
  {
   "attachments": {},
   "cell_type": "markdown",
   "metadata": {},
   "source": [
    "Q2:- \n",
    "\n",
    "Supervised learning is a type of machine learning in which an algorithm learns from labeled data, where the input data is paired with corresponding output labels. The algorithm tries to learn the relationship between the input features and the output labels, and can then make predictions on new, unseen data. Examples of supervised learning include image classification, speech recognition, and fraud detection.\n",
    "\n"
   ]
  },
  {
   "attachments": {},
   "cell_type": "markdown",
   "metadata": {},
   "source": [
    "\n",
    "Q3:- \n",
    "\n",
    "Unsupervised learning is a type of machine learning in which an algorithm learns from unlabeled data, without any predefined output labels. The algorithm tries to identify patterns or relationships in the data, such as clusters or dimensions, and can then group or organize the data accordingly. Examples of unsupervised learning include clustering, anomaly detection, and dimensionality reduction.\n",
    "\n",
    "\n",
    "\n"
   ]
  },
  {
   "attachments": {},
   "cell_type": "markdown",
   "metadata": {},
   "source": [
    "Q4:- \n",
    "\n",
    "AI is a broad field that encompasses various approaches and techniques for creating intelligent machines. ML is a subset of AI that uses statistical techniques to enable machines to learn from data. DL is a subset of ML that uses artificial neural networks to enable machines to learn from large amounts of data. DS (Data Science) is a broader field that includes data analysis, statistical modeling, and machine learning, among other things.\n",
    "\n",
    "\n"
   ]
  },
  {
   "attachments": {},
   "cell_type": "markdown",
   "metadata": {},
   "source": [
    "Q5:- \n",
    "\n",
    "The main difference between supervised, unsupervised, and semi-supervised learning is the type of input data they work with. Supervised learning uses labeled data, unsupervised learning uses unlabeled data, and semi-supervised learning uses both labeled and unlabeled data. Supervised learning is used for prediction or classification tasks, unsupervised learning is used for clustering or anomaly detection tasks, and semi-supervised learning is used when there is limited labeled data available."
   ]
  },
  {
   "attachments": {},
   "cell_type": "markdown",
   "metadata": {},
   "source": [
    "Q6:- \n",
    "\n",
    "Train, test, and validation split is a common technique used in machine learning to evaluate the performance of a model. It involves splitting the available data into three parts: a training set, a validation set, and a test set. The training set is used to train the model, the validation set is used to tune the hyperparameters of the model, and the test set is used to evaluate the final performance of the model. \n",
    "\n",
    "The importance of each term is as follows:\n",
    "- Training set: It is used to train the model and adjust the weights of the parameters. This is where the model learns the patterns and relationships in the data.\n",
    "- Validation set: It is used to fine-tune the model and optimize the hyperparameters. This is where you can compare the performance of different models and select the best one.\n",
    "- Test set: It is used to evaluate the final performance of the model on new, unseen data. This is where you can measure how well the model generalizes to new data.\n",
    "\n"
   ]
  },
  {
   "attachments": {},
   "cell_type": "markdown",
   "metadata": {},
   "source": [
    "Q7:- \n",
    "\n",
    "Unsupervised learning can be used in anomaly detection by identifying patterns or clusters in the data and then identifying any data points that do not fit those patterns or clusters. This is often done using techniques such as clustering, density estimation, or principal component analysis. An example of unsupervised anomaly detection is detecting fraud in financial transactions, where unusual patterns in the data can indicate fraudulent activity.\n",
    "\n"
   ]
  },
  {
   "attachments": {},
   "cell_type": "markdown",
   "metadata": {},
   "source": [
    "Q8:-\n",
    "\n",
    "Commonly used supervised learning algorithms:\n",
    "- Linear regression\n",
    "- Logistic regression\n",
    "- Decision trees\n",
    "- Random forests\n",
    "- Support vector machines (SVM)\n",
    "- Neural networks\n",
    "\n",
    "Commonly used unsupervised learning algorithms:\n",
    "- K-means clustering\n",
    "- Hierarchical clustering\n",
    "- Principal component analysis (PCA)\n",
    "- Autoencoders\n",
    "- Gaussian mixture models (GMM)\n",
    "- Isolation Forests"
   ]
  }
 ],
 "metadata": {
  "language_info": {
   "name": "python"
  },
  "orig_nbformat": 4
 },
 "nbformat": 4,
 "nbformat_minor": 2
}
