{
 "cells": [
  {
   "attachments": {},
   "cell_type": "markdown",
   "metadata": {},
   "source": [
    "Q1:-\n",
    "\n",
    "A database is a structured collection of data that is stored and organized in a way that allows efficient retrieval and manipulation of the data. A database management system (DBMS) is a software system that allows users to define, create, and maintain databases.\n",
    "SQL and NoSQL are two different types of database management systems.\n",
    "\n",
    "SQL databases, also known as relational databases, are based on the relational model of data management. They use structured query language (SQL) to access and manipulate data. SQL databases organize data into tables, which are related to each other through primary keys and foreign keys. Examples of SQL databases include MySQL, Oracle, and PostgreSQL.\n",
    "\n",
    "NoSQL databases, on the other hand, do not use the traditional relational model. They are designed to handle unstructured data, such as documents, images, and videos. NoSQL databases are generally more flexible and scalable than SQL databases. Examples of NoSQL databases include MongoDB, Cassandra, and Couchbase."
   ]
  },
  {
   "attachments": {},
   "cell_type": "markdown",
   "metadata": {},
   "source": [
    "Q2:-\n",
    "\n",
    "DDL stands for Data Definition Language, which is used to define and manage the structure of a database. DDL commands are used to create, modify, and delete database objects such as tables, indexes, and views.\n",
    "The following are some common DDL commands:\n",
    "\n",
    "CREATE: Used to create a new database object, such as a table or index. For example, to create a new table called \"employees\" with columns for name, age, and salary, the following SQL command can be used:\n",
    "\n",
    "CREATE TABLE employees ( name VARCHAR(50), age INT, salary DECIMAL(10,2) );\n",
    "\n",
    "DROP: Used to delete a database object, such as a table or index. For example, to delete the \"employees\" table created above, the following SQL command can be used:\n",
    "\n",
    "DROP TABLE employees;\n",
    "\n",
    "ALTER: Used to modify the structure of a database object, such as a table or index. For example, to add a new column \"address\" to the \"employees\" table, the following SQL command can be used:\n",
    "\n",
    "ALTER TABLE employees ADD COLUMN address VARCHAR(100);\n",
    "\n",
    "TRUNCATE: Used to remove all data from a table, while keeping the structure of the table intact. For example, to remove all data from the \"employees\" table, the following SQL command can be used:\n",
    "\n",
    "TRUNCATE TABLE employees;"
   ]
  },
  {
   "attachments": {},
   "cell_type": "markdown",
   "metadata": {},
   "source": [
    "Q3:-\n",
    "\n",
    "DML stands for Data Manipulation Language, which is used to manipulate the data within a database. DML commands are used to insert, update, and delete data within a table.\n",
    "The following are some common DML commands:\n",
    "\n",
    "INSERT: Used to insert new data into a table. For example, to insert a new record into the \"employees\" table created in the previous example, the following SQL command can be used:\n",
    "\n",
    "INSERT INTO employees (name, age, salary, address) VALUES ('John Doe', 30, 50000, '123 Main St.');\n",
    "\n",
    "UPDATE: Used to modify existing data within a table. For example, to update the salary of the employee named \"John Doe\" in the \"employees\" table, the following SQL command can be used:\n",
    "\n",
    "UPDATE employees SET salary = 60000 WHERE name = 'John Doe';\n",
    "\n",
    "DELETE: Used to delete data from a table. For example, to delete the employee named \"John Doe\" from the \"employees\" table, the following SQL command can be used:\n",
    "\n",
    "DELETE FROM employees WHERE name = 'John Doe';"
   ]
  },
  {
   "attachments": {},
   "cell_type": "markdown",
   "metadata": {},
   "source": [
    "Q4:-\n",
    "\n",
    "DQL stands for Data Query Language, which is used to retrieve data from a database. The most commonly used DQL command is SELECT, which is used to extract data from one or more tables. The basic syntax for the SELECT statement is as follows:\n",
    "\n",
    "SELECT column1, column2, ... FROM table_name WHERE condition;\n",
    "\n",
    "For example, to select all columns from the \"customers\" table, the following SELECT statement can be used:\n",
    "\n",
    "SELECT * FROM customers;\n",
    "\n",
    "This statement will retrieve all the data from the \"customers\" table."
   ]
  },
  {
   "attachments": {},
   "cell_type": "markdown",
   "metadata": {},
   "source": [
    "Q5:-\n",
    "\n",
    "A primary key is a column or set of columns in a table that uniquely identifies each row in that table. It is used to ensure that each row in the table has a unique identity. A primary key cannot contain null values, and there can be only one primary key in a table.\n",
    "\n",
    "For example, in a table \"students,\" the \"student_id\" column can be set as the primary key. This ensures that each student has a unique identity in the table.\n",
    "\n",
    "A foreign key is a column or set of columns in a table that refers to the primary key of another table. It is used to establish a relationship between two tables. A foreign key can have null values, and there can be multiple foreign keys in a table.\n",
    "\n",
    "For example, in a table \"enrollments,\" the \"student_id\" column can be set as a foreign key, referring to the \"student_id\" column in the \"students\" table. This establishes a relationship between the \"enrollments\" and \"students\" tables, as each enrollment is associated with a specific student."
   ]
  },
  {
   "attachments": {},
   "cell_type": "markdown",
   "metadata": {},
   "source": [
    "Q6:-\n",
    "\n",
    "To connect MySQL to Python, first, the MySQL Connector/Python module needs to be installed. This can be done using the following command:\n",
    "\n",
    "pip install mysql-connector-python\n",
    "\n"
   ]
  },
  {
   "attachments": {},
   "cell_type": "markdown",
   "metadata": {},
   "source": [
    "Once installed, the following Python code can be used to establish a connection to a MySQL database:"
   ]
  },
  {
   "cell_type": "markdown",
   "metadata": {},
   "source": [
    "import mysql.connector\n",
    "\n",
    "mydb = mysql.connector.connect(\n",
    "  host=\"localhost\",\n",
    "  user=\"username\",\n",
    "  password=\"password\",\n",
    "  database=\"databasename\"\n",
    ")\n",
    "\n",
    "mycursor = mydb.cursor()\n"
   ]
  },
  {
   "attachments": {},
   "cell_type": "markdown",
   "metadata": {},
   "source": [
    "Here, \"username\" and \"password\" should be replaced with the MySQL database login credentials, and \"databasename\" should be replaced with the name of the database to be connected.\n",
    "\n",
    "The cursor() method is used to create a cursor object, which is used to execute SQL statements. The execute() method is used to execute an SQL statement using the cursor object. For example, the following code can be used to execute a SELECT statement and retrieve data from a MySQL database:"
   ]
  },
  {
   "cell_type": "markdown",
   "metadata": {},
   "source": [
    "mycursor.execute(\"SELECT * FROM customers\")\n",
    "\n",
    "myresult = mycursor.fetchall()\n",
    "\n",
    "for x in myresult:\n",
    "  print(x)\n"
   ]
  },
  {
   "attachments": {},
   "cell_type": "markdown",
   "metadata": {},
   "source": [
    "Here, the SELECT statement is executed using the cursor object, and the fetchall() method is used to retrieve all the data from the result set. The retrieved data is then printed using a for loop."
   ]
  },
  {
   "attachments": {},
   "cell_type": "markdown",
   "metadata": {},
   "source": [
    "Q7:-\n",
    "\n",
    "The order of execution of SQL clauses in an SQL query is as follows:\n",
    "\n",
    "FROM - specifies the table(s) to retrieve data from\n",
    "\n",
    "JOIN - combines the data from multiple tables based on a specified join condition\n",
    "\n",
    "WHERE - filters the data based on a specified condition\n",
    "\n",
    "GROUP BY - groups the data based on a specified column or expression\n",
    "\n",
    "HAVING - filters the grouped data based on a specified condition\n",
    "\n",
    "SELECT - selects the columns or expressions to include in the result set\n",
    "\n",
    "DISTINCT - removes duplicate rows from the result set\n",
    "\n",
    "ORDER BY - sorts the result set based on one or more columns or expressions\n",
    "\n",
    "LIMIT/OFFSET - limits the number of rows returned and/or specifies an offset into the result set.\n",
    "\n",
    "It's important to note that not all SQL queries will contain all of these clauses, and the order in which they are written can be rearranged to meet the specific needs of the query. However, this is the typical order in which the clauses are executed in a standard SQL query."
   ]
  }
 ],
 "metadata": {
  "language_info": {
   "name": "python"
  },
  "orig_nbformat": 4
 },
 "nbformat": 4,
 "nbformat_minor": 2
}
