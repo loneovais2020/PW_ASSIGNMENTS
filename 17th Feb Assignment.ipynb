{
 "cells": [
  {
   "attachments": {},
   "cell_type": "markdown",
   "metadata": {},
   "source": [
    "Q1:-\n",
    "\n",
    "Q1. MongoDB is a popular, open-source, NoSQL document-based database management system that stores data in a JSON-like format. It uses dynamic schemas, which means that documents in a collection can have different fields and structures. Non-relational databases, also known as NoSQL databases, are databases that do not use the traditional relational database management system. They are designed to handle unstructured data, which can be challenging to manage in a traditional relational database system.\n",
    "\n",
    "MongoDB is preferred over SQL databases in scenarios where:\n",
    "\n",
    "The data is unstructured or semi-structured.\n",
    "\n",
    "The application requires scalability and high performance.\n",
    "\n",
    "The data is distributed across multiple servers or data centers.\n",
    "\n",
    "The application requires real-time analytics or real-time updates to the data.\n",
    "\n",
    "The application needs to handle large amounts of data with a high write-to-read ratio.\n"
   ]
  },
  {
   "attachments": {},
   "cell_type": "markdown",
   "metadata": {},
   "source": [
    "Q2:-\n",
    "\n",
    "Features of MongoDB include:\n",
    "\n",
    "Flexible Data Model: MongoDB stores data in a JSON-like format, which allows for flexible data modeling and supports the dynamic schemas.\n",
    "\n",
    "Indexing: MongoDB supports secondary indexing, which helps in faster data retrieval and efficient querying.\n",
    "\n",
    "Replication: MongoDB supports replica sets, which allow for automatic data replication and high availability.\n",
    "\n",
    "Sharding: MongoDB supports sharding, which is a method of partitioning data across multiple servers, allowing for horizontal scalability.\n",
    "\n",
    "Aggregation Framework: MongoDB includes a powerful aggregation framework that allows for advanced querying and data analysis.\n",
    "\n",
    "GridFS: MongoDB includes GridFS, which is a way of storing large binary files, such as images or videos, in the database.\n",
    "\n",
    "Native Support for Many Programming Languages: MongoDB has native support for many programming languages, including Python, Java, C++, and more."
   ]
  },
  {
   "attachments": {},
   "cell_type": "markdown",
   "metadata": {},
   "source": [
    "Q3:-\n",
    "\n",
    "Code to connect MongoDB to Python, create a database, and a collection in MongoDB:\n",
    "\n",
    "# Import the pymongo library\n",
    "import pymongo\n",
    "\n",
    "# Set up a client to connect to the MongoDB instance running on localhost\n",
    "client = pymongo.MongoClient('mongodb://localhost:27017/')\n",
    "\n",
    "# Create a database called 'mydatabase'\n",
    "mydatabase = client['mydatabase']\n",
    "\n",
    "# Create a collection called 'mycollection' in the 'mydatabase' database\n",
    "mycollection = mydatabase['mycollection']\n"
   ]
  },
  {
   "attachments": {},
   "cell_type": "markdown",
   "metadata": {},
   "source": [
    "Q4:-\n",
    "\n",
    "Code to insert one record, insert many records, and use the find() and find_one() methods to print the inserted record:\n",
    "\n",
    "# Insert one record into the 'mycollection' collection\n",
    "record = {'name': 'John', 'age': 30}\n",
    "result = mycollection.insert_one(record)\n",
    "\n",
    "# Insert many records into the 'mycollection' collection\n",
    "records = [\n",
    "    {'name': 'Jane', 'age': 25},\n",
    "    {'name': 'Bob', 'age': 35},\n",
    "    {'name': 'Alice', 'age': 28}\n",
    "]\n",
    "result = mycollection.insert_many(records)\n",
    "\n",
    "# Print the inserted record using the find() method\n",
    "for record in mycollection.find():\n",
    "    print(record)\n",
    "\n",
    "# Print the inserted record using the find_one() method\n",
    "record = mycollection.find_one({'name': 'John'})\n",
    "print(record)\n"
   ]
  },
  {
   "attachments": {},
   "cell_type": "markdown",
   "metadata": {},
   "source": [
    "Q5:-\n",
    "\n",
    " The find() method is used to query the MongoDB database to retrieve documents that match a specified set of criteria. The method takes a query object as an argument, which can include various parameters like conditions, projections, sorting, and limiting the number of results returned. The method returns a cursor object, which can be used to iterate through the results.\n",
    "\n",
    "Here is a simple code to demonstrate the use of the find() method:\n",
    "\n",
    "# Find all documents in the 'mycollection' collection\n",
    "for document in mycollection.find():\n",
    "    print(document)\n",
    "\n",
    "# Find documents with the age greater than or equal to 30 in the 'mycollection' collection\n",
    "for document in mycollection.find({'age': {'$gte': 30}}):\n",
    "    print(document)\n",
    "\n",
    "# Find documents with the name 'John' in the 'mycollection' collection and return only the name and age fields\n",
    "for document in mycollection.find({'name': 'John'}, {'name': 1, 'age': 1}):\n",
    "    print(document)\n"
   ]
  },
  {
   "attachments": {},
   "cell_type": "markdown",
   "metadata": {},
   "source": [
    "Q6:-\n",
    "\n",
    "The sort() method is used to sort the results of a query in MongoDB. The method takes one or more sort criteria as arguments and returns a cursor object with the results sorted in ascending or descending order based on the specified criteria. By default, the sort() method sorts the results in ascending order.\n",
    "\n",
    "Here is an example to demonstrate sorting in MongoDB:\n",
    "\n",
    "# Find documents in the 'mycollection' collection and sort them by age in descending order\n",
    "for document in mycollection.find().sort('age', -1):\n",
    "    print(document)\n",
    "\n",
    "# Find documents in the 'mycollection' collection and sort them by name in ascending order\n",
    "for document in mycollection.find().sort('name', 1):\n",
    "    print(document)\n"
   ]
  },
  {
   "attachments": {},
   "cell_type": "markdown",
   "metadata": {},
   "source": [
    "Q7:-\n",
    " The delete_one() and delete_many() methods are used to delete one or many documents from a collection, respectively. The methods take a query object as an argument, which specifies the criteria for selecting the documents to be deleted. If no documents match the specified criteria, the methods do not delete anything.\n",
    "\n",
    "The drop() method is used to delete an entire collection, including all its documents. The method does not take any arguments and removes the entire collection from the database.\n",
    "\n",
    "These methods are used to manage the data in the MongoDB database and remove unwanted or outdated data."
   ]
  }
 ],
 "metadata": {
  "language_info": {
   "name": "python"
  },
  "orig_nbformat": 4
 },
 "nbformat": 4,
 "nbformat_minor": 2
}
