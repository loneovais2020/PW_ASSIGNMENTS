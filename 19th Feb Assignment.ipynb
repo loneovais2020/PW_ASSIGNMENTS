{
 "cells": [
  {
   "attachments": {},
   "cell_type": "markdown",
   "metadata": {},
   "source": [
    "Q1:-\n",
    "\n"
   ]
  },
  {
   "attachments": {},
   "cell_type": "markdown",
   "metadata": {},
   "source": [
    "Q2:-\n",
    "\n",
    "\n",
    "from flask import Flask\n",
    "\n",
    "app=Flask(__name__)\n",
    "\n",
    "@app.route(\"/\")\n",
    "\n",
    "def hello_world():\n",
    "\n",
    "        return \"<h1>Hello World!!!!</h1>\"\n",
    "    \n",
    "\n",
    "if __name__==\"__main__\":\n",
    "\n",
    "        app.run(debug=True)\n"
   ]
  },
  {
   "attachments": {},
   "cell_type": "markdown",
   "metadata": {},
   "source": [
    "![output](output.png)\n"
   ]
  },
  {
   "attachments": {},
   "cell_type": "markdown",
   "metadata": {},
   "source": [
    "Q3:-\n",
    "\n",
    "App routing in Flask refers to the process of mapping URLs to the functions that will handle them. It is a way of defining how Flask should handle incoming requests from a client.\n",
    "\n",
    "Flask uses a decorator called @app.route to define routes. This decorator is used to associate a URL with a function. When a client requests a URL that matches a route defined with this decorator, Flask will call the associated function to handle the request.\n",
    "\n",
    "For example, consider the following code snippet:\n",
    "\n",
    "from flask import Flask\n",
    "\n",
    "app = Flask(__name__)\n",
    "\n",
    "@app.route('/')\n",
    "\n",
    "def hello_world():\n",
    "\n",
    "        return 'Hello, World!'\n",
    "\n",
    "\n",
    "In this code, we've defined a route for the root URL ('/') using the @app.route decorator. When a client requests the root URL, Flask will call the hello_world() function and return the string \"Hello, World!\" as a response.\n",
    "\n",
    "We use app routes in Flask for several reasons:\n",
    "\n",
    "URL organization: By defining routes for different URLs, we can organize our application's URLs in a logical manner.\n",
    "\n",
    "Separation of concerns: By mapping URLs to specific functions, we can separate the different concerns of our application into separate functions, making it easier to maintain and modify the code.\n",
    "\n",
    "Dynamic routing: We can define routes with dynamic components, such as <int:id> or <string:name>, to create URLs that can accept variable values. This allows us to create more flexible and dynamic applications."
   ]
  },
  {
   "attachments": {},
   "cell_type": "markdown",
   "metadata": {},
   "source": [
    "Q4:-\n",
    "\n",
    "from flask import Flask\n",
    "\n",
    "app = Flask(__name__)\n",
    "\n",
    "@app.route('/welcome')\n",
    "\n",
    "def welcome():\n",
    "\n",
    "        return 'Welcome to ABC Corporation'\n",
    "\n",
    "@app.route('/')\n",
    "\n",
    "def company_details():\n",
    "\n",
    "        return 'Company Name: ABC Corporation<br>Location: India<br>Contact Detail: 999-999-9999'\n",
    "    \n",
    "\n",
    "if __name__ == '__main__':\n",
    "\n",
    "        app.run(debug=True)\n",
    "    \n",
    "\n",
    "\n",
    "In this code, we've defined two routes using the @app.route decorator:\n",
    "\n",
    "The /welcome route returns the string \"Welcome to ABC Corporation\" when accessed.\n",
    "The / route returns the company details as HTML-formatted text.\n",
    "When you run this Flask application and access the /welcome or / routes in your browser, you should see the appropriate message displayed."
   ]
  },
  {
   "attachments": {},
   "cell_type": "markdown",
   "metadata": {},
   "source": [
    "![output1](output1.png)"
   ]
  },
  {
   "attachments": {},
   "cell_type": "markdown",
   "metadata": {},
   "source": [
    "![output2](output2.png)"
   ]
  },
  {
   "attachments": {},
   "cell_type": "markdown",
   "metadata": {},
   "source": [
    "Q5:-\n",
    "\n",
    "The url_for() function is used in Flask for URL building. It generates a URL for a given endpoint and any arguments provided, which is useful for creating links within templates and views that will be consistent even if the route is changed.\n",
    "\n",
    "Here's an example Python code to demonstrate the working of the url_for() function in Flask:\n",
    "\n",
    "from flask import Flask, url_for\n",
    "\n",
    "app = Flask(__name__)\n",
    "\n",
    "@app.route('/hello/<name>')\n",
    "\n",
    "def hello(name):\n",
    "\n",
    "        return f'Hello, {name}!'\n",
    "    \n",
    "\n",
    "@app.route('/user/<int:user_id>')\n",
    "\n",
    "def user_profile(user_id):\n",
    "\n",
    "        return f'This is the profile page for user #{user_id}'\n",
    "    \n",
    "\n",
    "if __name__ == '__main__':\n",
    "\n",
    "        app.run(debug=True)\n",
    "        \n"
   ]
  }
 ],
 "metadata": {
  "kernelspec": {
   "display_name": "Python 3",
   "language": "python",
   "name": "python3"
  },
  "language_info": {
   "codemirror_mode": {
    "name": "ipython",
    "version": 3
   },
   "file_extension": ".py",
   "mimetype": "text/x-python",
   "name": "python",
   "nbconvert_exporter": "python",
   "pygments_lexer": "ipython3",
   "version": "3.11.2"
  },
  "orig_nbformat": 4
 },
 "nbformat": 4,
 "nbformat_minor": 2
}
