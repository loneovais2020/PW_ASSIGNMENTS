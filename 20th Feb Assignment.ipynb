{
 "cells": [
  {
   "attachments": {},
   "cell_type": "markdown",
   "metadata": {},
   "source": [
    "Q1:-\n",
    "\n",
    "\n",
    "\n",
    "GET method: used to retrieve data from a server. When a user submits a GET request, the server responds by sending back the requested data. This data can be in the form of HTML, JSON, XML, or any other format.\n",
    "\n",
    "\n",
    "POST method: used to send data to a server to create or update a resource. When a user submits a POST request, the server processes the data and may respond with a confirmation message. The data is typically sent in the request body.\n",
    "\n",
    "\n",
    "Q2:-\n",
    "\n",
    "In Flask, the request object is used to access the data that a client sends to a server in a HTTP request. The request object contains information about the request such as the method (GET, POST, etc.), headers, data (form data or JSON), and files. It allows the server to process the incoming data and generate a response based on the request.\n",
    "\n",
    "\n",
    "\n",
    "Q3:-\n",
    "\n",
    "\n",
    "In Flask, redirect() is used to redirect the user to a different endpoint or URL. This can be useful in scenarios where the user needs to be redirected to a different page after performing an action, such as submitting a form. The redirect() function takes a URL as its argument and returns a response with a 302 status code, indicating a temporary redirect.\n",
    "\n",
    "\n",
    "\n",
    "Q4:-\n",
    "\n",
    "\n",
    "In Flask, templates are used to generate HTML pages dynamically. A template contains placeholders for dynamic content that can be filled in with data from a database, API, or other sources. The render_template() function is used to render a template and return an HTML response to the user. It takes the name of the template file as its argument and any additional context data that needs to be passed to the template."
   ]
  },
  {
   "attachments": {},
   "cell_type": "markdown",
   "metadata": {},
   "source": [
    "Q5:-\n",
    "\n",
    "Here's an example of a simple API that returns a greeting message:"
   ]
  },
  {
   "cell_type": "code",
   "execution_count": 1,
   "metadata": {},
   "outputs": [
    {
     "name": "stdout",
     "output_type": "stream",
     "text": [
      " * Serving Flask app '__main__'\n",
      " * Debug mode: off\n"
     ]
    },
    {
     "name": "stderr",
     "output_type": "stream",
     "text": [
      "WARNING: This is a development server. Do not use it in a production deployment. Use a production WSGI server instead.\n",
      " * Running on http://127.0.0.1:5000\n",
      "Press CTRL+C to quit\n",
      "127.0.0.1 - - [26/Mar/2023 21:44:16] \"GET / HTTP/1.1\" 404 -\n",
      "127.0.0.1 - - [26/Mar/2023 21:44:25] \"POST /greeting/ovais HTTP/1.1\" 200 -\n"
     ]
    }
   ],
   "source": [
    "from flask import Flask, jsonify\n",
    "\n",
    "app = Flask(__name__)\n",
    "\n",
    "@app.route('/greeting/<name>',methods=[\"POST\"])\n",
    "def greeting(name):\n",
    "    message = f'Hello, {name}!'\n",
    "    return jsonify({'message': message})\n",
    "\n",
    "if __name__ == '__main__':\n",
    "    app.run()\n"
   ]
  },
  {
   "attachments": {},
   "cell_type": "markdown",
   "metadata": {},
   "source": [
    "![output3](output3.PNG)\n"
   ]
  },
  {
   "attachments": {},
   "cell_type": "markdown",
   "metadata": {},
   "source": [
    "In this API, we have defined a route /greeting/<name> that takes a name parameter in the URL. When a user makes a GET request to this endpoint, the greeting() function is called with the name parameter. The function generates a greeting message with the name and returns it as a JSON response using the jsonify() function."
   ]
  }
 ],
 "metadata": {
  "kernelspec": {
   "display_name": "Python 3",
   "language": "python",
   "name": "python3"
  },
  "language_info": {
   "codemirror_mode": {
    "name": "ipython",
    "version": 3
   },
   "file_extension": ".py",
   "mimetype": "text/x-python",
   "name": "python",
   "nbconvert_exporter": "python",
   "pygments_lexer": "ipython3",
   "version": "3.11.2"
  },
  "orig_nbformat": 4
 },
 "nbformat": 4,
 "nbformat_minor": 2
}
