{
 "cells": [
  {
   "attachments": {},
   "cell_type": "markdown",
   "metadata": {},
   "source": [
    "Q1:-\n",
    "\n"
   ]
  },
  {
   "cell_type": "code",
   "execution_count": 2,
   "metadata": {},
   "outputs": [
    {
     "name": "stdout",
     "output_type": "stream",
     "text": [
      "0     4\n",
      "1     8\n",
      "2    15\n",
      "3    16\n",
      "4    23\n",
      "5    42\n",
      "dtype: int64\n"
     ]
    }
   ],
   "source": [
    "import pandas as pd\n",
    "\n",
    "# create a series\n",
    "my_series = pd.Series([4, 8, 15, 16, 23, 42])\n",
    "\n",
    "# print the series\n",
    "print(my_series)\n"
   ]
  },
  {
   "attachments": {},
   "cell_type": "markdown",
   "metadata": {},
   "source": [
    "Q2:-\n",
    "\n",
    "Here's how you can create a list variable with 10 elements, apply the pandas.Series function on it, and print the resulting series:"
   ]
  },
  {
   "cell_type": "code",
   "execution_count": 3,
   "metadata": {},
   "outputs": [
    {
     "name": "stdout",
     "output_type": "stream",
     "text": [
      "0     1\n",
      "1     2\n",
      "2     3\n",
      "3     4\n",
      "4     5\n",
      "5     6\n",
      "6     7\n",
      "7     8\n",
      "8     9\n",
      "9    10\n",
      "dtype: int64\n"
     ]
    }
   ],
   "source": [
    "import pandas as pd\n",
    "\n",
    "# create a list\n",
    "my_list = [1, 2, 3, 4, 5, 6, 7, 8, 9, 10]\n",
    "\n",
    "# create a series from the list\n",
    "my_series = pd.Series(my_list)\n",
    "\n",
    "# print the series\n",
    "print(my_series)\n"
   ]
  },
  {
   "attachments": {},
   "cell_type": "markdown",
   "metadata": {},
   "source": [
    "Q3:-\n",
    "\n"
   ]
  },
  {
   "cell_type": "code",
   "execution_count": 1,
   "metadata": {},
   "outputs": [
    {
     "name": "stdout",
     "output_type": "stream",
     "text": [
      "     Name  Age  Gender\n",
      "0   Alice   25  Female\n",
      "1     Bob   30    Male\n",
      "2  Claire   27  Female\n"
     ]
    }
   ],
   "source": [
    "import pandas as pd\n",
    "\n",
    "data = {\n",
    "    'Name': ['Alice', 'Bob', 'Claire'],\n",
    "    'Age': [25, 30, 27],\n",
    "    'Gender': ['Female', 'Male', 'Female']\n",
    "}\n",
    "\n",
    "df = pd.DataFrame(data)\n",
    "\n",
    "print(df)"
   ]
  },
  {
   "attachments": {},
   "cell_type": "markdown",
   "metadata": {},
   "source": [
    "This Python code creates a Pandas DataFrame with three columns named \"Name\", \"Age\", and \"Gender\". The DataFrame consists of three rows of data containing the names, ages, and genders of three individuals named Alice, Bob, and Claire.\n",
    "\n",
    "Here's a breakdown of the code:\n",
    "\n",
    "import pandas as pd\n",
    "\n",
    "\n",
    "This line imports the Pandas library and assigns it the name \"pd\".\n",
    "\n",
    "data = {\n",
    "\n",
    "    'Name': ['Alice', 'Bob', 'Claire'],\n",
    "\n",
    "    'Age': [25, 30, 27],\n",
    "\n",
    "    'Gender': ['Female', 'Male', 'Female']\n",
    "\n",
    "}\n",
    "\n",
    "\n",
    "This creates a Python dictionary named \"data\" with three keys ('Name', 'Age', and 'Gender') and their corresponding values. The values for each key are given as a list of strings for the 'Name' and 'Gender' columns, and a list of integers for the 'Age' column.\n",
    "\n",
    "df = pd.DataFrame(data)\n",
    "\n",
    "This line creates a Pandas DataFrame named \"df\" using the data dictionary. Pandas DataFrame is a two-dimensional table with labeled axes (rows and columns), and this table is created from the dictionary with each key as a column and its corresponding values as column entries.\n",
    "\n",
    "print(df)\n",
    "\n",
    "This line prints the entire DataFrame created above. "
   ]
  },
  {
   "attachments": {},
   "cell_type": "markdown",
   "metadata": {},
   "source": [
    "Q4:-\n",
    "\n",
    "A DataFrame in Pandas is a 2-dimensional labeled data structure with columns of potentially different types, similar to a table in a relational database or a spreadsheet. It can be thought of as a collection of Pandas Series objects, where each Series represents a column of data.\n",
    "\n",
    "The main differences between a DataFrame and a Series are:\n",
    "\n",
    "A Series is a 1-dimensional labeled array that can hold any data type, while a DataFrame is a 2-dimensional labeled data structure with columns of potentially different data types.\n",
    "A DataFrame can be thought of as a collection of Series objects, where each Series represents a column of data, while a Series represents a single column of data.\n",
    "Here's an example to demonstrate the difference:"
   ]
  },
  {
   "cell_type": "code",
   "execution_count": 4,
   "metadata": {},
   "outputs": [
    {
     "name": "stdout",
     "output_type": "stream",
     "text": [
      "0    1\n",
      "1    2\n",
      "2    3\n",
      "3    4\n",
      "dtype: int64\n",
      "   A  B\n",
      "0  1  2\n",
      "1  2  4\n",
      "2  3  6\n",
      "3  4  8\n"
     ]
    }
   ],
   "source": [
    "import pandas as pd\n",
    "\n",
    "# create a Series object\n",
    "my_series = pd.Series([1, 2, 3, 4])\n",
    "\n",
    "# create a DataFrame from a dictionary of Series objects\n",
    "my_dict = {'A': my_series, 'B': my_series*2}\n",
    "my_dataframe = pd.DataFrame(my_dict)\n",
    "\n",
    "# print the Series and DataFrame\n",
    "print(my_series)\n",
    "print(my_dataframe)\n"
   ]
  },
  {
   "attachments": {},
   "cell_type": "markdown",
   "metadata": {},
   "source": [
    "In this example, we first create a Pandas Series object called my_series that contains the values [1, 2, 3, 4]. We then create a dictionary my_dict that contains two keys ('A' and 'B'), each of which corresponds to a Pandas Series object. We use these Series objects to create a Pandas DataFrame object my_dataframe. Note that my_dataframe has two columns ('A' and 'B'), each of which corresponds to a Series object."
   ]
  },
  {
   "attachments": {},
   "cell_type": "markdown",
   "metadata": {},
   "source": [
    "Q5:-\n",
    "\n",
    " Some common functions to manipulate data in a Pandas DataFrame include:\n",
    "\n",
    "head() and tail(): to view the first or last few rows of the DataFrame\n",
    "\n",
    "describe(): to view summary statistics of the DataFrame\n",
    "\n",
    "dropna(): to remove rows or columns with missing data\n",
    "\n",
    "groupby(): to group the DataFrame by one or more columns and apply a function to each group\n",
    "\n",
    "sort_values(): to sort the DataFrame by one or more columns\n",
    "\n",
    "pivot(): to reshape the DataFrame from long to wide format based on the values of one or more columns\n",
    "\n",
    "Here's an example of using the groupby() function to group a DataFrame by one column and apply a function to each group:\n"
   ]
  },
  {
   "cell_type": "code",
   "execution_count": 5,
   "metadata": {},
   "outputs": [
    {
     "name": "stdout",
     "output_type": "stream",
     "text": [
      "Name\n",
      "Alice      65000.0\n",
      "Bob        60000.0\n",
      "Charlie    80000.0\n",
      "Name: Salary, dtype: float64\n"
     ]
    }
   ],
   "source": [
    "import pandas as pd\n",
    "\n",
    "# create a DataFrame\n",
    "data = {'Name': ['Alice', 'Bob', 'Charlie', 'Alice', 'Charlie'],\n",
    "        'Age': [25, 30, 35, 40, 45],\n",
    "        'Salary': [50000, 60000, 70000, 80000, 90000]}\n",
    "df = pd.DataFrame(data)\n",
    "\n",
    "# group the DataFrame by 'Name' and calculate the average salary for each group\n",
    "average_salary = df.groupby('Name')['Salary'].mean()\n",
    "\n",
    "# print the result\n",
    "print(average_salary)\n",
    "\n"
   ]
  },
  {
   "attachments": {},
   "cell_type": "markdown",
   "metadata": {},
   "source": [
    "In this example, we create a DataFrame with three columns ('Name', 'Age', and 'Salary') and five rows. We then group the DataFrame by the 'Name' column using the groupby() function and calculate the average salary for each group using the mean() function. The result is a new Series object that contains the average salary for each unique value in the 'Name' column."
   ]
  },
  {
   "attachments": {},
   "cell_type": "markdown",
   "metadata": {},
   "source": [
    "Q6:-\n",
    "\n",
    " Both Series and DataFrame are mutable in nature, meaning that their values can be modified after they are created. However, a Panel object in Pandas is deprecated and no longer recommended for use."
   ]
  },
  {
   "attachments": {},
   "cell_type": "markdown",
   "metadata": {},
   "source": [
    "Q7:-\n",
    "\n",
    "Here's an example of creating a DataFrame using multiple Series:"
   ]
  },
  {
   "cell_type": "code",
   "execution_count": 6,
   "metadata": {},
   "outputs": [
    {
     "name": "stdout",
     "output_type": "stream",
     "text": [
      "      Name  Age  Salary\n",
      "0    Alice   25   50000\n",
      "1      Bob   30   60000\n",
      "2  Charlie   35   70000\n",
      "3    David   40   80000\n"
     ]
    }
   ],
   "source": [
    "import pandas as pd\n",
    "\n",
    "# create three Series objects\n",
    "names = pd.Series(['Alice', 'Bob', 'Charlie', 'David'])\n",
    "ages = pd.Series([25, 30, 35, 40])\n",
    "salaries = pd.Series([50000, 60000, 70000, 80000])\n",
    "\n",
    "# create a DataFrame from the Series objects\n",
    "df = pd.DataFrame({'Name': names, 'Age': ages, 'Salary': salaries})\n",
    "\n",
    "# print the DataFrame\n",
    "print(df)\n"
   ]
  },
  {
   "attachments": {},
   "cell_type": "markdown",
   "metadata": {},
   "source": [
    "In this example, we first create three Pandas Series objects called names, ages, and salaries that contain the data for each column of the DataFrame. We then create a dictionary where the keys correspond to the column names, and the values correspond to the Series objects. Finally, we use the pd.DataFrame() function to create a DataFrame from the dictionary."
   ]
  }
 ],
 "metadata": {
  "kernelspec": {
   "display_name": "Python 3",
   "language": "python",
   "name": "python3"
  },
  "language_info": {
   "codemirror_mode": {
    "name": "ipython",
    "version": 3
   },
   "file_extension": ".py",
   "mimetype": "text/x-python",
   "name": "python",
   "nbconvert_exporter": "python",
   "pygments_lexer": "ipython3",
   "version": "3.11.2"
  },
  "orig_nbformat": 4
 },
 "nbformat": 4,
 "nbformat_minor": 2
}
