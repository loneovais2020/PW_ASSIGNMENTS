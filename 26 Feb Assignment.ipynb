{
 "cells": [
  {
   "attachments": {},
   "cell_type": "markdown",
   "metadata": {},
   "source": [
    "Q1:-\n",
    "\n",
    "Yes, there is a difference in the data type of variables list_ and array_list.\n",
    "list_ is a Python list object, whereas array_list is a NumPy array object."
   ]
  },
  {
   "cell_type": "code",
   "execution_count": 5,
   "metadata": {},
   "outputs": [
    {
     "name": "stdout",
     "output_type": "stream",
     "text": [
      "<class 'list'>\n",
      "<class 'numpy.ndarray'>\n"
     ]
    }
   ],
   "source": [
    "import numpy as np\n",
    "list_ = [ \"1\" , \"2\" , \"3\" , \"4\" , \"5\" ]\n",
    "array_list = np.array(object = list_)\n",
    "\n",
    "print(type(list_))\n",
    "print(type(array_list))"
   ]
  },
  {
   "attachments": {},
   "cell_type": "markdown",
   "metadata": {},
   "source": [
    "\n",
    "As you can see, the type() function returns list for the list_ variable and numpy.ndarray for the array_list variable."
   ]
  },
  {
   "attachments": {},
   "cell_type": "markdown",
   "metadata": {},
   "source": [
    "Q2:-\n"
   ]
  },
  {
   "cell_type": "code",
   "execution_count": 6,
   "metadata": {},
   "outputs": [
    {
     "name": "stdout",
     "output_type": "stream",
     "text": [
      "Printing the data type of all elements of list_ \n",
      "The data type of 1 is <class 'str'>\n",
      "The data type of 2 is <class 'str'>\n",
      "The data type of 3 is <class 'str'>\n",
      "The data type of 4 is <class 'str'>\n",
      "The data type of 5 is <class 'str'>\n",
      "Printing the data type of all elements of array_list \n",
      "The data type of 1 is <class 'numpy.str_'>\n",
      "The data type of 2 is <class 'numpy.str_'>\n",
      "The data type of 3 is <class 'numpy.str_'>\n",
      "The data type of 4 is <class 'numpy.str_'>\n",
      "The data type of 5 is <class 'numpy.str_'>\n"
     ]
    }
   ],
   "source": [
    "\n",
    "def print_data_type(x):\n",
    "    for i in x:\n",
    "        print(f\"The data type of {i} is {type(i)}\")\n",
    "\n",
    "\n",
    "print(\"Printing the data type of all elements of list_ \")\n",
    "print_data_type(list_)\n",
    "\n",
    "print(\"Printing the data type of all elements of array_list \")\n",
    "print_data_type(array_list)"
   ]
  },
  {
   "attachments": {},
   "cell_type": "markdown",
   "metadata": {},
   "source": [
    "The given code defines a function named print_data_type that takes a single argument x. The function iterates over the elements of x and prints the data type of each element using the type() function.\n",
    "\n",
    "The print_data_type function is then called twice with two different variables as arguments. First, it is called with list_ as the argument, which is a list of strings. The function prints the data type of each element of the list. Then, it is called with array_list as the argument, which is a NumPy array of strings. The function again prints the data type of each element of the array."
   ]
  },
  {
   "attachments": {},
   "cell_type": "markdown",
   "metadata": {},
   "source": [
    "Q3:-\n",
    "\n",
    "Yes, there will be a difference in the data type of the elements present in array_list after the change array_list = np.array(object=list_, dtype=int). The dtype=int argument specifies that the elements of array_list should be converted to integer type."
   ]
  },
  {
   "cell_type": "code",
   "execution_count": 8,
   "metadata": {},
   "outputs": [
    {
     "name": "stdout",
     "output_type": "stream",
     "text": [
      "Printing the data type of all elements of list_ \n",
      "The data type of 1 is <class 'str'>\n",
      "The data type of 2 is <class 'str'>\n",
      "The data type of 3 is <class 'str'>\n",
      "The data type of 4 is <class 'str'>\n",
      "The data type of 5 is <class 'str'>\n",
      "Printing the data type of all elements of array_list \n",
      "The data type of 1 is <class 'numpy.int32'>\n",
      "The data type of 2 is <class 'numpy.int32'>\n",
      "The data type of 3 is <class 'numpy.int32'>\n",
      "The data type of 4 is <class 'numpy.int32'>\n",
      "The data type of 5 is <class 'numpy.int32'>\n"
     ]
    }
   ],
   "source": [
    "array_list = np.array(object = list_, dtype = int)\n",
    "\n",
    "print(\"Printing the data type of all elements of list_ \")\n",
    "print_data_type(list_)\n",
    "\n",
    "print(\"Printing the data type of all elements of array_list \")\n",
    "print_data_type(array_list)"
   ]
  },
  {
   "attachments": {},
   "cell_type": "markdown",
   "metadata": {},
   "source": [
    "Q4:-\n",
    "\n"
   ]
  },
  {
   "cell_type": "code",
   "execution_count": 10,
   "metadata": {},
   "outputs": [],
   "source": [
    "import numpy as np\n",
    "num_list = [ [ 1 , 2 , 3 ] , [ 4 , 5 , 6 ] ]\n",
    "num_array = np.array(object = num_list)\n",
    "\n"
   ]
  },
  {
   "attachments": {},
   "cell_type": "markdown",
   "metadata": {},
   "source": [
    "The shape of a NumPy array gives the dimensions of the array, i.e., the number of rows and columns. The size of a NumPy array gives the total number of elements in the array.\n",
    "\n",
    "To find the shape and size of the num_array variable, you can use the shape and size attributes of the NumPy array. Here's how you can do it:\n",
    "\n",
    "i)\n"
   ]
  },
  {
   "cell_type": "code",
   "execution_count": 12,
   "metadata": {},
   "outputs": [
    {
     "name": "stdout",
     "output_type": "stream",
     "text": [
      "The shape of num_array is (2, 3)\n"
     ]
    }
   ],
   "source": [
    "print(f\"The shape of num_array is {num_array.shape}\")"
   ]
  },
  {
   "attachments": {},
   "cell_type": "markdown",
   "metadata": {},
   "source": [
    "ii)"
   ]
  },
  {
   "cell_type": "code",
   "execution_count": 13,
   "metadata": {},
   "outputs": [
    {
     "name": "stdout",
     "output_type": "stream",
     "text": [
      "The size of num_array 6\n"
     ]
    }
   ],
   "source": [
    "print(f\"The size of num_array {num_array.size}\")"
   ]
  },
  {
   "attachments": {},
   "cell_type": "markdown",
   "metadata": {},
   "source": [
    "As you can see, the shape of num_array is (2, 3), which means that it has 2 rows and 3 columns, and the size of num_array is 6, which means that it has a total of 6 elements."
   ]
  },
  {
   "attachments": {},
   "cell_type": "markdown",
   "metadata": {},
   "source": [
    "Q5:-\n",
    "\n",
    "To create a NumPy array of a 3x3 matrix containing zeros only, we can use the zeros function from NumPy. The zeros function creates an array of the specified shape and type, with all elements initialized to 0.\n",
    "\n",
    "Here's how we can create a NumPy array of a 3x3 matrix containing zeros only:"
   ]
  },
  {
   "cell_type": "code",
   "execution_count": 22,
   "metadata": {},
   "outputs": [
    {
     "data": {
      "text/plain": [
       "array([[0., 0., 0.],\n",
       "       [0., 0., 0.],\n",
       "       [0., 0., 0.]])"
      ]
     },
     "execution_count": 22,
     "metadata": {},
     "output_type": "execute_result"
    }
   ],
   "source": [
    "zeros_array=np.zeros((3,3))\n",
    "zeros_array"
   ]
  },
  {
   "attachments": {},
   "cell_type": "markdown",
   "metadata": {},
   "source": [
    "As you can see, the zeros_array variable contains a NumPy array of a 3x3 matrix containing zeros only."
   ]
  },
  {
   "attachments": {},
   "cell_type": "markdown",
   "metadata": {},
   "source": [
    "Q6:-\n",
    "\n",
    "To create an identity matrix of shape (5,5) using NumPy functions, you can use the eye function from NumPy. The eye function creates a square matrix with 1s on the diagonal and 0s elsewhere.\n",
    "\n",
    "Here's how you can create an identity matrix of shape (5,5) using NumPy:"
   ]
  },
  {
   "cell_type": "code",
   "execution_count": 21,
   "metadata": {},
   "outputs": [
    {
     "data": {
      "text/plain": [
       "array([[1., 0., 0., 0., 0.],\n",
       "       [0., 1., 0., 0., 0.],\n",
       "       [0., 0., 1., 0., 0.],\n",
       "       [0., 0., 0., 1., 0.],\n",
       "       [0., 0., 0., 0., 1.]])"
      ]
     },
     "execution_count": 21,
     "metadata": {},
     "output_type": "execute_result"
    }
   ],
   "source": [
    "identity_matrix=np.eye(5)\n",
    "identity_matrix"
   ]
  },
  {
   "attachments": {},
   "cell_type": "markdown",
   "metadata": {},
   "source": [
    "As you can see, the identity_matrix variable contains a NumPy array of an identity matrix of shape (5,5)."
   ]
  }
 ],
 "metadata": {
  "kernelspec": {
   "display_name": "Python 3",
   "language": "python",
   "name": "python3"
  },
  "language_info": {
   "codemirror_mode": {
    "name": "ipython",
    "version": 3
   },
   "file_extension": ".py",
   "mimetype": "text/x-python",
   "name": "python",
   "nbconvert_exporter": "python",
   "pygments_lexer": "ipython3",
   "version": "3.11.2"
  },
  "orig_nbformat": 4
 },
 "nbformat": 4,
 "nbformat_minor": 2
}
