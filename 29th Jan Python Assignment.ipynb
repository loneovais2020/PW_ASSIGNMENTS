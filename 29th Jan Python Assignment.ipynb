{
 "cells": [
  {
   "cell_type": "markdown",
   "metadata": {},
   "source": [
    "Q1:-  Python was created by Guido van Rossum, and first released on February 20, 1991.\n"
   ]
  },
  {
   "cell_type": "markdown",
   "metadata": {},
   "source": [
    "Q2:-  Python is a high-level, general-purpose programming language that supports a wide range of programming paradigms including:\n",
    "\n",
    "Procedural programming: This is the traditional way of writing code, where you define a sequence of steps to be executed in order.\n",
    "\n",
    "Object-oriented programming (OOP): Python is a fully object-oriented language, which means that you can use classes and objects to encapsulate data and behavior.\n",
    "\n",
    "Functional programming: Python supports functional programming concepts like lambda functions, map, reduce, and filter functions.\n",
    "\n",
    "Scripting: Python is often used as a scripting language to automate tasks and for rapid prototyping."
   ]
  },
  {
   "cell_type": "markdown",
   "metadata": {},
   "source": [
    "Q3:-   Yes, Python is case sensitive when dealing with identifiers. This means that variables and other identifiers in Python are treated as distinct based on their capitalization. For example, the variables \"myVariable\" and \"myvariable\" would be considered two different variables in Python."
   ]
  },
  {
   "cell_type": "markdown",
   "metadata": {},
   "source": [
    "Q4:-   The correct extension of a Python file is \".py\". For example, if you have a Python file called \"my_program.py\", you would run it from the command line using the command \"python my_program.py\"."
   ]
  },
  {
   "cell_type": "markdown",
   "metadata": {},
   "source": [
    "Q5:-   Python is an interpreted language, which means that the Python code is executed directly by the Python interpreter without first being compiled into machine code. When you run a Python program, the interpreter reads the source code line by line and executes it on-the-fly."
   ]
  },
  {
   "cell_type": "markdown",
   "metadata": {},
   "source": [
    "Q6:-   Some blocks of code used to define in Python programming include:\n",
    "\n",
    "Functions: Blocks of code that can be called repeatedly to perform a specific task.\n",
    "Classes: Templates for creating objects that encapsulate data and behavior.\n",
    "Modules: Files that contain Python code that can be imported into other Python programs.\n",
    "Conditional statements: Blocks of code that are executed only if certain conditions are met.\n",
    "Loops: Blocks of code that are executed repeatedly while a certain condition is true."
   ]
  },
  {
   "cell_type": "markdown",
   "metadata": {},
   "source": [
    "Q7:-   The character used to give a single line comment in Python is the hash symbol (#). Any text that follows a hash symbol on a line is treated as a comment and ignored by the Python interpreter."
   ]
  },
  {
   "cell_type": "markdown",
   "metadata": {},
   "source": [
    "Q8:-   The function to find the current version of Python that a user is using is called \"sys.version\". \n",
    "You can use it like this:\n",
    "\n",
    "import sys\n",
    "\n",
    "print(sys.version)\n"
   ]
  },
  {
   "cell_type": "markdown",
   "metadata": {},
   "source": [
    "Q9:-   The constructor used to create anonymous functions at runtime in Python is called \"lambda\". For example, the following code creates a lambda function that adds two numbers:\n",
    "\n",
    "add = lambda x, y: x + y\n"
   ]
  },
  {
   "cell_type": "markdown",
   "metadata": {},
   "source": [
    "Q10:-   \"pip\" stands for \"pip installs packages\". It is a package manager for Python that allows you to easily install and manage third-party libraries and modules.\n"
   ]
  },
  {
   "cell_type": "markdown",
   "metadata": {},
   "source": [
    "Q11:-   Some built-in functions in Python include:\n",
    "\n",
    "\n",
    "print(): Prints a value to the console.\n",
    "\n",
    "len(): Returns the length of an object.\n",
    "\n",
    "range(): Returns a sequence of numbers.\n",
    "\n",
    "type(): Returns the type of an object.\n",
    "\n",
    "int(): Converts a value to an integer.\n",
    "\n",
    "float(): Converts a value to a floating-point number.\n",
    "\n",
    "str(): Converts a value to a string.\n",
    "\n",
    "input(): Prompts the user for input.\n"
   ]
  },
  {
   "cell_type": "markdown",
   "metadata": {},
   "source": [
    "Q12:-   The maximum length of an identifier in Python is implementation-dependent, but typically it is 79 characters. However, it is recommended to keep identifiers shorter than this to make code more readable and maintainable."
   ]
  },
  {
   "cell_type": "markdown",
   "metadata": {},
   "source": [
    "Q13:-   There are several benefits of using Python, including:\n",
    "Easy to learn and use: Python has a simple syntax that is easy to understand and read, making it an ideal language for beginners.\n",
    "\n",
    "Large community and ecosystem: Python has a large and active community of developers, which has resulted in a vast ecosystem of libraries, frameworks, and tools that can be used to build a wide range of applications.\n",
    "\n",
    "Cross-platform compatibility: Python code can be run on multiple platforms, including Windows, macOS, and Linux, without requiring any modifications.\n",
    "\n",
    "Strong support for scientific computing and data analysis: Python has several libraries and tools that make it a popular choice for scientific computing and data analysis, such as NumPy, Pandas, and Matplotlib.\n",
    "\n",
    "Rapid prototyping and development: Python's ease of use and large ecosystem make it a popular choice for rapid prototyping and development of applications."
   ]
  },
  {
   "cell_type": "markdown",
   "metadata": {},
   "source": [
    "Q14:-   Memory management in Python is handled automatically by the Python interpreter through a process called garbage collection. When a Python object is no longer needed, the interpreter automatically deallocates the memory used by that object.\n",
    "Python uses a reference counting scheme to keep track of how many references to an object exist. When the reference count of an object reaches zero, the object is no longer needed and its memory is deallocated. In addition to reference counting, Python also uses a cyclic garbage collector to detect and remove circular references, where two or more objects reference each other and are not reachable by any other part of the program."
   ]
  },
  {
   "cell_type": "markdown",
   "metadata": {},
   "source": [
    "Q15:-   To install Python on Windows and set path variables, you can follow these steps:\n",
    "Download the latest version of Python from the official Python website (https://www.python.org/downloads/windows/).\n",
    "Run the downloaded installer and follow the prompts to install Python.\n",
    "During the installation process, select the option to add Python to your system PATH.\n",
    "After the installation is complete, open the command prompt and type \"python\". If Python is installed correctly, you should see the Python version number and the Python prompt (>>>) appear.\n",
    "\n",
    "You can also add the system variables path by following the below steps:\n",
    "\n",
    "\n",
    "\n",
    "Right-clicking This PC and going to Properties.\n",
    "\n",
    "Clicking on the Advanced system settings in the menu on the left.\n",
    "\n",
    "Clicking on the Environment Variables button o​n the bottom right.\n",
    "\n",
    "In the System variables section, selecting the Path variable and clicking on Edit. The next screen will show all the directories that are currently a part of the PATH variable.\n",
    "\n",
    "Clicking on New and entering Python’s install directory."
   ]
  },
  {
   "cell_type": "markdown",
   "metadata": {},
   "source": [
    "Q16:-   Yes, indentation is required in Python. Python uses whitespace (tabs or spaces) to delimit blocks of code, such as functions, loops, and conditional statements. In Python, indentation is used to indicate the scope of a block of code, rather than using curly braces or keywords like \"begin\" and \"end\" like some other programming languages.\n",
    "For example, here's an example of a Python function that uses indentation to define its scope:\n",
    "\n",
    "\n",
    "def my_function():\n",
    "\n",
    "    print(\"Going to do addition:\")\n",
    "\n",
    "    x = 2\n",
    "\n",
    "    y = 3\n",
    "\n",
    "    z = x + y\n",
    "\n",
    "    print(z)\n",
    "\n",
    "\n",
    "In this example, the block of code that defines the \"my_function\" function is indented by four spaces, indicating that it is part of the function definition.\n",
    "\n"
   ]
  }
 ],
 "metadata": {
  "kernelspec": {
   "display_name": "Python 3.10.6 64-bit",
   "language": "python",
   "name": "python3"
  },
  "language_info": {
   "codemirror_mode": {
    "name": "ipython",
    "version": 3
   },
   "file_extension": ".py",
   "mimetype": "text/x-python",
   "name": "python",
   "nbconvert_exporter": "python",
   "pygments_lexer": "ipython3",
   "version": "3.10.6"
  },
  "orig_nbformat": 4,
  "vscode": {
   "interpreter": {
    "hash": "63963b3f4c440940f0b94a3100916033a226cb4f45979123153792d60aa56d6a"
   }
  }
 },
 "nbformat": 4,
 "nbformat_minor": 2
}
