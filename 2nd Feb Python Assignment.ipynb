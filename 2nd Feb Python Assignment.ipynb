{
 "cells": [
  {
   "cell_type": "markdown",
   "metadata": {},
   "source": [
    "\n",
    "Q1:-\n",
    "\n",
    "In Python, for and while loops are used to execute a block of code repeatedly. The choice of which loop to use depends on the specific task at hand.\n",
    "\n",
    "A for loop is used when we know the number of times we need to execute a block of code. It is typically used to iterate over a sequence of elements such as a list, tuple, or string. For example, we can use a for loop to iterate over a list of numbers and calculate their sum as shown below:"
   ]
  },
  {
   "cell_type": "code",
   "execution_count": 9,
   "metadata": {},
   "outputs": [
    {
     "name": "stdout",
     "output_type": "stream",
     "text": [
      "The sum is: 15\n"
     ]
    }
   ],
   "source": [
    "# create a list of numbers\n",
    "numbers = [1, 2, 3, 4, 5]\n",
    "\n",
    "# initialize the sum variable\n",
    "sum = 0\n",
    "\n",
    "# iterate over the numbers in the list\n",
    "for num in numbers:\n",
    "    sum += num # add each number to the sum\n",
    "\n",
    "# print the result\n",
    "print(\"The sum is:\", sum)\n",
    "\n"
   ]
  },
  {
   "cell_type": "markdown",
   "metadata": {},
   "source": [
    "On the other hand, a while loop is used when we do not know the number of times we need to execute a block of code, but rather we have a condition that needs to be met. It is typically used when we need to repeatedly execute a block of code until a certain condition is met. For example, we can use a while loop to print numbers from 1 to 5 as shown below:"
   ]
  },
  {
   "cell_type": "code",
   "execution_count": 10,
   "metadata": {},
   "outputs": [
    {
     "name": "stdout",
     "output_type": "stream",
     "text": [
      "1\n",
      "2\n",
      "3\n",
      "4\n",
      "5\n"
     ]
    }
   ],
   "source": [
    "num = 1 # initialize the variable num to 1\n",
    "while num <= 5: # loop while the value of num is less than or equal to 5\n",
    "    print(num) # print the value of num\n",
    "    num += 1 # increment the value of num by 1\n",
    "\n"
   ]
  },
  {
   "cell_type": "markdown",
   "metadata": {},
   "source": [
    "In summary, use a for loop when we know the number of times we need to execute a block of code, and a while loop when we have a condition that needs to be met.\n"
   ]
  },
  {
   "cell_type": "markdown",
   "metadata": {},
   "source": [
    "Q2:-\n",
    "\n",
    "Using a for loop:"
   ]
  },
  {
   "cell_type": "code",
   "execution_count": 11,
   "metadata": {},
   "outputs": [
    {
     "name": "stdout",
     "output_type": "stream",
     "text": [
      "The sum is: 55\n",
      "The product is: 3628800\n"
     ]
    }
   ],
   "source": [
    "# Initialize the sum and product variables to 0 and 1 respectively\n",
    "sum = 0\n",
    "product = 1\n",
    "\n",
    "# Loop through the numbers from 1 to 10 (excluding 11) using the 'range' function\n",
    "for num in range(1, 11):\n",
    "    sum += num # add the current number to the sum\n",
    "    product *= num # multiply the current number with the product\n",
    "\n",
    "# Print the final values of the sum and product\n",
    "print(\"The sum is:\", sum)\n",
    "print(\"The product is:\", product)\n",
    "\n"
   ]
  },
  {
   "cell_type": "markdown",
   "metadata": {},
   "source": [
    "Using a while loop:"
   ]
  },
  {
   "cell_type": "code",
   "execution_count": 12,
   "metadata": {},
   "outputs": [
    {
     "name": "stdout",
     "output_type": "stream",
     "text": [
      "The sum is: 55\n",
      "The product is: 3628800\n"
     ]
    }
   ],
   "source": [
    "# Initialize the sum, product, and num variables\n",
    "sum = 0\n",
    "product = 1\n",
    "num = 1\n",
    "\n",
    "# Loop through the numbers from 1 to 10 (inclusive)\n",
    "while num <= 10:\n",
    "    # Add the current number to the sum\n",
    "    sum += num\n",
    "    # Multiply the current number with the previous product\n",
    "    product *= num\n",
    "    # Increment the num variable\n",
    "    num += 1\n",
    "\n",
    "# Print the sum and product after the loop has completed\n",
    "print(\"The sum is:\", sum)\n",
    "print(\"The product is:\", product)\n",
    "\n"
   ]
  },
  {
   "cell_type": "markdown",
   "metadata": {},
   "source": [
    "Q3:-"
   ]
  },
  {
   "cell_type": "code",
   "execution_count": 3,
   "metadata": {},
   "outputs": [
    {
     "name": "stdout",
     "output_type": "stream",
     "text": [
      "The total electricity bill is: 2250.0\n"
     ]
    }
   ],
   "source": [
    "# This code is used to calculate the electricity bill for a household based on the units consumed in a month\n",
    "# Take the number of units consumed as input from the user\n",
    "\n",
    "units = int(input(\"Enter the number of units consumed: \"))\n",
    "# Initialize the total_bill to zero\n",
    "total_bill = 0\n",
    "\n",
    "# Calculate the electricity bill based on the number of units consumed\n",
    "if units <= 100:\n",
    "    total_bill = units * 4.5\n",
    "elif units <= 200:\n",
    "    total_bill = 100 * 4.5 + (units - 100) * 6\n",
    "elif units <= 300:\n",
    "    total_bill = 100 * 4.5 + 100 * 6 + (units - 200) * 10\n",
    "else:\n",
    "    total_bill = 100 * 4.5 + 100 * 6 + 100 * 10 + (units - 300) * 20\n",
    "\n",
    "# Display the total electricity bill to the user\n",
    "\n",
    "print(\"The total electricity bill is:\", total_bill)\n"
   ]
  },
  {
   "cell_type": "markdown",
   "metadata": {},
   "source": [
    "Q4:-\n",
    "\n",
    " Using For Loop:"
   ]
  },
  {
   "cell_type": "code",
   "execution_count": 4,
   "metadata": {},
   "outputs": [
    {
     "name": "stdout",
     "output_type": "stream",
     "text": [
      "[2, 4, 5, 6, 8, 10, 12, 14, 15, 16, 18, 20, 22, 24, 25, 26, 28, 30, 32, 34, 35, 36, 38, 40, 42, 44, 45, 46, 48, 50, 52, 54, 55, 56, 58, 60, 62, 64, 65, 66, 68, 70, 72, 74, 75, 76, 78, 80, 82, 84, 85, 86, 88, 90, 92, 94, 95, 96, 98, 100]\n"
     ]
    }
   ],
   "source": [
    "numbers = list(range(1, 101)) # create a list of numbers from 1 to 100\n",
    "result = []\n",
    "\n",
    "for num in numbers:\n",
    "    cube = num ** 3 # calculate the cube of the number\n",
    "    if cube % 4 == 0 or cube % 5 == 0: # check if the cube is divisible by 4 or 5\n",
    "        result.append(num) # append the number to the result list\n",
    "\n",
    "print(result) # print the result list\n"
   ]
  },
  {
   "cell_type": "markdown",
   "metadata": {},
   "source": [
    "Using While Loop:"
   ]
  },
  {
   "cell_type": "code",
   "execution_count": 5,
   "metadata": {},
   "outputs": [
    {
     "name": "stdout",
     "output_type": "stream",
     "text": [
      "[2, 4, 5, 6, 8, 10, 12, 14, 15, 16, 18, 20, 22, 24, 25, 26, 28, 30, 32, 34, 35, 36, 38, 40, 42, 44, 45, 46, 48, 50, 52, 54, 55, 56, 58, 60, 62, 64, 65, 66, 68, 70, 72, 74, 75, 76, 78, 80, 82, 84, 85, 86, 88, 90, 92, 94, 95, 96, 98, 100]\n"
     ]
    }
   ],
   "source": [
    "numbers = list(range(1, 101)) # create a list of numbers from 1 to 100\n",
    "result = []\n",
    "i = 0\n",
    "\n",
    "while i < len(numbers):\n",
    "    cube = numbers[i] ** 3 # calculate the cube of the number\n",
    "    if cube % 4 == 0 or cube % 5 == 0: # check if the cube is divisible by 4 or 5\n",
    "        result.append(numbers[i]) # append the number to the result list\n",
    "    i += 1\n",
    "\n",
    "print(result) # print the result list\n"
   ]
  },
  {
   "cell_type": "markdown",
   "metadata": {},
   "source": [
    "Q5:-\n"
   ]
  },
  {
   "cell_type": "code",
   "execution_count": 8,
   "metadata": {},
   "outputs": [
    {
     "name": "stdout",
     "output_type": "stream",
     "text": [
      "The number of vowels in the string is: 12\n"
     ]
    }
   ],
   "source": [
    "string= \"I want to become a data scientist\"\n",
    "vowels = ['a', 'e', 'i', 'o', 'u'] # define a list of vowels\n",
    "count = 0\n",
    "\n",
    "for char in string:\n",
    "    if char.lower() in vowels: # check if the character is a vowel\n",
    "        count += 1 # increment the count\n",
    "\n",
    "print(\"The number of vowels in the string is:\", count)\n",
    "\n"
   ]
  }
 ],
 "metadata": {
  "kernelspec": {
   "display_name": "Python 3.10.6 64-bit",
   "language": "python",
   "name": "python3"
  },
  "language_info": {
   "codemirror_mode": {
    "name": "ipython",
    "version": 3
   },
   "file_extension": ".py",
   "mimetype": "text/x-python",
   "name": "python",
   "nbconvert_exporter": "python",
   "pygments_lexer": "ipython3",
   "version": "3.10.6"
  },
  "orig_nbformat": 4,
  "vscode": {
   "interpreter": {
    "hash": "63963b3f4c440940f0b94a3100916033a226cb4f45979123153792d60aa56d6a"
   }
  }
 },
 "nbformat": 4,
 "nbformat_minor": 2
}
