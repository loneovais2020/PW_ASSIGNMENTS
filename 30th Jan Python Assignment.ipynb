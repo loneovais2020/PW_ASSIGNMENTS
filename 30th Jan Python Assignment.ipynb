{
 "cells": [
  {
   "cell_type": "markdown",
   "metadata": {},
   "source": [
    "Q1:-\n",
    "\n",
    "Here's a Python program to accept a percentage from the user and display the corresponding grade:"
   ]
  },
  {
   "cell_type": "code",
   "execution_count": 3,
   "metadata": {},
   "outputs": [
    {
     "name": "stdout",
     "output_type": "stream",
     "text": [
      "Your percentage is 89.0% and your grade is B.\n"
     ]
    }
   ],
   "source": [
    "percentage = float(input(\"Enter your percentage: \"))\n",
    "\n",
    "if percentage > 90:\n",
    "    grade = 'A'\n",
    "elif percentage > 80:\n",
    "    grade = 'B'\n",
    "elif percentage >= 60:\n",
    "    grade = 'C'\n",
    "else:\n",
    "    grade = 'D'\n",
    "\n",
    "print(f\"Your percentage is {percentage}% and your grade is {grade}.\")\n"
   ]
  },
  {
   "cell_type": "markdown",
   "metadata": {},
   "source": [
    "In this program, we first accept the percentage from the user using the input() function and store it in the percentage variable as a float.\n",
    "\n",
    "We then use a series of if-elif statements to check the value of the percentage and assign the corresponding grade to the grade variable.\n",
    "\n",
    "Finally, we use the print() function to display the percentage and grade to the user. We use an f-string to format the output string and include the values of the percentage and grade variables."
   ]
  },
  {
   "cell_type": "markdown",
   "metadata": {},
   "source": [
    "Q2:-\n",
    "\n",
    "Here's a Python program to accept the cost price of a bike and display the corresponding road tax:"
   ]
  },
  {
   "cell_type": "code",
   "execution_count": 4,
   "metadata": {},
   "outputs": [
    {
     "name": "stdout",
     "output_type": "stream",
     "text": [
      "The road tax for a bike with a cost price of Rs 100000.0 is Rs 10000.0.\n"
     ]
    }
   ],
   "source": [
    "cost_price = float(input(\"Enter the cost price of the bike (in Rs): \"))\n",
    "\n",
    "if cost_price > 100000:\n",
    "    tax = cost_price * 0.15\n",
    "elif cost_price > 50000:\n",
    "    tax = cost_price * 0.1\n",
    "else:\n",
    "    tax = cost_price * 0.05\n",
    "\n",
    "print(f\"The road tax for a bike with a cost price of Rs {cost_price} is Rs {tax}.\")\n"
   ]
  },
  {
   "cell_type": "markdown",
   "metadata": {},
   "source": [
    "In this program, we first accept the cost price of the bike from the user using the input() function and store it in the cost_price variable as a float.\n",
    "\n",
    "We then use a series of if-elif statements to check the value of the cost price and assign the corresponding tax rate to the tax variable.\n",
    "\n",
    "Finally, we use the print() function to display the cost price and road tax to the user. We use an f-string to format the output string and include the values of the cost_price and tax variables."
   ]
  },
  {
   "cell_type": "markdown",
   "metadata": {},
   "source": [
    "Q3:-\n",
    "\n",
    "Here's a Python program to accept a city from the user and display the corresponding monument:"
   ]
  },
  {
   "cell_type": "code",
   "execution_count": 5,
   "metadata": {},
   "outputs": [
    {
     "name": "stdout",
     "output_type": "stream",
     "text": [
      "The monument in delhi is Red Fort.\n"
     ]
    }
   ],
   "source": [
    "city = input(\"Enter a city name: \")\n",
    "\n",
    "if city.lower() == \"delhi\":\n",
    "    monument = \"Red Fort\"\n",
    "elif city.lower() == \"agra\":\n",
    "    monument = \"Taj Mahal\"\n",
    "elif city.lower() == \"jaipur\":\n",
    "    monument = \"Jal Mahal\"\n",
    "else:\n",
    "    monument = \"Unknown\"\n",
    "\n",
    "if monument != \"Unknown\":\n",
    "    print(f\"The monument in {city} is {monument}.\")\n",
    "else:\n",
    "    print(f\"Sorry, we do not have information about the monuments in {city}.\")\n",
    "\n"
   ]
  },
  {
   "cell_type": "markdown",
   "metadata": {},
   "source": [
    "In this program, we first accept a city name from the user using the input() function and store it in the city variable. We then use a series of if-elif statements to check the value of the city name and assign the corresponding monument to the monument variable.\n",
    "\n",
    "Finally, we use the print() function to display the monument to the user. We use an f-string to format the output string and include the values of the city and monument variables. If the monument is unknown for the entered city, then we print a message accordingly."
   ]
  },
  {
   "cell_type": "markdown",
   "metadata": {},
   "source": [
    "Q4:-\n",
    "\n",
    "Check how many times a given number can be divided by 3 before it is less than or equal to 10:-"
   ]
  },
  {
   "cell_type": "code",
   "execution_count": 8,
   "metadata": {},
   "outputs": [
    {
     "name": "stdout",
     "output_type": "stream",
     "text": [
      "The number can be divided by 3,   2 times before it is less than or equal to 10.\n"
     ]
    }
   ],
   "source": [
    "num = int(input(\"Enter a number: \"))\n",
    "count = 0\n",
    "while num > 10:\n",
    "    num /= 3\n",
    "    count += 1\n",
    "print(f\"The number can be divided by 3,{count} times before it is less than or equal to 10.\")\n"
   ]
  },
  {
   "cell_type": "markdown",
   "metadata": {},
   "source": [
    "In this program, we first accept a number from the user using the input() function and store it in the num variable as an integer. We then use a while loop to divide the number by 3 repeatedly until it is less than or equal to 10, keeping track of the number of divisions using the count variable.\n",
    "\n",
    "Finally, we use the print() function to display the number of times the number can be divided by 3 before it is less than or equal to 10."
   ]
  },
  {
   "cell_type": "markdown",
   "metadata": {},
   "source": [
    "Q5:-\n",
    "\n",
    "The while loop in Python is used to execute a block of code repeatedly as long as a specified condition is true. The syntax of the while loop is as follows:\n",
    "\n",
    "while condition:\n",
    "\n",
    "        statement(s)\n",
    "\n",
    "The loop will continue to execute the statements as long as the condition is true. Once the condition becomes false, the loop will exit.\n",
    "\n",
    "A while loop is useful when you want to repeat a block of code until a certain condition is met, such as when you need to repeatedly ask a user for input until they provide a valid response. It is also useful when you don't know in advance how many times you need to repeat the code.\n",
    "\n",
    "Here's an example of using a while loop to repeatedly ask a user for input until they provide a valid number:"
   ]
  },
  {
   "cell_type": "code",
   "execution_count": 10,
   "metadata": {},
   "outputs": [],
   "source": [
    "num = None\n",
    "while num is None:\n",
    "    try:\n",
    "        num = int(input(\"Enter a number: \"))\n",
    "    except ValueError:\n",
    "        print(\"Invalid input. Please enter a valid number.\")\n",
    "\n"
   ]
  },
  {
   "cell_type": "markdown",
   "metadata": {},
   "source": [
    "In this example, we use a while loop to repeatedly ask the user for input until they enter a valid integer. The loop will continue to execute as long as the value of num is None, which is initially the case.\n",
    "\n",
    "Inside the loop, we use a try-except block to attempt to convert the user's input to an integer using the int() function. If the conversion is successful, we assign the integer value to num and the loop will exit. If the conversion raises a ValueError, we print an error message and the loop will continue to execute."
   ]
  },
  {
   "cell_type": "markdown",
   "metadata": {},
   "source": [
    "Q6:-\n",
    "\n",
    "Use nested while loop to print 3 different patterns.\n",
    "\n",
    "Pattern 1:"
   ]
  },
  {
   "cell_type": "code",
   "execution_count": 11,
   "metadata": {},
   "outputs": [
    {
     "name": "stdout",
     "output_type": "stream",
     "text": [
      "1 \n",
      "1 2 \n",
      "1 2 3 \n",
      "1 2 3 4 \n",
      "1 2 3 4 5 \n"
     ]
    }
   ],
   "source": [
    "i = 1\n",
    "while i <= 5:\n",
    "    j = 1\n",
    "    while j <= i:\n",
    "        print(j, end=\" \")\n",
    "        j += 1\n",
    "    print()\n",
    "    i += 1\n"
   ]
  },
  {
   "cell_type": "markdown",
   "metadata": {},
   "source": [
    "Pattern 2:"
   ]
  },
  {
   "cell_type": "code",
   "execution_count": 12,
   "metadata": {},
   "outputs": [
    {
     "name": "stdout",
     "output_type": "stream",
     "text": [
      "1 2 3 4 5 \n",
      "1 2 3 4 \n",
      "1 2 3 \n",
      "1 2 \n",
      "1 \n"
     ]
    }
   ],
   "source": [
    "i = 5\n",
    "while i >= 1:\n",
    "    j = 1\n",
    "    while j <= i:\n",
    "        print(j, end=\" \")\n",
    "        j += 1\n",
    "    print()\n",
    "    i -= 1\n"
   ]
  },
  {
   "cell_type": "markdown",
   "metadata": {},
   "source": [
    "Q7:-\n",
    "\n",
    "Here is a program to display numbers from 10 to 1 using a while loop:"
   ]
  },
  {
   "cell_type": "code",
   "execution_count": 13,
   "metadata": {},
   "outputs": [
    {
     "name": "stdout",
     "output_type": "stream",
     "text": [
      "10\n",
      "9\n",
      "8\n",
      "7\n",
      "6\n",
      "5\n",
      "4\n",
      "3\n",
      "2\n",
      "1\n"
     ]
    }
   ],
   "source": [
    "num = 10\n",
    "while num >= 1:\n",
    "    print(num)\n",
    "    num -= 1\n"
   ]
  },
  {
   "cell_type": "markdown",
   "metadata": {},
   "source": [
    "Q8:-\n",
    "\n",
    "Note:- Sir/Mam,\n",
    "\n",
    "The question no. 7 and 8 are same. I think there has been some error, So please fix this issue.\n",
    "I will be uploading the screenshot as a proof in my github folder with the  name \"error.png\".\n",
    "\n",
    "\n",
    "\n",
    "\n"
   ]
  }
 ],
 "metadata": {
  "kernelspec": {
   "display_name": "Python 3.10.6 64-bit",
   "language": "python",
   "name": "python3"
  },
  "language_info": {
   "codemirror_mode": {
    "name": "ipython",
    "version": 3
   },
   "file_extension": ".py",
   "mimetype": "text/x-python",
   "name": "python",
   "nbconvert_exporter": "python",
   "pygments_lexer": "ipython3",
   "version": "3.10.6"
  },
  "orig_nbformat": 4,
  "vscode": {
   "interpreter": {
    "hash": "63963b3f4c440940f0b94a3100916033a226cb4f45979123153792d60aa56d6a"
   }
  }
 },
 "nbformat": 4,
 "nbformat_minor": 2
}
