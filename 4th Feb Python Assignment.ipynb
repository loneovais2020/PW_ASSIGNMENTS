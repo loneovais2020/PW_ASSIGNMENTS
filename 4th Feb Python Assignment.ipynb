{
 "cells": [
  {
   "cell_type": "markdown",
   "metadata": {},
   "source": [
    "Q1:-\n",
    "\n",
    "Here's a Python program to sort the given list of tuples based on the integer value using a lambda function:\n",
    "\n"
   ]
  },
  {
   "cell_type": "code",
   "execution_count": 1,
   "metadata": {},
   "outputs": [
    {
     "name": "stdout",
     "output_type": "stream",
     "text": [
      "[('Sachin Tendulkar', 34357), ('Ricky Ponting', 27483), ('Jack Kallis', 25534), ('Virat Kohli', 24936)]\n"
     ]
    }
   ],
   "source": [
    "tuples = [('Sachin Tendulkar', 34357), ('Ricky Ponting', 27483), ('Jack Kallis', 25534), ('Virat Kohli', 24936)]\n",
    "\n",
    "sorted_tuples = sorted(tuples, key=lambda x: x[1], reverse=True)\n",
    "\n",
    "print(sorted_tuples)\n"
   ]
  },
  {
   "cell_type": "markdown",
   "metadata": {},
   "source": [
    "The sorted() function takes two arguments: the list to be sorted, and a key function to specify the sorting order. In this case, we use a lambda function to extract the second element of each tuple, which is the integer value we want to sort on. We use the reverse=True argument to sort the list in descending order (highest to lowest).\n",
    "\n",
    "The sorted list is then printed to the console using the print() function."
   ]
  },
  {
   "cell_type": "markdown",
   "metadata": {},
   "source": [
    "Q2:-\n",
    "\n"
   ]
  },
  {
   "cell_type": "code",
   "execution_count": 4,
   "metadata": {},
   "outputs": [
    {
     "name": "stdout",
     "output_type": "stream",
     "text": [
      "[1, 4, 9, 16, 25, 36, 49, 64, 81, 100]\n"
     ]
    }
   ],
   "source": [
    "numbers = [1, 2, 3, 4, 5, 6, 7, 8, 9, 10]\n",
    "\n",
    "squares = list(map(lambda x: x**2, numbers))\n",
    "\n",
    "print(squares)\n"
   ]
  },
  {
   "cell_type": "markdown",
   "metadata": {},
   "source": [
    "This Python code demonstrates the use of the built-in map() function to apply a function (lambda x: x**2) to each element of a list of numbers. The resulting output is a new list squares containing the squares of each number in the original list.\n",
    "\n",
    "The map() function takes two arguments: a function and an iterable. In this case, the lambda function lambda x: x**2 squares each input number x, and the iterable is the list numbers. The list() function is used to convert the output of map() into a list.\n",
    "\n",
    "Finally, the resulting list of squared numbers is printed to the console using the print() function. The output should be: [1, 4, 9, 16, 25, 36, 49, 64, 81, 100]."
   ]
  },
  {
   "cell_type": "markdown",
   "metadata": {},
   "source": [
    "Q3:-\n",
    "\n",
    "Here's a Python program that uses map() and lambda functions to convert the given list of integers into a tuple of strings:"
   ]
  },
  {
   "cell_type": "code",
   "execution_count": 5,
   "metadata": {},
   "outputs": [
    {
     "name": "stdout",
     "output_type": "stream",
     "text": [
      "('1', '2', '3', '4', '5', '6', '7', '8', '9', '10')\n"
     ]
    }
   ],
   "source": [
    "numbers = [1, 2, 3, 4, 5, 6, 7, 8, 9, 10]\n",
    "strings = tuple(map(lambda x: str(x), numbers))\n",
    "print(strings)\n"
   ]
  },
  {
   "cell_type": "markdown",
   "metadata": {},
   "source": [
    "In this program, map() is used to apply the lambda function lambda x: str(x) to each element in the numbers list. This lambda function converts each integer to a string. The tuple() function is used to convert the resulting map object into a tuple.\n",
    "\n",
    "Finally, the resulting tuple of strings is printed to the console using the print() function. The output should be: ('1', '2', '3', '4', '5', '6', '7', '8', '9', '10')."
   ]
  },
  {
   "cell_type": "markdown",
   "metadata": {},
   "source": [
    "Q4:-\n",
    "\n",
    "Here's a Python program that uses the reduce() function to compute the product of a list containing numbers from 1 to 25:"
   ]
  },
  {
   "cell_type": "code",
   "execution_count": 6,
   "metadata": {},
   "outputs": [
    {
     "name": "stdout",
     "output_type": "stream",
     "text": [
      "15511210043330985984000000\n"
     ]
    }
   ],
   "source": [
    "from functools import reduce\n",
    "\n",
    "numbers = list(range(1, 26))\n",
    "product = reduce(lambda x, y: x * y, numbers)\n",
    "print(product)\n"
   ]
  },
  {
   "cell_type": "markdown",
   "metadata": {},
   "source": [
    "In this program, the functools module is imported to use the reduce() function. The numbers list is created using the range() function to generate a sequence of integers from 1 to 25.\n",
    "\n",
    "The reduce() function takes two arguments: a function and an iterable. In this case, the lambda function lambda x, y: x * y multiplies each pair of elements in the numbers list together, and the iterable is the numbers list itself.\n",
    "\n",
    "The resulting product of all the numbers in the list is stored in the variable product, and is printed to the console using the print() function. The output should be: 15511210043330985984000000."
   ]
  },
  {
   "cell_type": "markdown",
   "metadata": {},
   "source": [
    "Q5:-\n",
    "\n",
    "Here's a Python program that uses the filter() function to filter the numbers in a given list that are divisible by 2 and 3:"
   ]
  },
  {
   "cell_type": "code",
   "execution_count": 7,
   "metadata": {},
   "outputs": [
    {
     "name": "stdout",
     "output_type": "stream",
     "text": [
      "[6, 60, 90, 120]\n"
     ]
    }
   ],
   "source": [
    "numbers = [2, 3, 6, 9, 27, 60, 90, 120, 55, 46]\n",
    "divisible_by_2_and_3 = list(filter(lambda x: x % 2 == 0 and x % 3 == 0, numbers))\n",
    "print(divisible_by_2_and_3)\n"
   ]
  },
  {
   "cell_type": "markdown",
   "metadata": {},
   "source": [
    "In this program, the numbers list contains the given list of integers. The filter() function takes two arguments: a function and an iterable. In this case, the lambda function lambda x: x % 2 == 0 and x % 3 == 0 checks if each element x in the numbers list is divisible by both 2 and 3.\n",
    "\n",
    "The filter() function returns an iterator of all the elements in the numbers list that meet this condition. The list() function is used to convert this iterator into a list.\n",
    "\n",
    "Finally, the resulting list of numbers that are divisible by 2 and 3 is printed to the console using the print() function. The output should be: [6, 60, 90, 120]."
   ]
  },
  {
   "cell_type": "markdown",
   "metadata": {},
   "source": [
    "Q6:-\n",
    "\n",
    "Here's a Python program that uses the filter() function and a lambda function to find the palindromes in a given list of strings:"
   ]
  },
  {
   "cell_type": "code",
   "execution_count": 8,
   "metadata": {},
   "outputs": [
    {
     "name": "stdout",
     "output_type": "stream",
     "text": [
      "['php', 'aba', 'radar', 'level']\n"
     ]
    }
   ],
   "source": [
    "words = ['python', 'php', 'aba', 'radar', 'level']\n",
    "palindromes = list(filter(lambda x: x == x[::-1], words))\n",
    "print(palindromes)\n"
   ]
  },
  {
   "cell_type": "markdown",
   "metadata": {},
   "source": [
    "In this program, the words list contains the given list of strings. The filter() function takes two arguments: a function and an iterable. In this case, the lambda function lambda x: x == x[::-1] checks if each string x in the words list is equal to its reverse.\n",
    "\n",
    "The filter() function returns an iterator of all the elements in the words list that meet this condition. The list() function is used to convert this iterator into a list.\n",
    "\n",
    "Finally, the resulting list of palindromes is printed to the console using the print() function. The output should be: ['aba', 'radar', 'level']."
   ]
  }
 ],
 "metadata": {
  "kernelspec": {
   "display_name": "Python 3.10.6 64-bit",
   "language": "python",
   "name": "python3"
  },
  "language_info": {
   "codemirror_mode": {
    "name": "ipython",
    "version": 3
   },
   "file_extension": ".py",
   "mimetype": "text/x-python",
   "name": "python",
   "nbconvert_exporter": "python",
   "pygments_lexer": "ipython3",
   "version": "3.10.6"
  },
  "orig_nbformat": 4,
  "vscode": {
   "interpreter": {
    "hash": "63963b3f4c440940f0b94a3100916033a226cb4f45979123153792d60aa56d6a"
   }
  }
 },
 "nbformat": 4,
 "nbformat_minor": 2
}
