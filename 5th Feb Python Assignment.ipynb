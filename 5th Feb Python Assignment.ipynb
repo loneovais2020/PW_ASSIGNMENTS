{
 "cells": [
  {
   "cell_type": "markdown",
   "metadata": {},
   "source": [
    "Q1:-\n",
    "\n",
    " In Object-Oriented Programming (OOP), a class is a blueprint for creating objects that defines the properties and methods that will be associated with those objects. An object is an instance of a class that has its own unique state and behavior, based on the definitions within the class. For example, we might define a class called \"Car\" that has properties like make, model, and color, as well as methods like start() and stop(). We can then create individual instances (object) of the Car class, such as a red Honda Civic or a blue Ford Mustang."
   ]
  },
  {
   "cell_type": "markdown",
   "metadata": {},
   "source": [
    "Q2:-\n",
    "\n",
    "The four pillars of OOP are:\n",
    "\n",
    "Encapsulation - the practice of keeping data and the methods that operate on that data together in a single unit (i.e. a class), and restricting access to that data and methods from outside that unit.\n",
    "\n",
    "Inheritance - the ability of one class to inherit properties and methods from another class, allowing for code reuse and hierarchical relationships between classes.\n",
    "\n",
    "Polymorphism - the concept of objects of different classes being able to be used interchangeably, based on their shared behavior and interfaces.\n",
    "\n",
    "Abstraction - the practice of reducing complexity by only showing relevant details and hiding unnecessary details from users."
   ]
  },
  {
   "cell_type": "markdown",
   "metadata": {},
   "source": [
    "Q3:-\n",
    "\n",
    "The init() function is used as a constructor method in Python, which is called when an object is created from a class and allows us to initialize the object's properties. For example, we might define a class called \"Person\" and use the init() method to set properties like name, age, and gender for each instance of the class:"
   ]
  },
  {
   "cell_type": "code",
   "execution_count": 1,
   "metadata": {},
   "outputs": [],
   "source": [
    "class Person:\n",
    "  def __init__(self, name, age, gender):\n",
    "    self.name = name\n",
    "    self.age = age\n",
    "    self.gender = gender\n",
    "\n",
    "person1 = Person(\"John\", 30, \"Male\")\n",
    "person2 = Person(\"Jane\", 25, \"Female\")\n"
   ]
  },
  {
   "cell_type": "markdown",
   "metadata": {},
   "source": [
    "Q4:-\n",
    "\n",
    "In OOP, self is used to refer to the current instance of a class within its methods. When we create an object from a class, we are creating an instance of that class with its own unique set of properties and methods. By using the self keyword within the methods of the class, we can reference and manipulate the properties of that specific instance of the class.\n",
    "It should be noted that we can use any other identifier as well instead of self. "
   ]
  },
  {
   "cell_type": "markdown",
   "metadata": {},
   "source": [
    "Q5:-\n",
    "\n",
    "Inheritance is a mechanism in object-oriented programming where a new class is created by inheriting the attributes and methods of an existing class. The existing class is called the base class, parent class or superclass, and the new class is called the derived class, child class or subclass. This allows for code reuse and helps to create a hierarchical relationship between classes.\n",
    "\n",
    "In Python, there are various types of inheritance,some of the commonly used are as:\n",
    "\n",
    "Single inheritance: In single inheritance, a subclass inherits from only one superclass. This is the most common type of inheritance.\n",
    "Example:"
   ]
  },
  {
   "cell_type": "code",
   "execution_count": 2,
   "metadata": {},
   "outputs": [
    {
     "name": "stdout",
     "output_type": "stream",
     "text": [
      "Buddy\n",
      "Dog barking\n",
      "Animal speaking\n"
     ]
    }
   ],
   "source": [
    "class Animal:\n",
    "    def __init__(self, name):\n",
    "        self.name = name\n",
    "\n",
    "    def speak(self):\n",
    "        print(\"Animal speaking\")\n",
    "\n",
    "class Dog(Animal):\n",
    "    def __init__(self, name, breed):\n",
    "        super().__init__(name)\n",
    "        self.breed = breed\n",
    "\n",
    "    def bark(self):\n",
    "        print(\"Dog barking\")\n",
    "\n",
    "my_dog = Dog(\"Buddy\", \"Golden Retriever\")\n",
    "print(my_dog.name)   # output: Buddy\n",
    "my_dog.bark()        # output: Dog barking\n",
    "my_dog.speak()       # output: Animal speaking\n"
   ]
  },
  {
   "cell_type": "markdown",
   "metadata": {},
   "source": [
    "Multiple inheritance: In multiple inheritance, a subclass inherits from two or more superclasses.\n",
    "\n",
    "Example:"
   ]
  },
  {
   "cell_type": "code",
   "execution_count": 3,
   "metadata": {},
   "outputs": [
    {
     "name": "stdout",
     "output_type": "stream",
     "text": [
      "A speaking\n"
     ]
    }
   ],
   "source": [
    "class A:\n",
    "    def speak(self):\n",
    "        print(\"A speaking\")\n",
    "\n",
    "class B:\n",
    "    def speak(self):\n",
    "        print(\"B speaking\")\n",
    "\n",
    "class C(A, B):\n",
    "    pass\n",
    "\n",
    "my_c = C()\n",
    "my_c.speak()  # output: A speaking\n"
   ]
  },
  {
   "cell_type": "markdown",
   "metadata": {},
   "source": [
    "In this example, the C class inherits from both A and B classes. When C object calls speak(), it inherits the method from A as it is the first superclass in the list.\n",
    "\n",
    "Multi-level inheritance: In multi-level inheritance, a subclass inherits from a superclass, which in turn inherits from another superclass.\n",
    "\n",
    "Example:"
   ]
  },
  {
   "cell_type": "code",
   "execution_count": 4,
   "metadata": {},
   "outputs": [
    {
     "name": "stdout",
     "output_type": "stream",
     "text": [
      "Dog barking\n",
      "Animal speaking\n",
      "Golden Retriever fetching\n"
     ]
    }
   ],
   "source": [
    "class Animal:\n",
    "    def speak(self):\n",
    "        print(\"Animal speaking\")\n",
    "\n",
    "class Dog(Animal):\n",
    "    def bark(self):\n",
    "        print(\"Dog barking\")\n",
    "\n",
    "class GoldenRetriever(Dog):\n",
    "    def fetch(self):\n",
    "        print(\"Golden Retriever fetching\")\n",
    "\n",
    "my_dog = GoldenRetriever()\n",
    "my_dog.bark()      \n",
    "my_dog.speak()     \n",
    "my_dog.fetch()     \n"
   ]
  },
  {
   "cell_type": "markdown",
   "metadata": {},
   "source": [
    "In this example, GoldenRetriever class inherits from Dog class, which in turn inherits from Animal class. So, GoldenRetriever object has access to all the methods of Animal and Dog classes, as well as its own method fetch()."
   ]
  }
 ],
 "metadata": {
  "kernelspec": {
   "display_name": "Python 3.10.6 64-bit",
   "language": "python",
   "name": "python3"
  },
  "language_info": {
   "codemirror_mode": {
    "name": "ipython",
    "version": 3
   },
   "file_extension": ".py",
   "mimetype": "text/x-python",
   "name": "python",
   "nbconvert_exporter": "python",
   "pygments_lexer": "ipython3",
   "version": "3.10.6"
  },
  "orig_nbformat": 4,
  "vscode": {
   "interpreter": {
    "hash": "63963b3f4c440940f0b94a3100916033a226cb4f45979123153792d60aa56d6a"
   }
  }
 },
 "nbformat": 4,
 "nbformat_minor": 2
}
