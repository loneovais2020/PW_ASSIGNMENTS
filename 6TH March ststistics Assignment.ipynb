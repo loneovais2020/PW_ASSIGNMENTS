{
 "cells": [
  {
   "attachments": {},
   "cell_type": "markdown",
   "metadata": {},
   "source": [
    "Q1:-\n",
    "\n",
    "Statistics is a branch of mathematics that deals with the collection, analysis, interpretation, presentation, and organization of data. It involves using mathematical techniques and tools to study and draw conclusions about a group or population based on a sample of data. Statistics plays a critical role in many fields, including science, medicine, economics, psychology, and engineering, as it provides a systematic way of quantifying and analyzing data, which can be used to make informed decisions and predictions.\n",
    "\n",
    "The process of statistical analysis involves several steps, which include:\n",
    "\n",
    "Data Collection: The first step in statistical analysis is to collect data. This can be done through surveys, experiments, observations, or other methods, depending on the nature of the study.\n",
    "\n",
    "Data Preparation: Once the data is collected, it needs to be cleaned and prepared for analysis. This involves checking for errors, inconsistencies, and missing data, and organizing the data in a suitable format.\n",
    "\n",
    "Data Analysis: The next step is to analyze the data using statistical methods such as descriptive statistics, inferential statistics, regression analysis, and hypothesis testing. Descriptive statistics involve summarizing the data using measures such as mean, median, mode, and standard deviation. Inferential statistics involve making inferences and predictions about a population based on a sample of data.\n",
    "\n",
    "Data Interpretation: After the data is analyzed, it needs to be interpreted in the context of the study. This involves drawing conclusions, making recommendations, or formulating hypotheses based on the results.\n",
    "\n",
    "Communication: Finally, the results of the study need to be communicated to stakeholders in a clear and understandable manner. This can be done through reports, charts, graphs, or other visual aids.\n",
    "\n",
    "In summary, statistics provides a powerful tool for analyzing data and making informed decisions. It involves a systematic process of data collection, preparation, analysis, interpretation, and communication. By using statistical methods, researchers can draw conclusions and make predictions about a population based on a sample of data, which can be used to inform decision-making and drive progress in many fields."
   ]
  },
  {
   "attachments": {},
   "cell_type": "markdown",
   "metadata": {},
   "source": [
    "Q2:-\n",
    "\n",
    "There are two types of statistics: descriptive statistics and inferential statistics.\n",
    "\n",
    "Descriptive Statistics: Descriptive statistics are used to describe and summarize data. They provide a snapshot of the data, and are useful for identifying patterns, trends, and relationships within the data. Descriptive statistics are typically used to analyze data that is already available, and are often used in exploratory data analysis.\n",
    "Some common descriptive statistics include:\n",
    "\n",
    "Measures of central tendency, such as mean, median, and mode, which describe the typical or average value of a set of data.\n",
    "Measures of variability, such as range, standard deviation, and variance, which describe the spread or dispersion of the data.\n",
    "Frequency distributions, which show how often each value occurs in a set of data.\n",
    "Example: Descriptive statistics can be used to summarize the average height, weight, and age of a group of people. A researcher may use descriptive statistics to calculate the mean height, median weight, and standard deviation of age for a sample of participants in a study.\n",
    "\n",
    "Inferential Statistics: Inferential statistics are used to make inferences or predictions about a population based on a sample of data. They allow researchers to draw conclusions about a larger group based on a smaller subset of data. Inferential statistics are often used in hypothesis testing, where researchers test whether a particular hypothesis is supported by the data.\n",
    "Some common inferential statistics include:\n",
    "\n",
    "Confidence intervals, which estimate the range of values within which a population parameter is likely to fall.\n",
    "Hypothesis testing, which involves testing a hypothesis about a population based on a sample of data.\n",
    "Regression analysis, which allows researchers to model the relationship between two or more variables and make predictions about the value of one variable based on the value of another.\n",
    "Example: Inferential statistics can be used to determine whether a new drug is effective at treating a particular condition. Researchers may conduct a study in which they administer the drug to a sample of patients and compare the results to a control group. They can then use inferential statistics to determine whether the drug is effective at reducing symptoms, and whether the results are generalizable to the larger population of patients with the same condition."
   ]
  },
  {
   "attachments": {},
   "cell_type": "markdown",
   "metadata": {},
   "source": [
    "Q3:-\n",
    "\n",
    "There are two main types of data: qualitative and quantitative. Qualitative data refers to non-numeric data that can be observed but not measured, while quantitative data refers to numerical data that can be measured and analyzed.\n",
    "\n",
    "Qualitative Data:\n",
    "Qualitative data is non-numeric data that describes the characteristics or attributes of a population. It is used to identify and categorize different groups based on their attributes or characteristics. Qualitative data can be further divided into two subcategories: nominal and ordinal.\n",
    "\n",
    "a. Nominal Data: This type of data consists of categories that cannot be ranked or ordered, and it only distinguishes one group from another. Nominal data is also known as categorical data. Examples of nominal data include gender, race, and favorite color.\n",
    "\n",
    "b. Ordinal Data: This type of data consists of categories that can be ranked or ordered based on a specific criterion. Ordinal data is often used to show the order of preference, importance or frequency. Examples of ordinal data include rankings such as first, second, or third, or letter grades such as A, B, or C.\n",
    "\n",
    "Quantitative Data:\n",
    "Quantitative data is numerical data that can be measured and analyzed using statistical methods. It is used to describe, measure, or compare the attributes of a population. Quantitative data can be further divided into two subcategories: interval and ratio.\n",
    "\n",
    "a. Interval Data: This type of data consists of numerical data with equal intervals between the numbers, but there is no true zero point. For example, temperature can be measured in degrees Celsius or Fahrenheit, but a temperature of zero does not mean there is no heat.\n",
    "\n",
    "b. Ratio Data: This type of data consists of numerical data with equal intervals between the numbers and a true zero point. For example, weight and height are ratio data because they have a true zero point.\n",
    "\n",
    "In summary, qualitative data is non-numeric data that describes attributes or characteristics, while quantitative data is numerical data that can be measured and analyzed. Qualitative data is further divided into nominal and ordinal categories, while quantitative data is divided into interval and ratio categories. Understanding the different types of data is essential in choosing the appropriate statistical techniques for analysis."
   ]
  },
  {
   "attachments": {},
   "cell_type": "markdown",
   "metadata": {},
   "source": [
    "Q4:-\n",
    "\n",
    "(i) Qualitative data: Grading in exam\n",
    "\n",
    "(ii) Qualitative data: Colour of mangoes\n",
    "\n",
    "(iii) Quantitative data: Height data of a class\n",
    "\n",
    "(iv) Quantitative data: Number of mangoes exported by a farm\n"
   ]
  },
  {
   "attachments": {},
   "cell_type": "markdown",
   "metadata": {},
   "source": [
    "Q5:-\n",
    "\n",
    "Levels of measurement refer to the different ways in which data can be measured and classified. There are four levels of measurement: nominal, ordinal, interval, and ratio. Nominal data is categorical data with no inherent order, such as gender or favorite color. Ordinal data is categorical data with a specific order, such as ranking levels of education (elementary, high school, college, etc.). Interval data is numerical data with no true zero point, such as temperature. Ratio data is numerical data with a true zero point, such as weight or height."
   ]
  },
  {
   "attachments": {},
   "cell_type": "markdown",
   "metadata": {},
   "source": [
    "Q6:-\n",
    "\n",
    " Understanding the level of measurement is important when analyzing data because it determines which statistical methods can be used. For example, mean and standard deviation can only be used for interval and ratio data, not nominal or ordinal data. Using the wrong statistical method can lead to inaccurate conclusions and invalid results. For instance, calculating the average color of a group of cars would not make sense, because color is a nominal variable, and there is no logical ordering of colors."
   ]
  },
  {
   "attachments": {},
   "cell_type": "markdown",
   "metadata": {},
   "source": [
    "Q7:-\n",
    "\n",
    "Nominal data type is a type of data that is used to label variables without any quantitative value or order. For example, eye color, gender, or type of car. In contrast, ordinal data type is used to label variables with a quantitative value or order. For example, level of education, income, or level of satisfaction with a product."
   ]
  },
  {
   "attachments": {},
   "cell_type": "markdown",
   "metadata": {},
   "source": [
    "Q8:-\n",
    "\n",
    "A box plot or a box-and-whisker plot is often used to display data in terms of range. It is a graphical representation of the distribution of data that displays the median, quartiles, and extremes of the data. The box in the plot represents the middle 50% of the data, while the whiskers extend to the highest and lowest observations that fall within 1.5 times the interquartile range."
   ]
  },
  {
   "attachments": {},
   "cell_type": "markdown",
   "metadata": {},
   "source": [
    "Q9:-\n",
    "\n",
    "Descriptive statistics is the branch of statistics that deals with summarizing and describing the main features of a dataset. It involves measures such as mean, median, mode, standard deviation, variance, and range, which are used to provide a snapshot of the data. Examples of descriptive statistics include calculating the average height of students in a class or the percentage of people who own a car in a city.\n",
    "\n",
    "Inferential statistics, on the other hand, deals with making predictions or generalizations about a population based on a sample of data. It involves the use of probability theory and statistical models to draw conclusions about the population from the sample. Examples of inferential statistics include hypothesis testing, confidence intervals, and regression analysis, which are used to make predictions about the future, test the effectiveness of a new drug, or estimate the impact of a policy change."
   ]
  },
  {
   "attachments": {},
   "cell_type": "markdown",
   "metadata": {},
   "source": [
    "Q10:-\n",
    "\n",
    "Measures of central tendency are used to describe the central location of a dataset. The most common measures of central tendency are the mean, median, and mode. The mean is the arithmetic average of a dataset and is calculated by summing all the values and dividing by the number of observations. The median is the middle value in a dataset, and the mode is the value that occurs most frequently.\n",
    "\n",
    "Measures of variability are used to describe the spread or dispersion of a dataset. The most common measures of variability are the range, variance, and standard deviation. The range is the difference between the highest and lowest values in a dataset. The variance is the average of the squared differences from the mean, while the standard deviation is the square root of the variance. These measures can be used to describe how tightly or loosely the data points are clustered around the central tendency. For example, a small standard deviation indicates that the data points are closely clustered around the mean, while a large standard deviation indicates that the data points are widely spread out."
   ]
  }
 ],
 "metadata": {
  "language_info": {
   "name": "python"
  },
  "orig_nbformat": 4
 },
 "nbformat": 4,
 "nbformat_minor": 2
}
