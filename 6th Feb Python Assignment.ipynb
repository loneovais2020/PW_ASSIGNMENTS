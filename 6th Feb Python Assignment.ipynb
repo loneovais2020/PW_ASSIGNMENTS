{
 "cells": [
  {
   "cell_type": "markdown",
   "metadata": {},
   "source": [
    "Q1:-\n",
    "\n",
    "Here's a function that will take a list as an argument and return the product of all the numbers present in the list after creating a flat list:\n",
    "\n"
   ]
  },
  {
   "cell_type": "code",
   "execution_count": 85,
   "metadata": {},
   "outputs": [],
   "source": [
    "def product_of_numbers(lst):\n",
    "    flat_list = []\n",
    "    for elem in lst:\n",
    "        if type(elem) == list or type(elem) == tuple or type(elem) == set:\n",
    "            for i in elem:\n",
    "                if type(i)==int:\n",
    "                    flat_list.append(i)\n",
    "        elif type(elem) == dict:\n",
    "            for key, value in elem.items():\n",
    "                if type(key) == int or type(key) == float:\n",
    "                    flat_list.append(key)\n",
    "                if type(value) == int or type(value) == float:\n",
    "                    flat_list.append(value)\n",
    "\n",
    "                elif type(value)==list or type(value)==tuple:\n",
    "                    for j in value:\n",
    "                        flat_list.append(j)\n",
    "        elif type(elem) == int or type(elem) == float:\n",
    "            flat_list.append(elem)\n",
    "\n",
    "        \n",
    "    product = 1\n",
    "    for num in flat_list:\n",
    "        product *= num\n",
    "    return product\n"
   ]
  },
  {
   "cell_type": "code",
   "execution_count": 86,
   "metadata": {},
   "outputs": [
    {
     "data": {
      "text/plain": [
       "4134711838987085478833841242112000"
      ]
     },
     "execution_count": 86,
     "metadata": {},
     "output_type": "execute_result"
    }
   ],
   "source": [
    "list1 = [1,2,3,4, [44,55,66, True], False, (34,56,78,89,34), {1,2,3,3,2,1}, {1:34, \"key2\": [55, 67, 78, 89], 4: (45, 22, 61, 34)}, [56, 'data science'], 'Machine Learning']\n",
    "\n",
    "product_of_numbers(list1)"
   ]
  },
  {
   "cell_type": "markdown",
   "metadata": {},
   "source": [
    "The function product_of_numbers takes a list lst as input and returns the product of all the numbers present in the list. To do this, the function first creates a flat list by iterating over each element in lst and adding any numbers it finds to flat_list. It then calculates the product of the numbers in flat_list and returns the result.\n",
    "\n",
    "The function uses a series of if statements to handle different types of input elements:\n",
    "\n",
    "If the element is a list, tuple, or set, the function iterates over each element in the container and adds any numbers to flat_list.\n",
    "If the element is a dictionary, the function iterates over each key-value pair in the dictionary and adds any numbers it finds to flat_list. If the value associated with a key is a list or tuple, the function iterates over the elements in the container and adds any numbers to flat_list.\n",
    "If the element is a number (either an integer or a float), the function simply adds it to flat_list."
   ]
  },
  {
   "cell_type": "markdown",
   "metadata": {},
   "source": [
    "Q2:-\n",
    "\n",
    "Here's a Python program that encrypts a message based on the encryption logic provided:"
   ]
  },
  {
   "cell_type": "code",
   "execution_count": 87,
   "metadata": {},
   "outputs": [
    {
     "name": "stdout",
     "output_type": "stream",
     "text": [
      "r$dzmg$gl$yvxlnv$z$wzgz$hxrvmgrhg.\n"
     ]
    }
   ],
   "source": [
    "def encrypt_message(message):\n",
    "    # Convert the message to lowercase\n",
    "    message = message.lower()\n",
    "\n",
    "    # Create a dictionary to map letters to their encrypted counterparts\n",
    "    encryption_dict = {'a': 'z', 'b': 'y', 'c': 'x', 'd': 'w', 'e': 'v', 'f': 'u', 'g': 't', 'h': 's', 'i': 'r', 'j': 'q', 'k': 'p', 'l': 'o', 'm': 'n', 'n': 'm', 'o': 'l', 'p': 'k', 'q': 'j', 'r': 'i', 's': 'h', 't': 'g', 'u': 'f', 'v': 'e', 'w': 'd', 'x': 'c', 'y': 'b', 'z': 'a'}\n",
    "\n",
    "    # Replace whitespace with dollar signs\n",
    "    message = message.replace(' ', '$')\n",
    "\n",
    "    # Encrypt the message using the encryption dictionary\n",
    "    encrypted_message = ''\n",
    "    for char in message:\n",
    "        if char.isalpha():\n",
    "            encrypted_char = encryption_dict[char]\n",
    "        else:\n",
    "            encrypted_char = char\n",
    "        encrypted_message += encrypted_char\n",
    "\n",
    "    return encrypted_message\n",
    "\n",
    "\n",
    "\n",
    "message = \"I want to become a Data Scientist.\"\n",
    "encrypted_message = encrypt_message(message)\n",
    "print(encrypted_message)\n"
   ]
  },
  {
   "cell_type": "markdown",
   "metadata": {},
   "source": [
    "The encrypt_message function takes a message as input, and returns the encrypted message as output.\n",
    "\n",
    "The first thing the function does is convert the message to lowercase using the lower() method. This is to ensure that the encryption dictionary used in the function will work correctly, as the dictionary only contains lowercase letters.\n",
    "\n",
    "Next, the function creates a dictionary called encryption_dict that maps each letter to its encrypted counterpart. The encryption logic is provided in the problem statement: for example, 'a' is encrypted to 'z', 'b' is encrypted to 'y', and so on.\n",
    "\n",
    "After creating the encryption dictionary, the function replaces all whitespace characters in the message with dollar signs using the replace() method. This is also specified in the problem statement.\n",
    "\n",
    "Finally, the function loops through each character in the message, and checks whether it is a letter or not using the isalpha() method. If the character is a letter, it encrypts it using the encryption dictionary and adds the encrypted character to a new string called encrypted_message. If the character is not a letter (e.g. a punctuation mark or whitespace character), it adds it to encrypted_message without encrypting it.\n",
    "\n",
    "Once the loop is finished, the function returns the encrypted message."
   ]
  }
 ],
 "metadata": {
  "kernelspec": {
   "display_name": "Python 3.10.6 64-bit",
   "language": "python",
   "name": "python3"
  },
  "language_info": {
   "codemirror_mode": {
    "name": "ipython",
    "version": 3
   },
   "file_extension": ".py",
   "mimetype": "text/x-python",
   "name": "python",
   "nbconvert_exporter": "python",
   "pygments_lexer": "ipython3",
   "version": "3.10.6"
  },
  "orig_nbformat": 4,
  "vscode": {
   "interpreter": {
    "hash": "63963b3f4c440940f0b94a3100916033a226cb4f45979123153792d60aa56d6a"
   }
  }
 },
 "nbformat": 4,
 "nbformat_minor": 2
}
