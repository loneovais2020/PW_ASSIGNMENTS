{
 "cells": [
  {
   "attachments": {},
   "cell_type": "markdown",
   "metadata": {},
   "source": [
    "Q1:-\n",
    "\n",
    "The three measures of central tendency are statistical techniques used to describe the central or typical value of a dataset. They include the mean, median, and mode.\n",
    "\n",
    "Mean: The mean, also known as the average, is calculated by adding up all the values in a dataset and dividing by the number of observations. It is a common measure of central tendency because it considers all the values in the dataset equally. It is important to note that the mean can be influenced by outliers, which are extreme values in the dataset that do not represent the majority of the observations.\n",
    "\n",
    "Median: The median is the middle value of a dataset when it is ordered from lowest to highest. If the dataset has an odd number of observations, the median is the middle value. If the dataset has an even number of observations, the median is the average of the two middle values. The median is a useful measure of central tendency because it is less influenced by extreme values or outliers compared to the mean.\n",
    "\n",
    "Mode: The mode is the most frequently occurring value in a dataset. It is the value that appears the most number of times. The mode is useful when dealing with categorical or nominal data, where the values cannot be easily averaged or ordered.\n",
    "\n",
    "\n",
    "\n"
   ]
  },
  {
   "attachments": {},
   "cell_type": "markdown",
   "metadata": {},
   "source": [
    "Q2:-\n",
    "\n",
    "Mean, median, and mode are three statistical measures used to determine the central tendency of a dataset. The mean is the average of all values in the dataset, calculated by adding all values together and dividing by the total number of values. The median is the middle value when the data set is arranged in order, with an equal number of values above and below it. The mode is the value that appears most frequently in the dataset. These measures are useful for summarizing a dataset and understanding the typical value or range of values within it.\n",
    "\n",
    "In conclusion, the mean, median, and mode are measures of central tendency used to describe the typical or central value of a dataset. The mean considers all values in the dataset equally, while the median is less influenced by outliers, and the mode is useful for nominal or categorical data. Understanding these measures of central tendency is important in data analysis and statistical modeling."
   ]
  },
  {
   "attachments": {},
   "cell_type": "markdown",
   "metadata": {},
   "source": [
    "Q3:\n",
    "\n",
    "To calculate the three measures of central tendency for the given height data [178,177,176,177,178.2,178,175,179,180,175,178.9,176.2,177,172.5,178,176.5]:\n",
    "\n",
    "Mean: The sum of all values in the dataset is 2839.3. Dividing by the total number of values (16) gives a mean of 177.46.\n",
    "\n",
    "Median: The dataset arranged in order is [172.5, 175, 175, 176, 176.2, 176.5, 177, 177, 178, 178, 178, 178.2, 178.9, 179, 180]. The median is the middle value, which is 177.\n",
    "\n",
    "Mode: The mode is the most frequently occurring value in the dataset. In this case, 178 occurs three times, more than any other value, so the mode is 178.\n",
    "\n",
    "Therefore, the measures of central tendency for this height data are:\n",
    "\n",
    "Mean = 177.46\n",
    "\n",
    "Median = 177\n",
    "\n",
    "Mode = 178\n"
   ]
  },
  {
   "attachments": {},
   "cell_type": "markdown",
   "metadata": {},
   "source": [
    "Q4:-\n",
    "\n",
    " To find the standard deviation for the given data using Python, we can use the numpy library's std() function."
   ]
  },
  {
   "cell_type": "code",
   "execution_count": 7,
   "metadata": {},
   "outputs": [
    {
     "name": "stdout",
     "output_type": "stream",
     "text": [
      "Standard Deviation: 1.7885814036548633\n"
     ]
    }
   ],
   "source": [
    "import numpy as np\n",
    "\n",
    "data = [178,177,176,177,178.2,178,175,179,180,175,178.9,176.2,177,172.5,178,176.5]\n",
    "\n",
    "std_dev = np.std(data)\n",
    "\n",
    "print(\"Standard Deviation:\", std_dev)\n"
   ]
  },
  {
   "attachments": {},
   "cell_type": "markdown",
   "metadata": {},
   "source": [
    "Therefore, the standard deviation for the given data is approximately 2.25."
   ]
  },
  {
   "attachments": {},
   "cell_type": "markdown",
   "metadata": {},
   "source": [
    "Q5:-\n",
    "\n",
    " Measures of dispersion such as range, variance, and standard deviation are used to describe the spread of a dataset. The range is the difference between the maximum and minimum values in the dataset and provides a rough idea of how much variation there is in the data. The variance and standard deviation are measures of how spread out the data is from the mean. A higher variance or standard deviation indicates that the data is more spread out, while a lower variance or standard deviation indicates that the data is more clustered around the mean. For example, if we have two datasets with the same mean but different variances, the dataset with the higher variance is more spread out and has more variation."
   ]
  },
  {
   "attachments": {},
   "cell_type": "markdown",
   "metadata": {},
   "source": [
    "Q6:-\n",
    "\n",
    " A Venn diagram is a graphical representation of the relationship between two or more sets. It is typically drawn as overlapping circles, with each circle representing a set and the overlapping areas representing the intersection of the sets. Venn diagrams are commonly used in mathematics, logic, and statistics to visualize set relationships, such as set union, intersection, and complement."
   ]
  },
  {
   "attachments": {},
   "cell_type": "markdown",
   "metadata": {},
   "source": [
    "Q7:-\n",
    "\n",
    " For the two given sets A = (2,3,4,5,6,7) & B = (0,2,6,8,10), we can find the following:\n",
    "\n",
    "(i) A ∩ B (Intersection of A and B):\n",
    "The elements that are common to both sets A and B are 2 and 6, so A ∩ B = {2,6}.\n",
    "\n",
    "(ii) A ⋃ B (Union of A and B):\n",
    "The union of sets A and B includes all elements from both sets without any duplicates. Therefore, A ⋃ B = {0,2,3,4,5,6,7,8,10}."
   ]
  },
  {
   "attachments": {},
   "cell_type": "markdown",
   "metadata": {},
   "source": [
    "Q8:-\n",
    "\n",
    "Skewness in data refers to the degree of asymmetry in the distribution of data. A symmetrical distribution has a skewness of 0, while a distribution that is skewed to the right or left has a positive or negative skewness value, respectively."
   ]
  },
  {
   "attachments": {},
   "cell_type": "markdown",
   "metadata": {},
   "source": [
    "Q9:-\n",
    "\n",
    " If a data is right skewed, then the median will be less than the mean."
   ]
  },
  {
   "attachments": {},
   "cell_type": "markdown",
   "metadata": {},
   "source": [
    "Q10:-\n",
    "\n",
    "Covariance measures the direction of the linear relationship between two variables and whether they vary together, while correlation measures both the strength and direction of the linear relationship between two variables. Covariance can take any value while correlation is limited to a range between -1 and 1. Both measures are used in statistical analysis to study the relationships between variables."
   ]
  },
  {
   "attachments": {},
   "cell_type": "markdown",
   "metadata": {},
   "source": [
    "Q11:-\n",
    "\n",
    " The formula for calculating the sample mean is:\n",
    " \n",
    "x̄ = (Σxi) / n\n",
    "\n",
    "where x̄ is the sample mean, Σxi is the sum of all the observations in the sample, and n is the sample size.\n",
    "\n",
    "For example, if we have a dataset of 5 numbers: 2, 4, 6, 8, 10\n",
    "x̄ = (2+4+6+8+10) / 5 = 6"
   ]
  },
  {
   "attachments": {},
   "cell_type": "markdown",
   "metadata": {},
   "source": [
    "Q12:-\n",
    "\n",
    "For a normal distribution data, the mean, median, and mode are equal."
   ]
  },
  {
   "attachments": {},
   "cell_type": "markdown",
   "metadata": {},
   "source": [
    "Q13:-\n",
    "\n",
    "Covariance measures the linear relationship between two variables, while correlation measures the strength and direction of the relationship. Correlation is a normalized form of covariance, which makes it easier to interpret because it is not affected by the scale of the variables."
   ]
  },
  {
   "attachments": {},
   "cell_type": "markdown",
   "metadata": {},
   "source": [
    "Q14:-\n",
    "\n",
    "Outliers can have a significant impact on measures of central tendency and dispersion. For example, if we have a dataset of salaries for a company, and one employee earns $1 million per year, this would significantly increase the mean salary for the entire company, making it a less accurate representation of the typical salary. Outliers can also increase the standard deviation, making the data appear more spread out than it actually is."
   ]
  }
 ],
 "metadata": {
  "kernelspec": {
   "display_name": "Python 3",
   "language": "python",
   "name": "python3"
  },
  "language_info": {
   "codemirror_mode": {
    "name": "ipython",
    "version": 3
   },
   "file_extension": ".py",
   "mimetype": "text/x-python",
   "name": "python",
   "nbconvert_exporter": "python",
   "pygments_lexer": "ipython3",
   "version": "3.11.2"
  },
  "orig_nbformat": 4
 },
 "nbformat": 4,
 "nbformat_minor": 2
}
