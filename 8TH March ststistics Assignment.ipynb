{
 "cells": [
  {
   "attachments": {},
   "cell_type": "markdown",
   "metadata": {},
   "source": [
    "Q1:-\n",
    "\n",
    "A probability density function (PDF) is a function that describes the probability distribution of a continuous random variable. In other words, it provides the probability of observing a value within a certain range of values. The PDF is defined as the derivative of the cumulative distribution function (CDF)."
   ]
  },
  {
   "attachments": {},
   "cell_type": "markdown",
   "metadata": {},
   "source": [
    "Q2:-\n",
    "\n",
    "There are many types of probability distributions, including:\n",
    "\n",
    "Normal distribution\n",
    "\n",
    "Binomial distribution\n",
    "\n",
    "Poisson distribution\n",
    "\n",
    "Exponential distribution\n",
    "\n",
    "Uniform distribution\n",
    "\n",
    "Gamma distribution\n",
    "\n",
    "Chi-squared distribution\n",
    "\n"
   ]
  },
  {
   "attachments": {},
   "cell_type": "markdown",
   "metadata": {},
   "source": [
    "Q3:-\n",
    "\n",
    "Here is an example Python function that calculates the probability density function of a normal distribution:"
   ]
  },
  {
   "cell_type": "code",
   "execution_count": 2,
   "metadata": {},
   "outputs": [
    {
     "data": {
      "text/plain": [
       "0.3745483228169525"
      ]
     },
     "execution_count": 2,
     "metadata": {},
     "output_type": "execute_result"
    }
   ],
   "source": [
    "import math\n",
    "\n",
    "def normal_pdf(x, mu, sigma):\n",
    "    \"\"\"\n",
    "    Returns the value of the normal probability density function\n",
    "    with mean mu and standard deviation sigma at the point x.\n",
    "    \"\"\"\n",
    "    return (1 / (sigma * math.sqrt(2*math.pi))) * math.exp(-(x-mu)**2 / (2*sigma**2))\n",
    "\n",
    "normal_pdf(0.2,0.6,0.98)\n"
   ]
  },
  {
   "attachments": {},
   "cell_type": "markdown",
   "metadata": {},
   "source": [
    "Q4:-\n",
    "\n",
    "The binomial distribution is a discrete probability distribution that describes the number of successes in a fixed number of independent trials, each with the same probability of success. Some properties of the binomial distribution are:\n",
    "\n",
    "The total number of trials is fixed and denoted by n.\n",
    "Each trial is independent and has only two possible outcomes, success or failure.\n",
    "The probability of success is constant and denoted by p.\n",
    "The random variable X, which represents the number of successes in n trials, follows a binomial distribution.\n",
    "Two examples of events where binomial distribution can be applied are:\n",
    "\n",
    "The number of heads obtained in a fixed number of coin tosses.\n",
    "The number of defective items in a sample of fixed size drawn from a production line where the defective rate is constant."
   ]
  },
  {
   "attachments": {},
   "cell_type": "markdown",
   "metadata": {},
   "source": [
    "Q5:-\n",
    "\n",
    " Here's an example Python code to generate a random sample of size 1000 from a binomial distribution with probability of success 0.4 and plot a histogram of the results using matplotlib:"
   ]
  },
  {
   "cell_type": "code",
   "execution_count": 3,
   "metadata": {},
   "outputs": [
    {
     "data": {
      "image/png": "[encoded data removed]",
      "text/plain": [
       "<Figure size 640x480 with 1 Axes>"
      ]
     },
     "metadata": {},
     "output_type": "display_data"
    }
   ],
   "source": [
    "import numpy as np\n",
    "import matplotlib.pyplot as plt\n",
    "\n",
    "n = 1000\n",
    "p = 0.4\n",
    "\n",
    "# Generate random sample\n",
    "sample = np.random.binomial(n, p, size=1000)\n",
    "\n",
    "# Plot histogram\n",
    "plt.hist(sample, bins=20)\n",
    "plt.xlabel('Number of successes')\n",
    "plt.ylabel('Frequency')\n",
    "plt.title('Histogram of Binomial Distribution')\n",
    "plt.show()\n"
   ]
  },
  {
   "attachments": {},
   "cell_type": "markdown",
   "metadata": {},
   "source": [
    "Q6:-\n",
    "\n",
    "Here's an example Python function that calculates the cumulative distribution function of a Poisson distribution:"
   ]
  },
  {
   "cell_type": "code",
   "execution_count": 5,
   "metadata": {},
   "outputs": [
    {
     "data": {
      "text/plain": [
       "0.9160820579686966"
      ]
     },
     "execution_count": 5,
     "metadata": {},
     "output_type": "execute_result"
    }
   ],
   "source": [
    "import math\n",
    "\n",
    "def poisson_cdf(x, lam):\n",
    "    \"\"\"\n",
    "    Returns the value of the Poisson cumulative distribution function\n",
    "    with mean lam at the point x.\n",
    "    \"\"\"\n",
    "    cdf = 0\n",
    "    for i in range(x+1):\n",
    "        cdf += (lam**i / math.factorial(i)) * math.exp(-lam)\n",
    "    return cdf\n",
    "\n",
    "poisson_cdf(5,3)"
   ]
  },
  {
   "attachments": {},
   "cell_type": "markdown",
   "metadata": {},
   "source": [
    "Q7:-\n",
    "\n",
    "The binomial and Poisson distributions are both used to model the number of events in a given period or sample. However, they differ in several ways:\n",
    "\n",
    "The binomial distribution is used when the number of trials is fixed, whereas the Poisson distribution is used when the number of trials is large and the probability of success is small.\n",
    "\n",
    "The binomial distribution has two parameters, n and p, which represent the number of trials and the probability of success, respectively. The Poisson distribution has one parameter, λ, which represents the expected number of events in a given interval.\n",
    "\n",
    "The binomial distribution is discrete, while the Poisson distribution is a continuous approximation of a discrete distribution.\n",
    "\n",
    "The binomial distribution models the number of successes in a fixed number of trials, while the Poisson distribution models the number of events in a fixed interval of time or space.\n"
   ]
  },
  {
   "attachments": {},
   "cell_type": "markdown",
   "metadata": {},
   "source": [
    "\n",
    "Q8:-\n",
    "\n",
    "Here's an example Python code to generate a random sample of size 1000 from a Poisson distribution with mean 5 and calculate the sample mean and variance:"
   ]
  },
  {
   "cell_type": "code",
   "execution_count": 6,
   "metadata": {},
   "outputs": [
    {
     "name": "stdout",
     "output_type": "stream",
     "text": [
      "Sample mean: 4.937\n",
      "Sample variance: 4.891031\n"
     ]
    }
   ],
   "source": [
    "import numpy as np\n",
    "\n",
    "lam = 5\n",
    "\n",
    "# Generate random sample\n",
    "sample = np.random.poisson(lam, size=1000)\n",
    "\n",
    "# Calculate sample mean and variance\n",
    "sample_mean = np.mean(sample)\n",
    "sample_var = np.var(sample)\n",
    "\n",
    "print('Sample mean:', sample_mean)\n",
    "print('Sample variance:', sample_var)\n"
   ]
  },
  {
   "attachments": {},
   "cell_type": "markdown",
   "metadata": {},
   "source": [
    "Q9:-\n",
    "\n",
    "In both the binomial and Poisson distributions, the mean and variance are related. Specifically:\n",
    "\n",
    "For the binomial distribution, the mean is equal to np and the variance is equal to np*(1-p), where n is the number of trials and p is the probability of success.\n",
    "\n",
    "For the Poisson distribution, the mean is equal to λ and the variance is also equal to λ."
   ]
  },
  {
   "attachments": {},
   "cell_type": "markdown",
   "metadata": {},
   "source": [
    "Q10:-\n",
    "\n",
    "In both the binomial and Poisson distributions, the mean and variance are related. Specifically:\n",
    "\n",
    "For the binomial distribution, the mean is equal to np and the variance is equal to np*(1-p), where n is the number of trials and p is the probability of success.\n",
    "For the Poisson distribution, the mean is equal to λ and the variance is also equal to λ."
   ]
  }
 ],
 "metadata": {
  "kernelspec": {
   "display_name": "Python 3",
   "language": "python",
   "name": "python3"
  },
  "language_info": {
   "codemirror_mode": {
    "name": "ipython",
    "version": 3
   },
   "file_extension": ".py",
   "mimetype": "text/x-python",
   "name": "python",
   "nbconvert_exporter": "python",
   "pygments_lexer": "ipython3",
   "version": "3.11.2"
  },
  "orig_nbformat": 4
 },
 "nbformat": 4,
 "nbformat_minor": 2
}
