{
 "cells": [
  {
   "cell_type": "markdown",
   "metadata": {},
   "source": [
    "Q1:-\n",
    "\n",
    " Abstraction in OOPs refers to the process of hiding the implementation details of a class and exposing only the necessary information to the outside world. In other words, it means showing only what is essential and keeping the rest hidden.\n",
    "\n",
    "For example, consider a class called \"Car\". The implementation details of the Car class, such as the engine, the transmission, the suspension system, and so on, are all hidden from the outside world. Instead, only the essential information about the Car, such as its color, its model, its year, and so on, are exposed to the outside world.\n",
    "\n",
    "Here's an example code snippet for a Car class:"
   ]
  },
  {
   "cell_type": "code",
   "execution_count": 1,
   "metadata": {},
   "outputs": [],
   "source": [
    "class Car:\n",
    "    def __init__(self, model, year, color):\n",
    "        self.model = model\n",
    "        self.year = year\n",
    "        self.color = color\n",
    "        \n",
    "    def get_model(self):\n",
    "        return self.model\n",
    "    \n",
    "    def get_year(self):\n",
    "        return self.year\n",
    "    \n",
    "    def get_color(self):\n",
    "        return self.color\n"
   ]
  },
  {
   "cell_type": "markdown",
   "metadata": {},
   "source": [
    "In this example, the implementation details of the Car class, such as the engine, the transmission, and so on, are hidden from the outside world. Instead, only the essential information about the Car, such as its model, year, and color, are exposed through the getter methods."
   ]
  },
  {
   "cell_type": "markdown",
   "metadata": {},
   "source": [
    "Q2:-\n",
    "\n",
    " Abstraction and Encapsulation are two important concepts in OOPs, and while they are related, they are not the same thing.\n",
    "\n",
    "Abstraction refers to the process of hiding the implementation details of a class and exposing only the necessary information to the outside world.\n",
    "\n",
    "Encapsulation, on the other hand, refers to the process of wrapping the data and the methods that operate on the data into a single unit, known as a class.\n",
    "\n",
    "An example of encapsulation is shown below:"
   ]
  },
  {
   "cell_type": "code",
   "execution_count": 2,
   "metadata": {},
   "outputs": [],
   "source": [
    "class BankAccount:\n",
    "    def __init__(self, account_number, balance):\n",
    "        self.__account_number = account_number\n",
    "        self.__balance = balance\n",
    "        \n",
    "    def deposit(self, amount):\n",
    "        self.__balance += amount\n",
    "        \n",
    "    def withdraw(self, amount):\n",
    "        if amount <= self.__balance:\n",
    "            self.__balance -= amount\n",
    "        else:\n",
    "            print(\"Insufficient balance\")\n",
    "            \n",
    "    def get_balance(self):\n",
    "        return self.__balance\n"
   ]
  },
  {
   "cell_type": "markdown",
   "metadata": {},
   "source": [
    "In this example, the data and the methods that operate on the data are wrapped into a single unit, known as a class. The data, such as the account number and the balance, are encapsulated within the class, and can only be accessed through the methods such as deposit, withdraw, and get_balance."
   ]
  },
  {
   "cell_type": "markdown",
   "metadata": {},
   "source": [
    "Q3:-\n",
    "\n",
    " The abc module in Python stands for Abstract Base Classes. It is used to define abstract base classes, which are classes that cannot be instantiated and must be subclassed.\n",
    "\n",
    "The abc module provides the ABCMeta class, which is a metaclass that can be used to define abstract base classes.\n",
    "\n",
    "Here's an example of how to use the abc module to define an abstract base class:"
   ]
  },
  {
   "cell_type": "code",
   "execution_count": 3,
   "metadata": {},
   "outputs": [],
   "source": [
    "from abc import ABCMeta, abstractmethod\n",
    "\n",
    "class Shape(metaclass=ABCMeta):\n",
    "    @abstractmethod\n",
    "    def area(self):\n",
    "        pass\n",
    "    \n",
    "    @abstractmethod\n",
    "    def perimeter(self):\n",
    "        pass\n"
   ]
  },
  {
   "cell_type": "markdown",
   "metadata": {},
   "source": [
    "In this example, the Shape class is an abstract base class that defines two abstract methods, area and perimeter. These methods must be implemented by any subclass of the Shape class."
   ]
  },
  {
   "cell_type": "markdown",
   "metadata": {},
   "source": [
    "Q4:-\n",
    "\n",
    " Data abstraction can be achieved in Python by using abstract classes. Abstract classes are classes that cannot be instantiated directly and require the creation of subclasses to implement their abstract methods.\n",
    "\n",
    "Here's an example of how to create an abstract class in Python using the built-in abc module:"
   ]
  },
  {
   "cell_type": "code",
   "execution_count": 7,
   "metadata": {},
   "outputs": [],
   "source": [
    "import abc\n",
    "\n",
    "class Shape(metaclass=abc.ABCMeta):\n",
    "    @abc.abstractmethod\n",
    "    def area(self):\n",
    "        pass\n",
    "\n",
    "    @abc.abstractmethod\n",
    "    def perimeter(self):\n",
    "        pass\n"
   ]
  },
  {
   "cell_type": "markdown",
   "metadata": {},
   "source": [
    "In this example, the Shape class is an abstract class that defines two abstract methods, area() and perimeter(). Any class that inherits from Shape must implement these methods, otherwise, it will also be an abstract class.\n",
    "\n",
    "Here's an example of a subclass that implements these methods:"
   ]
  },
  {
   "cell_type": "code",
   "execution_count": 8,
   "metadata": {},
   "outputs": [],
   "source": [
    "class Square(Shape):\n",
    "    def __init__(self, side):\n",
    "        self.side = side\n",
    "\n",
    "    def area(self):\n",
    "        return self.side ** 2\n",
    "\n",
    "    def perimeter(self):\n",
    "        return 4 * self.side\n"
   ]
  },
  {
   "cell_type": "markdown",
   "metadata": {},
   "source": [
    "In this example, the Square class inherits from the Shape abstract class and implements the required methods. Any instance of Square can be treated as an instance of Shape, allowing for data abstraction.\n",
    "\n",
    "Here's an example of how to use these classes:"
   ]
  },
  {
   "cell_type": "code",
   "execution_count": 9,
   "metadata": {},
   "outputs": [
    {
     "name": "stdout",
     "output_type": "stream",
     "text": [
      "25\n",
      "20\n"
     ]
    }
   ],
   "source": [
    "s = Square(5)\n",
    "print(s.area())        \n",
    "print(s.perimeter())   \n"
   ]
  },
  {
   "cell_type": "markdown",
   "metadata": {},
   "source": [
    "In this example, s is an instance of Square, but can be treated as an instance of Shape due to the data abstraction achieved through the use of abstract classes."
   ]
  },
  {
   "cell_type": "markdown",
   "metadata": {},
   "source": [
    "Q5:-\n",
    "\n",
    " No, you cannot create an instance of an abstract class in Python. An abstract class is a class that contains one or more abstract methods, which are methods that are declared but not implemented. Abstract classes are used as a template for creating concrete subclasses that provide implementations for these abstract methods.\n",
    "\n",
    "To create an abstract class in Python, you can use the abc module, which provides the ABC class and the abstractmethod() decorator. Here is an example:"
   ]
  },
  {
   "cell_type": "code",
   "execution_count": 6,
   "metadata": {},
   "outputs": [
    {
     "name": "stdout",
     "output_type": "stream",
     "text": [
      "200\n"
     ]
    }
   ],
   "source": [
    "import abc\n",
    "\n",
    "class Shape(abc.ABC):\n",
    "    @abc.abstractmethod\n",
    "    def area(self):\n",
    "        pass\n",
    "\n",
    "class Rectangle(Shape):\n",
    "    def __init__(self, width, height):\n",
    "        self._width = width\n",
    "        self._height = height\n",
    "\n",
    "    def area(self):\n",
    "        return self._width * self._height\n",
    "\n",
    "rect = Rectangle(10, 20)\n",
    "print(rect.area())  \n"
   ]
  },
  {
   "cell_type": "markdown",
   "metadata": {},
   "source": [
    "In this example, we have defined an abstract Shape class that contains one abstract method, area(). We cannot create an instance of the Shape class directly because it is abstract, but we can create a concrete subclass, Rectangle, that provides an implementation for the area() method. By subclassing Shape and providing an implementation for area(), we can create an instance of Rectangle and call its area() method to calculate the area of the rectangle."
   ]
  }
 ],
 "metadata": {
  "kernelspec": {
   "display_name": "Python 3.10.6 64-bit",
   "language": "python",
   "name": "python3"
  },
  "language_info": {
   "codemirror_mode": {
    "name": "ipython",
    "version": 3
   },
   "file_extension": ".py",
   "mimetype": "text/x-python",
   "name": "python",
   "nbconvert_exporter": "python",
   "pygments_lexer": "ipython3",
   "version": "3.10.6"
  },
  "orig_nbformat": 4,
  "vscode": {
   "interpreter": {
    "hash": "63963b3f4c440940f0b94a3100916033a226cb4f45979123153792d60aa56d6a"
   }
  }
 },
 "nbformat": 4,
 "nbformat_minor": 2
}
