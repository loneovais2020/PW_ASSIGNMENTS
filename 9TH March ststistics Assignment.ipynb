{
 "cells": [
  {
   "attachments": {},
   "cell_type": "markdown",
   "metadata": {},
   "source": [
    "Q1:-\n",
    "\n",
    " Probability Mass Function (PMF) and Probability Density Function (PDF) are mathematical concepts used in probability theory and statistics to describe the likelihood of different outcomes in a random experiment or event.\n",
    "\n",
    "PMF is a function that maps the values of a discrete random variable to their probabilities. It provides the probability that a discrete random variable takes a certain value. For example, consider a coin toss where the probability of getting heads is p = 0.5 and the probability of getting tails is q = 0.5. The PMF for this experiment can be represented as follows:\n",
    "\n",
    "PMF (X = k) = {p, if k = 1\n",
    "\n",
    "q, if k = 0 }\n",
    "\n",
    "PDF, on the other hand, is a function that describes the probability distribution of a continuous random variable. It provides the probability density at each possible value of the variable. For example, consider the height of a population of people, which is a continuous random variable. The PDF for this variable can be represented as follows:\n",
    "\n",
    "f(x) = 1 / (σ * √(2π)) * e^(-((x-μ)^2)/(2σ^2))\n",
    "\n",
    "where μ is the mean and σ is the standard deviation of the population."
   ]
  },
  {
   "attachments": {},
   "cell_type": "markdown",
   "metadata": {},
   "source": [
    "Q2: Cumulative Density Function (CDF) is a function that maps the values of a random variable to their cumulative probabilities. It gives the probability that a random variable takes a value less than or equal to a certain value. CDF is calculated by summing up all the probabilities of the random variable up to a certain value.\n",
    "\n",
    "For example, consider a random variable X with PMF as follows:\n",
    "\n",
    "X = 0 with probability 0.2\n",
    "\n",
    "X = 1 with probability 0.3\n",
    "\n",
    "X = 2 with probability 0.5\n",
    "\n",
    "\n",
    "The CDF for X can be calculated as follows:\n",
    "\n",
    "F(x) = P(X ≤ x)\n",
    "\n",
    "= 0, if x < 0\n",
    "\n",
    "= 0.2, if 0 ≤ x < 1\n",
    "\n",
    "= 0.5, if 1 ≤ x < 2\n",
    "\n",
    "= 1, if x ≥ 2\n",
    "\n",
    "\n",
    "CDF is used to calculate the probability of a random variable taking a certain value or less. It also helps to determine the percentile rank of a particular observation.\n"
   ]
  },
  {
   "attachments": {},
   "cell_type": "markdown",
   "metadata": {},
   "source": [
    "Q3:-\n",
    "\n",
    " The normal distribution, also known as the Gaussian distribution, is used as a model in situations where the data follows a bell-shaped curve. It is a continuous probability distribution that is symmetrical around its mean. Some examples of situations where the normal distribution might be used as a model are:\n",
    "\n",
    "Height or weight measurements of people\n",
    "\n",
    "Test scores of a large population\n",
    "\n",
    "IQ scores of a population\n",
    "\n",
    "Errors in measurements\n",
    "\n",
    "The parameters of the normal distribution are the mean (μ) and standard deviation (σ). The mean determines the location of the peak of the distribution, while the standard deviation determines the spread of the distribution. A larger standard deviation indicates a wider spread of the data, while a smaller standard deviation indicates a narrower spread."
   ]
  },
  {
   "attachments": {},
   "cell_type": "markdown",
   "metadata": {},
   "source": [
    "Q4:-\n",
    "\n",
    " The normal distribution is important in statistics because it is a widely used model for many real-world phenomena. Many statistical techniques and models, such as regression analysis and hypothesis testing, assume that the data follow a normal distribution. Some real-life examples of the normal distribution are:\n",
    "\n",
    "IQ scores: IQ scores are known to follow a normal distribution with a mean of 100 and a standard deviation of 15.\n",
    "\n",
    "Height of people: The height of people in a large population follows a normal distribution with a mean of around 5'9\" and a standard deviation of around 3 inches.\n",
    "\n",
    "Body temperature: The normal human body temperature follows a normal distribution with a mean of around 98.6°F and a standard deviation of around 0.7°F.\n"
   ]
  },
  {
   "attachments": {},
   "cell_type": "markdown",
   "metadata": {},
   "source": [
    "Q5:-\n",
    "\n",
    " Bernoulli distribution is a discrete probability distribution that models the probability of a binary outcome, such as success or failure, or heads or tails. It has only two possible outcomes, denoted by 1 and 0, and a single parameter p that represents the probability of success.\n",
    "\n",
    "For example, the outcome of flipping a coin can be modeled using a Bernoulli distribution with p = 0.5, where 1 represents heads and 0 represents tails.\n",
    "\n",
    "The difference between Bernoulli distribution and binomial distribution is that Bernoulli distribution models a single trial or experiment with only two possible outcomes, while binomial distribution models a series of independent Bernoulli trials with the same probability of success.\n",
    "\n"
   ]
  },
  {
   "attachments": {},
   "cell_type": "markdown",
   "metadata": {},
   "source": [
    "Q6:-\n",
    "\n",
    " To calculate the probability that a randomly selected observation from a normally distributed dataset with a mean of 50 and a standard deviation of 10 will be greater than 60, we can use the standard normal distribution and the z-score formula.\n",
    "\n",
    "First, we calculate the z-score using the formula:\n",
    "z = (60 - 50) / 10 = 1\n",
    "\n",
    "Then, we use a standard normal distribution table or calculator to find the area under the curve to the right of z = 1, which is approximately 0.1587.\n",
    "\n",
    "Therefore, the probability of a randomly selected observation from the dataset being greater than 60 is 0.1587 or 15.87%.\n",
    "\n"
   ]
  },
  {
   "attachments": {},
   "cell_type": "markdown",
   "metadata": {},
   "source": [
    "Q7:-\n",
    "\n",
    " Uniform distribution is a continuous probability distribution where all possible outcomes have an equal chance of occurring. It is characterized by a constant probability density function.\n",
    "\n",
    "For example, the height of a tree in a forest may follow a uniform distribution if all the trees have an equal chance of reaching any height between a certain range.\n",
    "\n"
   ]
  },
  {
   "attachments": {},
   "cell_type": "markdown",
   "metadata": {},
   "source": [
    "Q8:-\n",
    "\n",
    " The z-score is a standardized score that measures the distance between a data point and the mean of a dataset in units of standard deviation. It is used to compare observations from different datasets, and to determine the relative position of an observation within a dataset.\n",
    "\n",
    "The importance of the z-score is that it allows us to compare observations from different datasets that have different means and standard deviations. It also allows us to determine the percentage of observations that fall above or below a certain value."
   ]
  },
  {
   "attachments": {},
   "cell_type": "markdown",
   "metadata": {},
   "source": [
    "Q9:-\n",
    "\n",
    " The Central Limit Theorem (CLT) is a fundamental concept in statistics that states that the sampling distribution of the mean of any independent and identically distributed (iid) random variables will approach a normal distribution as the sample size increases, regardless of the underlying distribution of the individual data points. This theorem is important because it allows us to make inferences about the population parameters based on sample statistics, even when the population distribution is unknown or non-normal.\n",
    "\n",
    "The significance of the Central Limit Theorem is that it forms the basis for many statistical techniques and models, such as hypothesis testing and confidence interval estimation, that are widely used in many fields of study. It also allows us to make accurate predictions and decisions based on a small sample of data."
   ]
  },
  {
   "attachments": {},
   "cell_type": "markdown",
   "metadata": {},
   "source": [
    "Q10:-\n",
    "\n",
    " The Central Limit Theorem relies on several assumptions:\n",
    "\n",
    "Independence: The individual data points must be independent of each other.\n",
    "\n",
    "Identical distribution: The data points must be drawn from the same underlying distribution.\n",
    "\n",
    "Finite variance: The distribution of the individual data points must have a finite variance.\n",
    "\n",
    "Sample size: The sample size must be sufficiently large. A commonly used rule of thumb is that the sample size should be at least 30, although this may vary depending on the distribution of the individual data points."
   ]
  }
 ],
 "metadata": {
  "language_info": {
   "name": "python"
  },
  "orig_nbformat": 4
 },
 "nbformat": 4,
 "nbformat_minor": 2
}
