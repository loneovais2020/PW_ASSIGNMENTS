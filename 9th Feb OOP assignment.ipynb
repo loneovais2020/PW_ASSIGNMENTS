{
 "cells": [
  {
   "cell_type": "markdown",
   "metadata": {},
   "source": [
    "Q1:-\n",
    "\n",
    "\n",
    "Here's the implementation of the Vehicle class with the __init__ method that initializes the instance variables:"
   ]
  },
  {
   "cell_type": "code",
   "execution_count": 1,
   "metadata": {},
   "outputs": [],
   "source": [
    "class Vehicle:\n",
    "    def __init__(self, name_of_vehicle, max_speed, average_of_vehicle):\n",
    "        self.name_of_vehicle = name_of_vehicle\n",
    "        self.max_speed = max_speed\n",
    "        self.average_of_vehicle = average_of_vehicle\n"
   ]
  },
  {
   "cell_type": "markdown",
   "metadata": {},
   "source": [
    "Q2:-\n",
    "\n",
    "\n",
    "Here's the implementation of the Car class that inherits from the Vehicle class and has a seating_capacity method:"
   ]
  },
  {
   "cell_type": "code",
   "execution_count": 2,
   "metadata": {},
   "outputs": [],
   "source": [
    "class Car(Vehicle):\n",
    "    def seating_capacity(self, capacity):\n",
    "        return f\"{self.name_of_vehicle} has a seating capacity of {capacity} passengers.\"\n"
   ]
  },
  {
   "cell_type": "markdown",
   "metadata": {},
   "source": [
    "Q3:-\n",
    "\n",
    "\n",
    "Multiple inheritance is a feature of object-oriented programming where a class can inherit from more than one parent class. This allows the child class to have the properties and methods of all its parent classes.\n",
    "\n",
    "Here's an example of a Python code demonstrating multiple inheritance:"
   ]
  },
  {
   "cell_type": "code",
   "execution_count": 3,
   "metadata": {},
   "outputs": [
    {
     "name": "stdout",
     "output_type": "stream",
     "text": [
      "This is method 1 of Parent 1.\n",
      "This is method 2 of Parent 2.\n"
     ]
    }
   ],
   "source": [
    "class Parent1:\n",
    "    def method1(self):\n",
    "        print(\"This is method 1 of Parent 1.\")\n",
    "        \n",
    "class Parent2:\n",
    "    def method2(self):\n",
    "        print(\"This is method 2 of Parent 2.\")\n",
    "        \n",
    "class Child(Parent1, Parent2):\n",
    "    pass\n",
    "\n",
    "c = Child()\n",
    "c.method1()  \n",
    "c.method2()  \n"
   ]
  },
  {
   "cell_type": "markdown",
   "metadata": {},
   "source": [
    "In the above code, the Child class inherits from both Parent1 and Parent2 classes. As a result, the Child class has access to the methods of both parent classes."
   ]
  },
  {
   "cell_type": "markdown",
   "metadata": {},
   "source": [
    "Q4:-\n",
    "\n",
    "\n",
    "Getter and setter methods are used to access and modify the private attributes of a class. Here's an example of a class with getter and setter methods:"
   ]
  },
  {
   "cell_type": "code",
   "execution_count": 5,
   "metadata": {},
   "outputs": [
    {
     "name": "stdout",
     "output_type": "stream",
     "text": [
      "10\n"
     ]
    }
   ],
   "source": [
    "class MyClass:\n",
    "    def __init__(self):\n",
    "        self.__value = 0  # private attribute\n",
    "        \n",
    "    def get_value(self):\n",
    "        return self.__value\n",
    "        \n",
    "    def set_value(self, value):\n",
    "        self.__value = value\n",
    "        \n",
    "obj = MyClass()\n",
    "obj.set_value(10)\n",
    "print(obj.get_value())  \n"
   ]
  },
  {
   "cell_type": "markdown",
   "metadata": {},
   "source": [
    "In the above code, the MyClass class has a private attribute __value. The get_value method is used to access this attribute, and the set_value method is used to modify this attribute."
   ]
  },
  {
   "cell_type": "markdown",
   "metadata": {},
   "source": [
    "Q5\n",
    "Method overriding is a feature of object-oriented programming where a child class provides its own implementation for a method that is already defined in its parent class. Here's an example of a Python code demonstrating method overriding:"
   ]
  },
  {
   "cell_type": "code",
   "execution_count": 7,
   "metadata": {},
   "outputs": [
    {
     "name": "stdout",
     "output_type": "stream",
     "text": [
      "This is the method of the child class.\n"
     ]
    }
   ],
   "source": [
    "class Parent:\n",
    "    def method(self):\n",
    "        print(\"This is the method of the parent class.\")\n",
    "        \n",
    "class Child(Parent):\n",
    "    def method(self):\n",
    "        print(\"This is the method of the child class.\")\n",
    "        \n",
    "c = Child()\n",
    "c.method()  \n"
   ]
  },
  {
   "cell_type": "markdown",
   "metadata": {},
   "source": [
    "In the above code, the Child class overrides the method of the Parent class with its own implementation. When we call the method on an instance of the Child class, it calls the implementation provided by the Child class instead of the implementation provided by the Parent class."
   ]
  }
 ],
 "metadata": {
  "kernelspec": {
   "display_name": "Python 3.10.6 64-bit",
   "language": "python",
   "name": "python3"
  },
  "language_info": {
   "codemirror_mode": {
    "name": "ipython",
    "version": 3
   },
   "file_extension": ".py",
   "mimetype": "text/x-python",
   "name": "python",
   "nbconvert_exporter": "python",
   "pygments_lexer": "ipython3",
   "version": "3.10.6"
  },
  "orig_nbformat": 4,
  "vscode": {
   "interpreter": {
    "hash": "63963b3f4c440940f0b94a3100916033a226cb4f45979123153792d60aa56d6a"
   }
  }
 },
 "nbformat": 4,
 "nbformat_minor": 2
}
